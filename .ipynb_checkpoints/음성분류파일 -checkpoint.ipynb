{
 "cells": [
  {
   "cell_type": "code",
   "execution_count": 1397,
   "id": "44f26c3c",
   "metadata": {},
   "outputs": [],
   "source": [
    "from pytube import YouTube\n",
    "import glob\n",
    "import os.path\n",
    "import warnings\n",
    "warnings.filterwarnings(action='ignore')\n",
    "import numpy as np\n",
    "import matplotlib.pyplot as plt\n",
    "import IPython.display as ipd\n",
    "import librosa\n",
    "import librosa.display\n",
    "import soundfile as sf\n",
    "from pydub import AudioSegment\n",
    "from pydub.playback import play\n",
    "import time\n",
    "from multiprocessing import Process\n",
    "import pandas as pd \n",
    "import moviepy.editor as mp"
   ]
  },
  {
   "cell_type": "markdown",
   "id": "65e0d0fe",
   "metadata": {},
   "source": [
    "## 데이터 전처리"
   ]
  },
  {
   "cell_type": "markdown",
   "id": "33987978",
   "metadata": {},
   "source": [
    "### 배우 영상 -> 음원으로 바꿔주기 \n",
    "- 유튜브에서 pytube라이브러리를 이용 영상 크롤링 "
   ]
  },
  {
   "cell_type": "code",
   "execution_count": 1465,
   "id": "14ee2a07",
   "metadata": {
    "scrolled": false
   },
   "outputs": [
    {
     "name": "stdout",
     "output_type": "stream",
     "text": [
      "success\n",
      "success\n",
      "success\n",
      "success\n",
      "success\n",
      "success\n",
      "success\n",
      "success\n",
      "success\n",
      "success\n"
     ]
    }
   ],
   "source": [
    "path1 = './older/1'    # 배우 영상 다운로드 \n",
    "#유튜브 전용 인스턴스 생성\n",
    "url_list = [\"https://www.youtube.com/watch?v=w_ZXqUwVns0\", \"https://www.youtube.com/watch?v=oVI_kvmGErc\", \"https://www.youtube.com/watch?v=gNCfUM5ZjJo&t=1s\", \"https://www.youtube.com/watch?v=bApNIAm5H5I\", \"https://www.youtube.com/watch?v=1xL4c4d18aI\", \"https://www.youtube.com/watch?v=vlNXXRwgbEY\", \"https://www.youtube.com/watch?v=BhPTR1eee8E\", \"https://www.youtube.com/watch?v=mMz_6yXw-Ik\", \"https://www.youtube.com/watch?v=UAXYEVhWB0c\", \"https://www.youtube.com/watch?v=6ewTTRmTYB4\"] # 영상 url 넣기 \n",
    "url_series = pd.Series(url_list)\n",
    "for i in range(0,len(url_series)):\n",
    "    yt = YouTube(url_list[i])\n",
    "    yt.streams.filter(only_audio=True).all()\n",
    "    # 특정영상 다운로드\n",
    "    yt.streams.filter(only_audio=True).first().download(path1)\n",
    "    print('success')  \n",
    "    # 확장자 변경\n",
    "    files = glob.glob(f\"{path1}/*.mp4\")\n",
    "    for x in files:\n",
    "        if not os.path.isdir(x):\n",
    "            filename = os.path.splitext(x)\n",
    "            try:\n",
    "                os.rename(x,filename[0] + '.wav')\n",
    "            except:\n",
    "                pass  "
   ]
  },
  {
   "cell_type": "code",
   "execution_count": null,
   "id": "24c3adb4",
   "metadata": {},
   "outputs": [],
   "source": [
    "# 이후 파일 명을 1, 2,3,4,5,6으로 바꿔주기 \n",
    "#  moviepy.editor라이브러리 이용 wav파일 변환 "
   ]
  },
  {
   "cell_type": "code",
   "execution_count": 1466,
   "id": "13c6bce0",
   "metadata": {
    "collapsed": true
   },
   "outputs": [
    {
     "name": "stdout",
     "output_type": "stream",
     "text": [
      "MoviePy - Writing audio in ./older/2/1.wav\n"
     ]
    },
    {
     "name": "stderr",
     "output_type": "stream",
     "text": [
      "                                                                                                                       \r"
     ]
    },
    {
     "name": "stdout",
     "output_type": "stream",
     "text": [
      "MoviePy - Done.\n",
      "MoviePy - Writing audio in ./older/2/2.wav\n"
     ]
    },
    {
     "name": "stderr",
     "output_type": "stream",
     "text": [
      "                                                                                                                       \r"
     ]
    },
    {
     "name": "stdout",
     "output_type": "stream",
     "text": [
      "MoviePy - Done.\n",
      "MoviePy - Writing audio in ./older/2/3.wav\n"
     ]
    },
    {
     "name": "stderr",
     "output_type": "stream",
     "text": [
      "                                                                                                                       \r"
     ]
    },
    {
     "name": "stdout",
     "output_type": "stream",
     "text": [
      "MoviePy - Done.\n",
      "MoviePy - Writing audio in ./older/2/4.wav\n"
     ]
    },
    {
     "name": "stderr",
     "output_type": "stream",
     "text": [
      "                                                                                                                       \r"
     ]
    },
    {
     "name": "stdout",
     "output_type": "stream",
     "text": [
      "MoviePy - Done.\n",
      "MoviePy - Writing audio in ./older/2/5.wav\n"
     ]
    },
    {
     "name": "stderr",
     "output_type": "stream",
     "text": [
      "                                                                                                                       \r"
     ]
    },
    {
     "name": "stdout",
     "output_type": "stream",
     "text": [
      "MoviePy - Done.\n",
      "MoviePy - Writing audio in ./older/2/6.wav\n"
     ]
    },
    {
     "name": "stderr",
     "output_type": "stream",
     "text": [
      "                                                                                                                       \r"
     ]
    },
    {
     "name": "stdout",
     "output_type": "stream",
     "text": [
      "MoviePy - Done.\n",
      "MoviePy - Writing audio in ./older/2/7.wav\n"
     ]
    },
    {
     "name": "stderr",
     "output_type": "stream",
     "text": [
      "                                                                                                                       \r"
     ]
    },
    {
     "name": "stdout",
     "output_type": "stream",
     "text": [
      "MoviePy - Done.\n",
      "MoviePy - Writing audio in ./older/2/8.wav\n"
     ]
    },
    {
     "name": "stderr",
     "output_type": "stream",
     "text": [
      "                                                                                                                       \r"
     ]
    },
    {
     "name": "stdout",
     "output_type": "stream",
     "text": [
      "MoviePy - Done.\n",
      "MoviePy - Writing audio in ./older/2/9.wav\n"
     ]
    },
    {
     "name": "stderr",
     "output_type": "stream",
     "text": [
      "                                                                                                                       \r"
     ]
    },
    {
     "name": "stdout",
     "output_type": "stream",
     "text": [
      "MoviePy - Done.\n",
      "MoviePy - Writing audio in ./older/2/10.wav\n"
     ]
    },
    {
     "name": "stderr",
     "output_type": "stream",
     "text": [
      "                                                                                                                       "
     ]
    },
    {
     "name": "stdout",
     "output_type": "stream",
     "text": [
      "MoviePy - Done.\n"
     ]
    },
    {
     "name": "stderr",
     "output_type": "stream",
     "text": [
      "\r"
     ]
    }
   ],
   "source": [
    "path2 = './older/2'  # 배우이름 바꾸기 \n",
    "\n",
    "for i in range(0,len(url_series)):\n",
    "    clip = mp.AudioFileClip(f\"{path1}/{i+1}.wav\")\n",
    "    clip.to_audiofile(f\"{path2}/{i+1}.wav\")\n"
   ]
  },
  {
   "cell_type": "code",
   "execution_count": null,
   "id": "c2735fb9",
   "metadata": {},
   "outputs": [],
   "source": [
    "## librosa 라이브러리, soundfile 라이브러리 이용하여 sampling_rate 16000hz로 변환, "
   ]
  },
  {
   "cell_type": "code",
   "execution_count": 1467,
   "id": "fe9694e0",
   "metadata": {
    "scrolled": true
   },
   "outputs": [
    {
     "name": "stdout",
     "output_type": "stream",
     "text": [
      "original wav sr: 22050, original wav shape: (3510360,), resample wav sr: 16000, resmaple shape: (2547200,)\n",
      "original wav sr: 22050, original wav shape: (14889042,), resample wav sr: 16000, resmaple shape: (10803840,)\n",
      "original wav sr: 22050, original wav shape: (18633794,), resample wav sr: 16000, resmaple shape: (13521121,)\n",
      "original wav sr: 22050, original wav shape: (6640578,), resample wav sr: 16000, resmaple shape: (4818560,)\n",
      "original wav sr: 22050, original wav shape: (17369006,), resample wav sr: 16000, resmaple shape: (12603361,)\n",
      "original wav sr: 22050, original wav shape: (10286105,), resample wav sr: 16000, resmaple shape: (7463841,)\n",
      "original wav sr: 22050, original wav shape: (7346178,), resample wav sr: 16000, resmaple shape: (5330560,)\n",
      "original wav sr: 22050, original wav shape: (3861396,), resample wav sr: 16000, resmaple shape: (2801920,)\n",
      "original wav sr: 22050, original wav shape: (6320192,), resample wav sr: 16000, resmaple shape: (4586081,)\n",
      "original wav sr: 22050, original wav shape: (3750926,), resample wav sr: 16000, resmaple shape: (2721761,)\n"
     ]
    }
   ],
   "source": [
    "path3='./older/3'\n",
    "\n",
    "for i in range(0,len(url_series)):\n",
    "    audio_path = f'{path2}/{i+1}.wav'   \n",
    "    x, sr = librosa.load(audio_path, mono=bool)\n",
    "    resample = librosa.resample(x, sr, 16000)\n",
    "    print(\"original wav sr: {}, original wav shape: {}, resample wav sr: {}, resmaple shape: {}\".format(sr, x.shape, 16000, resample.shape))\n",
    "    sf.write(f'{path3}/' + f'{i+1}.wav', resample, 16000, format='WAV', endian='LITTLE', subtype='PCM_16')\n",
    " \n",
    "\n"
   ]
  },
  {
   "cell_type": "code",
   "execution_count": null,
   "id": "02f5b5a7",
   "metadata": {},
   "outputs": [],
   "source": [
    "# 웹사이트 인공신경망 기반 배경음제거, 해당 배우의 음성 3초 분할 "
   ]
  },
  {
   "cell_type": "code",
   "execution_count": null,
   "id": "5a7cb1a0",
   "metadata": {},
   "outputs": [],
   "source": [
    "### mfcc, chroma_stft, rmse, zero crossing_rate등 음성파라미터 26개 추출 "
   ]
  },
  {
   "cell_type": "code",
   "execution_count": null,
   "id": "77fc9eb7",
   "metadata": {},
   "outputs": [],
   "source": [
    "header = 'filename chroma_stft rmse spectral_centroid spectral_bandwidth rolloff zero_crossing_rate'\n",
    "for i in range(1, 21):\n",
    "    header += f' mfcc{i}' \n",
    "header += ' label'\n",
    "header = header.split()\n",
    "file = open('data_gender.csv', 'w', newline='')   \n",
    "with file:\n",
    "    writer = csv.writer(file)\n",
    "    writer.writerow(header)\n",
    "gender = 'female male'.split()\n",
    "for g in gender:\n",
    "    for filename in os.listdir(f'./gender1/{g}'):\n",
    "        songname = f'./gender1/{g}/{filename}'\n",
    "        y, sr = librosa.load(songname, mono=True, sr=16000)\n",
    "        chroma_stft = librosa.feature.chroma_stft(y=y, sr=16000)\n",
    "        rmse = librosa.feature.rms(y=y)\n",
    "        spec_cent = librosa.feature.spectral_centroid(y=y, sr=16000)\n",
    "        spec_bw = librosa.feature.spectral_bandwidth(y=y, sr=16000)\n",
    "        rolloff = librosa.feature.spectral_rolloff(y=y, sr=16000)\n",
    "        zcr = librosa.feature.zero_crossing_rate(y)\n",
    "        mfcc = librosa.feature.mfcc(y=y, sr=16000)\n",
    "        to_append = f'{filename} {np.mean(chroma_stft)} {np.mean(rmse)} {np.mean(spec_cent)} {np.mean(spec_bw)} {np.mean(rolloff)} {np.mean(zcr)}'    \n",
    "        for e in mfcc:\n",
    "            to_append += f' {np.mean(e)}'\n",
    "        to_append += f' {g}'\n",
    "        file = open('data_gender.csv', 'a', newline='')\n",
    "        with file:\n",
    "            writer = csv.writer(file)\n",
    "            writer.writerow(to_append.split())"
   ]
  },
  {
   "cell_type": "code",
   "execution_count": null,
   "id": "43d68ead",
   "metadata": {},
   "outputs": [],
   "source": [
    "# 라벨인코딩, 스캐일링 "
   ]
  },
  {
   "cell_type": "code",
   "execution_count": null,
   "id": "fd832c10",
   "metadata": {},
   "outputs": [],
   "source": []
  },
  {
   "cell_type": "code",
   "execution_count": 1,
   "id": "b045719c",
   "metadata": {},
   "outputs": [],
   "source": [
    "import librosa\n",
    "import pandas as pd\n",
    "import numpy as np\n",
    "import matplotlib.pyplot as plt\n",
    "%matplotlib inline\n",
    "import os\n",
    "import csv\n",
    "# Preprocessing\n",
    "from sklearn.model_selection import train_test_split\n",
    "from sklearn.preprocessing import LabelEncoder, StandardScaler\n",
    "#Keras\n",
    "import keras\n",
    "import tensorflow as tf"
   ]
  },
  {
   "cell_type": "markdown",
   "id": "790e13ad",
   "metadata": {},
   "source": [
    "### 성별 분석 "
   ]
  },
  {
   "cell_type": "code",
   "execution_count": 413,
   "id": "c3db19dd",
   "metadata": {
    "scrolled": true
   },
   "outputs": [],
   "source": [
    "data = pd.read_csv('data_gender.csv')"
   ]
  },
  {
   "cell_type": "code",
   "execution_count": 414,
   "id": "d9e97284",
   "metadata": {},
   "outputs": [],
   "source": [
    "# Dropping unneccesary columns\n",
    "data = data.drop(['filename'],axis=1)"
   ]
  },
  {
   "cell_type": "code",
   "execution_count": 415,
   "id": "915daa61",
   "metadata": {},
   "outputs": [
    {
     "name": "stdout",
     "output_type": "stream",
     "text": [
      "[0 0 0 ... 1 1 1]\n"
     ]
    }
   ],
   "source": [
    "# 라벨 인코딩 \n",
    "gender_list = data.iloc[:, -1]\n",
    "encoder = LabelEncoder()\n",
    "y = encoder.fit_transform(gender_list)\n",
    "print(y)"
   ]
  },
  {
   "cell_type": "code",
   "execution_count": 416,
   "id": "8dfebdaf",
   "metadata": {},
   "outputs": [],
   "source": [
    "# 데이터 스케일링 \n",
    "scaler = StandardScaler()\n",
    "X = scaler.fit_transform(np.array(data.iloc[:, :-1], dtype = float))"
   ]
  },
  {
   "cell_type": "code",
   "execution_count": 417,
   "id": "23abd638",
   "metadata": {},
   "outputs": [],
   "source": [
    "X_train, X_test, y_train, y_test = train_test_split(X, y, test_size=0.2, random_state=123)"
   ]
  },
  {
   "cell_type": "code",
   "execution_count": 418,
   "id": "b6c4d8af",
   "metadata": {},
   "outputs": [],
   "source": [
    "from keras import models\n",
    "from keras import layers\n",
    "from tensorflow.keras.models import Sequential\n",
    "from tensorflow.keras.layers import Dropout\n",
    "from tensorflow.keras.callbacks import EarlyStopping"
   ]
  },
  {
   "cell_type": "code",
   "execution_count": 449,
   "id": "6c538313",
   "metadata": {},
   "outputs": [
    {
     "name": "stdout",
     "output_type": "stream",
     "text": [
      "Model: \"sequential_64\"\n",
      "_________________________________________________________________\n",
      " Layer (type)                Output Shape              Param #   \n",
      "=================================================================\n",
      " dense_127 (Dense)           (None, 256)               6912      \n",
      "                                                                 \n",
      " dropout_80 (Dropout)        (None, 256)               0         \n",
      "                                                                 \n",
      " dense_128 (Dense)           (None, 128)               32896     \n",
      "                                                                 \n",
      " dropout_81 (Dropout)        (None, 128)               0         \n",
      "                                                                 \n",
      " dense_129 (Dense)           (None, 64)                8256      \n",
      "                                                                 \n",
      " dropout_82 (Dropout)        (None, 64)                0         \n",
      "                                                                 \n",
      " dense_130 (Dense)           (None, 64)                4160      \n",
      "                                                                 \n",
      " dropout_83 (Dropout)        (None, 64)                0         \n",
      "                                                                 \n",
      " dense_131 (Dense)           (None, 32)                2080      \n",
      "                                                                 \n",
      " dropout_84 (Dropout)        (None, 32)                0         \n",
      "                                                                 \n",
      " dense_132 (Dense)           (None, 16)                528       \n",
      "                                                                 \n",
      " dropout_85 (Dropout)        (None, 16)                0         \n",
      "                                                                 \n",
      " dense_133 (Dense)           (None, 2)                 34        \n",
      "                                                                 \n",
      "=================================================================\n",
      "Total params: 54,866\n",
      "Trainable params: 54,866\n",
      "Non-trainable params: 0\n",
      "_________________________________________________________________\n"
     ]
    }
   ],
   "source": [
    "model = models.Sequential()\n",
    "model.add(layers.Dense(256, activation='relu', input_shape=(X_train.shape[1],)))\n",
    "model.add(Dropout(0.3))\n",
    "model.add(layers.Dense(128, activation='relu'))\n",
    "model.add(Dropout(0.3))\n",
    "model.add(layers.Dense(64, activation='relu'))\n",
    "model.add(Dropout(0.3))\n",
    "model.add(layers.Dense(64, activation='relu'))\n",
    "model.add(Dropout(0.3))\n",
    "model.add(layers.Dense(32, activation='sigmoid'))\n",
    "model.add(Dropout(0.3))\n",
    "model.add(layers.Dense(16, activation='relu'))\n",
    "model.add(Dropout(0.3))\n",
    "model.add(layers.Dense(2, activation='softmax'))\n",
    "model.summary()"
   ]
  },
  {
   "cell_type": "code",
   "execution_count": 450,
   "id": "8056baba",
   "metadata": {},
   "outputs": [],
   "source": [
    "model.compile(optimizer='adam',\n",
    "              loss='sparse_categorical_crossentropy',\n",
    "              metrics=['accuracy'])"
   ]
  },
  {
   "cell_type": "code",
   "execution_count": 451,
   "id": "cb443b31",
   "metadata": {},
   "outputs": [],
   "source": [
    "early_stopping_callback = EarlyStopping(monitor = 'val_loss', patience=5)"
   ]
  },
  {
   "cell_type": "code",
   "execution_count": 452,
   "id": "6885b039",
   "metadata": {
    "scrolled": false
   },
   "outputs": [
    {
     "name": "stdout",
     "output_type": "stream",
     "text": [
      "Epoch 1/27\n",
      "80/80 [==============================] - 1s 3ms/step - loss: 0.6839 - accuracy: 0.5661 - val_loss: 0.5091 - val_accuracy: 0.8492\n",
      "Epoch 2/27\n",
      "80/80 [==============================] - 0s 2ms/step - loss: 0.4203 - accuracy: 0.8393 - val_loss: 0.3047 - val_accuracy: 0.9002\n",
      "Epoch 3/27\n",
      "80/80 [==============================] - 0s 2ms/step - loss: 0.3450 - accuracy: 0.8828 - val_loss: 0.2617 - val_accuracy: 0.9002\n",
      "Epoch 4/27\n",
      "80/80 [==============================] - 0s 2ms/step - loss: 0.3011 - accuracy: 0.9004 - val_loss: 0.2311 - val_accuracy: 0.9069\n",
      "Epoch 5/27\n",
      "80/80 [==============================] - 0s 2ms/step - loss: 0.2777 - accuracy: 0.9091 - val_loss: 0.2155 - val_accuracy: 0.9180\n",
      "Epoch 6/27\n",
      "80/80 [==============================] - 0s 2ms/step - loss: 0.2562 - accuracy: 0.9157 - val_loss: 0.2408 - val_accuracy: 0.9135\n",
      "Epoch 7/27\n",
      "80/80 [==============================] - 0s 2ms/step - loss: 0.2428 - accuracy: 0.9165 - val_loss: 0.2244 - val_accuracy: 0.9113\n",
      "Epoch 8/27\n",
      "80/80 [==============================] - 0s 2ms/step - loss: 0.2482 - accuracy: 0.9212 - val_loss: 0.2255 - val_accuracy: 0.9224\n",
      "Epoch 9/27\n",
      "80/80 [==============================] - 0s 2ms/step - loss: 0.2342 - accuracy: 0.9212 - val_loss: 0.2084 - val_accuracy: 0.9157\n",
      "Epoch 10/27\n",
      "80/80 [==============================] - 0s 2ms/step - loss: 0.2327 - accuracy: 0.9247 - val_loss: 0.1935 - val_accuracy: 0.9180\n",
      "Epoch 11/27\n",
      "80/80 [==============================] - 0s 2ms/step - loss: 0.2261 - accuracy: 0.9228 - val_loss: 0.1843 - val_accuracy: 0.9180\n",
      "Epoch 12/27\n",
      "80/80 [==============================] - 0s 2ms/step - loss: 0.2189 - accuracy: 0.9290 - val_loss: 0.1802 - val_accuracy: 0.9202\n",
      "Epoch 13/27\n",
      "80/80 [==============================] - 0s 2ms/step - loss: 0.2080 - accuracy: 0.9302 - val_loss: 0.2168 - val_accuracy: 0.9135\n",
      "Epoch 14/27\n",
      "80/80 [==============================] - 0s 2ms/step - loss: 0.2005 - accuracy: 0.9326 - val_loss: 0.1934 - val_accuracy: 0.9268\n",
      "Epoch 15/27\n",
      "80/80 [==============================] - 0s 2ms/step - loss: 0.1990 - accuracy: 0.9326 - val_loss: 0.1736 - val_accuracy: 0.9224\n",
      "Epoch 16/27\n",
      "80/80 [==============================] - 0s 2ms/step - loss: 0.1875 - accuracy: 0.9314 - val_loss: 0.2008 - val_accuracy: 0.9180\n",
      "Epoch 17/27\n",
      "80/80 [==============================] - 0s 2ms/step - loss: 0.1881 - accuracy: 0.9334 - val_loss: 0.1606 - val_accuracy: 0.9335\n",
      "Epoch 18/27\n",
      "80/80 [==============================] - 0s 2ms/step - loss: 0.1651 - accuracy: 0.9388 - val_loss: 0.1881 - val_accuracy: 0.9113\n",
      "Epoch 19/27\n",
      "80/80 [==============================] - 0s 2ms/step - loss: 0.1726 - accuracy: 0.9412 - val_loss: 0.1667 - val_accuracy: 0.9246\n",
      "Epoch 20/27\n",
      "80/80 [==============================] - 0s 2ms/step - loss: 0.1604 - accuracy: 0.9381 - val_loss: 0.1495 - val_accuracy: 0.9335\n",
      "Epoch 21/27\n",
      "80/80 [==============================] - 0s 2ms/step - loss: 0.1595 - accuracy: 0.9428 - val_loss: 0.1671 - val_accuracy: 0.9424\n",
      "Epoch 22/27\n",
      "80/80 [==============================] - 0s 2ms/step - loss: 0.1458 - accuracy: 0.9510 - val_loss: 0.1742 - val_accuracy: 0.9290\n",
      "Epoch 23/27\n",
      "80/80 [==============================] - 0s 2ms/step - loss: 0.1486 - accuracy: 0.9447 - val_loss: 0.2193 - val_accuracy: 0.9135\n",
      "Epoch 24/27\n",
      "80/80 [==============================] - 0s 2ms/step - loss: 0.1412 - accuracy: 0.9479 - val_loss: 0.1673 - val_accuracy: 0.9313\n",
      "Epoch 25/27\n",
      "80/80 [==============================] - 0s 2ms/step - loss: 0.1464 - accuracy: 0.9486 - val_loss: 0.1758 - val_accuracy: 0.9224\n",
      "Epoch 26/27\n",
      "80/80 [==============================] - 0s 2ms/step - loss: 0.1325 - accuracy: 0.9514 - val_loss: 0.1667 - val_accuracy: 0.9246\n",
      "Epoch 27/27\n",
      "80/80 [==============================] - 0s 2ms/step - loss: 0.1278 - accuracy: 0.9506 - val_loss: 0.1405 - val_accuracy: 0.9379\n"
     ]
    }
   ],
   "source": [
    "history = model.fit(X_train,\n",
    "                    y_train,\n",
    "                    epochs=27,\n",
    "                    batch_size=32,\n",
    "                    validation_split=0.15,\n",
    "                   )"
   ]
  },
  {
   "cell_type": "code",
   "execution_count": 671,
   "id": "5183e053",
   "metadata": {
    "scrolled": true
   },
   "outputs": [
    {
     "name": "stdout",
     "output_type": "stream",
     "text": [
      "94/94 [==============================] - 0s 1ms/step - loss: 0.0818 - accuracy: 0.9744\n",
      "train_acc: 0.9743504524230957\n"
     ]
    }
   ],
   "source": [
    "train_loss, train_acc = model.evaluate(X_train,y_train)\n",
    "print('train_acc:',train_acc)"
   ]
  },
  {
   "cell_type": "code",
   "execution_count": 454,
   "id": "94569792",
   "metadata": {},
   "outputs": [
    {
     "data": {
      "image/png": "[encoded data removed]",
      "text/plain": [
       "<Figure size 1080x360 with 1 Axes>"
      ]
     },
     "metadata": {
      "needs_background": "light"
     },
     "output_type": "display_data"
    }
   ],
   "source": [
    "#train .val 정확도 그래프 그리기 \n",
    "# 두 개의 선그래프 시각화 \n",
    "# acc, val_data \n",
    "# 정확도 추이 ,선 그래프 시각화 \n",
    "plt.figure(figsize=(15,5))\n",
    "plt.plot(history.history[\"accuracy\"], label = 'accuracy',  c=\"blue\", marker='.' )\n",
    "plt.plot(history.history[\"val_accuracy\"], label = 'val_accuracy',  c=\"red\", marker='.' )\n",
    "\n",
    "\n",
    "# 라인차트 생성\n",
    "# history : 학습시 출력되는 loss값 혹은 정확도 값을 가져오기 위한 명령 \n",
    "plt.legend()\n",
    "\n",
    "plt.show()\n"
   ]
  },
  {
   "cell_type": "code",
   "execution_count": 455,
   "id": "9a3b56f3",
   "metadata": {
    "scrolled": true
   },
   "outputs": [
    {
     "data": {
      "image/png": "[encoded data removed]",
      "text/plain": [
       "<Figure size 1080x360 with 1 Axes>"
      ]
     },
     "metadata": {
      "needs_background": "light"
     },
     "output_type": "display_data"
    }
   ],
   "source": [
    "#train .val 정확도 그래프 그리기 \n",
    "# 두 개의 선그래프 시각화 \n",
    "# acc, val_data \n",
    "# 정확도 추이 ,선 그래프 시각화 \n",
    "plt.figure(figsize=(15,5))\n",
    "plt.plot( history.history[\"loss\"], label = 'loss',  c=\"blue\", marker='.' )\n",
    "plt.plot( history.history[\"val_loss\"], label = 'val_loss',  c=\"red\", marker='.' )\n",
    "\n",
    "# 라인차트 생성\n",
    "# history : 학습시 출력되는 loss값 혹은 정확도 값을 가져오기 위한 명령 \n",
    "plt.legend()\n",
    "\n",
    "plt.show()"
   ]
  },
  {
   "cell_type": "code",
   "execution_count": 456,
   "id": "1d031e94",
   "metadata": {},
   "outputs": [
    {
     "name": "stdout",
     "output_type": "stream",
     "text": [
      "24/24 [==============================] - 0s 649us/step\n",
      "              precision    recall  f1-score   support\n",
      "\n",
      "           0       0.93      0.92      0.93       369\n",
      "           1       0.93      0.93      0.93       382\n",
      "\n",
      "    accuracy                           0.93       751\n",
      "   macro avg       0.93      0.93      0.93       751\n",
      "weighted avg       0.93      0.93      0.93       751\n",
      "\n"
     ]
    }
   ],
   "source": [
    "from sklearn.metrics import classification_report\n",
    "pred = model.predict(X_test)\n",
    "print(classification_report(y_test, np.argmax(pred, axis=1)))"
   ]
  },
  {
   "cell_type": "code",
   "execution_count": 21,
   "id": "b6bbdc74",
   "metadata": {
    "scrolled": true
   },
   "outputs": [
    {
     "name": "stdout",
     "output_type": "stream",
     "text": [
      "24/24 [==============================] - 0s 824us/step\n"
     ]
    }
   ],
   "source": [
    "from sklearn.metrics import f1_score\n",
    "pred = model.predict(X_test)"
   ]
  },
  {
   "cell_type": "code",
   "execution_count": null,
   "id": "f686242a",
   "metadata": {},
   "outputs": [],
   "source": [
    "#cnn모델 "
   ]
  },
  {
   "cell_type": "code",
   "execution_count": 663,
   "id": "d38d60b6",
   "metadata": {
    "scrolled": false
   },
   "outputs": [
    {
     "name": "stdout",
     "output_type": "stream",
     "text": [
      "Model: \"sequential_105\"\n",
      "_________________________________________________________________\n",
      " Layer (type)                Output Shape              Param #   \n",
      "=================================================================\n",
      " conv1d_96 (Conv1D)          (None, 7, 50)             1050      \n",
      "                                                                 \n",
      " global_max_pooling1d_79 (Gl  (None, 50)               0         \n",
      " obalMaxPooling1D)                                               \n",
      "                                                                 \n",
      " dense_300 (Dense)           (None, 128)               6528      \n",
      "                                                                 \n",
      " dropout_215 (Dropout)       (None, 128)               0         \n",
      "                                                                 \n",
      " dense_301 (Dense)           (None, 128)               16512     \n",
      "                                                                 \n",
      " dropout_216 (Dropout)       (None, 128)               0         \n",
      "                                                                 \n",
      " dense_302 (Dense)           (None, 64)                8256      \n",
      "                                                                 \n",
      " dropout_217 (Dropout)       (None, 64)                0         \n",
      "                                                                 \n",
      " dense_303 (Dense)           (None, 32)                2080      \n",
      "                                                                 \n",
      " dropout_218 (Dropout)       (None, 32)                0         \n",
      "                                                                 \n",
      " dense_304 (Dense)           (None, 16)                528       \n",
      "                                                                 \n",
      " dropout_219 (Dropout)       (None, 16)                0         \n",
      "                                                                 \n",
      " dense_305 (Dense)           (None, 2)                 34        \n",
      "                                                                 \n",
      "=================================================================\n",
      "Total params: 34,988\n",
      "Trainable params: 34,988\n",
      "Non-trainable params: 0\n",
      "_________________________________________________________________\n"
     ]
    }
   ],
   "source": [
    "from tensorflow.keras.models import Sequential\n",
    "from tensorflow.keras.layers import Embedding, Dropout, Conv1D, GlobalMaxPooling1D, Dense\n",
    "from tensorflow.keras.callbacks import EarlyStopping, ModelCheckpoint\n",
    "from tensorflow.keras.models import load_model\n",
    "\n",
    "\n",
    "dropout_ratio = 0.4 # 드롭아웃 비율\n",
    "num_filters = 50 # 커널의 수\n",
    "kernel_size = 20 # 커널의 크기\n",
    "hidden_units = 144 # 뉴런의 수\n",
    "\n",
    "model_1 = Sequential()\n",
    "model_1.add(keras.Input(shape=(26,1)))\n",
    "model_1.add(Conv1D(num_filters, kernel_size, padding='valid', activation='relu'))\n",
    "model_1.add(GlobalMaxPooling1D())\n",
    "model_1.add(Dense(128, activation='relu'))\n",
    "model_1.add(Dropout(dropout_ratio))\n",
    "model_1.add(Dense(128, activation='relu'))\n",
    "model_1.add(Dropout(dropout_ratio))\n",
    "model_1.add(Dense(64, activation='relu'))\n",
    "model_1.add(Dropout(dropout_ratio))\n",
    "model_1.add(Dense(32, activation='relu'))\n",
    "model_1.add(Dropout(dropout_ratio))\n",
    "model_1.add(Dense(16, activation='sigmoid'))\n",
    "model_1.add(Dropout(dropout_ratio))\n",
    "model_1.add(Dense(2, activation='softmax'))\n",
    "model_1.summary()\n"
   ]
  },
  {
   "cell_type": "code",
   "execution_count": 664,
   "id": "61ae8ae7",
   "metadata": {},
   "outputs": [],
   "source": [
    "model_1.compile(optimizer='adam', loss='sparse_categorical_crossentropy', metrics=['acc'])"
   ]
  },
  {
   "cell_type": "code",
   "execution_count": 665,
   "id": "69678c25",
   "metadata": {},
   "outputs": [
    {
     "name": "stdout",
     "output_type": "stream",
     "text": [
      "Epoch 1/16\n",
      "85/85 [==============================] - 1s 4ms/step - loss: 0.7336 - acc: 0.4969 - val_loss: 0.6773 - val_acc: 0.6445\n",
      "Epoch 2/16\n",
      "85/85 [==============================] - 0s 3ms/step - loss: 0.6777 - acc: 0.5687 - val_loss: 0.5617 - val_acc: 0.7110\n",
      "Epoch 3/16\n",
      "85/85 [==============================] - 0s 2ms/step - loss: 0.5369 - acc: 0.7590 - val_loss: 0.4964 - val_acc: 0.7575\n",
      "Epoch 4/16\n",
      "85/85 [==============================] - 0s 3ms/step - loss: 0.4613 - acc: 0.8116 - val_loss: 0.3838 - val_acc: 0.8372\n",
      "Epoch 5/16\n",
      "85/85 [==============================] - 0s 3ms/step - loss: 0.3999 - acc: 0.8478 - val_loss: 0.3627 - val_acc: 0.8505\n",
      "Epoch 6/16\n",
      "85/85 [==============================] - 0s 2ms/step - loss: 0.3841 - acc: 0.8586 - val_loss: 0.3051 - val_acc: 0.8837\n",
      "Epoch 7/16\n",
      "85/85 [==============================] - 0s 3ms/step - loss: 0.3318 - acc: 0.8834 - val_loss: 0.3143 - val_acc: 0.8870\n",
      "Epoch 8/16\n",
      "85/85 [==============================] - 0s 3ms/step - loss: 0.3208 - acc: 0.8937 - val_loss: 0.2811 - val_acc: 0.9003\n",
      "Epoch 9/16\n",
      "85/85 [==============================] - 0s 3ms/step - loss: 0.3035 - acc: 0.9030 - val_loss: 0.2771 - val_acc: 0.9037\n",
      "Epoch 10/16\n",
      "85/85 [==============================] - 0s 2ms/step - loss: 0.2864 - acc: 0.9104 - val_loss: 0.2591 - val_acc: 0.9103\n",
      "Epoch 11/16\n",
      "85/85 [==============================] - 0s 2ms/step - loss: 0.2602 - acc: 0.9182 - val_loss: 0.2961 - val_acc: 0.8870\n",
      "Epoch 12/16\n",
      "85/85 [==============================] - 0s 3ms/step - loss: 0.2401 - acc: 0.9237 - val_loss: 0.2662 - val_acc: 0.9070\n",
      "Epoch 13/16\n",
      "85/85 [==============================] - 0s 3ms/step - loss: 0.2412 - acc: 0.9241 - val_loss: 0.3189 - val_acc: 0.8970\n",
      "Epoch 14/16\n",
      "85/85 [==============================] - 0s 3ms/step - loss: 0.2372 - acc: 0.9282 - val_loss: 0.2889 - val_acc: 0.8970\n",
      "Epoch 15/16\n",
      "85/85 [==============================] - 0s 3ms/step - loss: 0.2383 - acc: 0.9248 - val_loss: 0.2760 - val_acc: 0.9003\n",
      "Epoch 16/16\n",
      "85/85 [==============================] - 0s 3ms/step - loss: 0.2279 - acc: 0.9256 - val_loss: 0.2736 - val_acc: 0.8870\n"
     ]
    }
   ],
   "source": [
    "\n",
    "history = model_1.fit(X_train, y_train, validation_split=0.1, batch_size=32, epochs=16)"
   ]
  },
  {
   "cell_type": "code",
   "execution_count": 666,
   "id": "c9f3daa6",
   "metadata": {},
   "outputs": [
    {
     "data": {
      "image/png": "[encoded data removed]",
      "text/plain": [
       "<Figure size 1080x360 with 1 Axes>"
      ]
     },
     "metadata": {
      "needs_background": "light"
     },
     "output_type": "display_data"
    }
   ],
   "source": [
    "#train .val 정확도 그래프 그리기 \n",
    "# 두 개의 선그래프 시각화 \n",
    "# acc, val_data \n",
    "# 정확도 추이 ,선 그래프 시각화 \n",
    "plt.figure(figsize=(15,5))\n",
    "plt.plot( history.history[\"acc\"], label = 'accuracy',  c=\"blue\", marker='.' )\n",
    "plt.plot( history.history[\"val_acc\"], label = 'val_accuracy',  c=\"red\", marker='.' )\n",
    "\n",
    "# 라인차트 생성\n",
    "# history : 학습시 출력되는 loss값 혹은 정확도 값을 가져오기 위한 명령 \n",
    "plt.legend()\n",
    "\n",
    "plt.show()"
   ]
  },
  {
   "cell_type": "code",
   "execution_count": 669,
   "id": "6f51e5fa",
   "metadata": {},
   "outputs": [
    {
     "name": "stdout",
     "output_type": "stream",
     "text": [
      "94/94 [==============================] - 0s 912us/step - loss: 0.1668 - acc: 0.9454\n",
      "train_acc:  0.9453697800636292\n"
     ]
    }
   ],
   "source": [
    "train_loss, train_acc = model_1.evaluate(X_train,y_train)\n",
    "print('train_acc: ',train_acc)"
   ]
  },
  {
   "cell_type": "code",
   "execution_count": 668,
   "id": "0fa57157",
   "metadata": {
    "scrolled": true
   },
   "outputs": [
    {
     "data": {
      "image/png": "[encoded data removed]",
      "text/plain": [
       "<Figure size 1080x360 with 1 Axes>"
      ]
     },
     "metadata": {
      "needs_background": "light"
     },
     "output_type": "display_data"
    }
   ],
   "source": [
    "#train .val 정확도 그래프 그리기 \n",
    "# 두 개의 선그래프 시각화 \n",
    "# acc, val_data \n",
    "# 정확도 추이 ,선 그래프 시각화 \n",
    "plt.figure(figsize=(15,5))\n",
    "plt.plot( history.history[\"loss\"], label = 'loss',  c=\"blue\", marker='.' )\n",
    "plt.plot( history.history[\"val_loss\"], label = 'val_loss',  c=\"red\", marker='.' )\n",
    "\n",
    "# 라인차트 생성\n",
    "# history : 학습시 출력되는 loss값 혹은 정확도 값을 가져오기 위한 명령 \n",
    "plt.legend()\n",
    "\n",
    "plt.show()"
   ]
  },
  {
   "cell_type": "code",
   "execution_count": 670,
   "id": "2fbdada8",
   "metadata": {},
   "outputs": [
    {
     "name": "stdout",
     "output_type": "stream",
     "text": [
      "24/24 [==============================] - 0s 781us/step\n",
      "              precision    recall  f1-score   support\n",
      "\n",
      "           0       0.93      0.85      0.89       369\n",
      "           1       0.87      0.94      0.90       382\n",
      "\n",
      "    accuracy                           0.90       751\n",
      "   macro avg       0.90      0.90      0.90       751\n",
      "weighted avg       0.90      0.90      0.90       751\n",
      "\n"
     ]
    }
   ],
   "source": [
    "from sklearn.metrics import classification_report\n",
    "pred = model_1.predict(X_test)\n",
    "print(classification_report(y_test, np.argmax(pred, axis=1)))"
   ]
  },
  {
   "cell_type": "markdown",
   "id": "5779cfe2",
   "metadata": {},
   "source": [
    "### 나이 분류 "
   ]
  },
  {
   "cell_type": "code",
   "execution_count": 264,
   "id": "39d4a6fa",
   "metadata": {},
   "outputs": [],
   "source": [
    "header = 'chroma_stft rmse spectral_centroid spectral_bandwidth rolloff zero_crossing_rate'\n",
    "for i in range(1, 21):\n",
    "    header += f' mfcc{i}' \n",
    "header += ' label'\n",
    "header = header.split()"
   ]
  },
  {
   "cell_type": "code",
   "execution_count": 265,
   "id": "a722404a",
   "metadata": {},
   "outputs": [],
   "source": [
    "file = open('data_age5.csv', 'w', newline='')   \n",
    "with file:\n",
    "    writer = csv.writer(file)\n",
    "    writer.writerow(header)\n",
    "age2 = 'adult child older'.split()\n",
    "for g in age2:\n",
    "    for filename in os.listdir(f'./age5/{g}'):\n",
    "        songname = f'./age5/{g}/{filename}'\n",
    "        y, sr = librosa.load(songname, mono=True, sr=16000)\n",
    "        chroma_stft = librosa.feature.chroma_stft(y=y, sr=16000)\n",
    "        rmse = librosa.feature.rms(y=y)\n",
    "        spec_cent = librosa.feature.spectral_centroid(y=y, sr=16000)\n",
    "        spec_bw = librosa.feature.spectral_bandwidth(y=y, sr=16000)\n",
    "        rolloff = librosa.feature.spectral_rolloff(y=y, sr=16000)\n",
    "        zcr = librosa.feature.zero_crossing_rate(y)\n",
    "        mfcc = librosa.feature.mfcc(y=y, sr=16000)\n",
    "        to_append = f'{np.mean(chroma_stft)} {np.mean(rmse)} {np.mean(spec_cent)} {np.mean(spec_bw)} {np.mean(rolloff)} {np.mean(zcr)}'    \n",
    "        for e in mfcc:\n",
    "            to_append += f' {np.mean(e)}'\n",
    "        to_append += f' {g}'\n",
    "        file = open('data_age5.csv', 'a', newline='')\n",
    "        with file:\n",
    "            writer = csv.writer(file)\n",
    "            writer.writerow(to_append.split())"
   ]
  },
  {
   "cell_type": "code",
   "execution_count": 16,
   "id": "5ed84787",
   "metadata": {},
   "outputs": [],
   "source": [
    "data2= pd.read_csv(\"data_age5.csv\")"
   ]
  },
  {
   "cell_type": "code",
   "execution_count": 17,
   "id": "776270a4",
   "metadata": {},
   "outputs": [
    {
     "data": {
      "text/html": [
       "<div>\n",
       "<style scoped>\n",
       "    .dataframe tbody tr th:only-of-type {\n",
       "        vertical-align: middle;\n",
       "    }\n",
       "\n",
       "    .dataframe tbody tr th {\n",
       "        vertical-align: top;\n",
       "    }\n",
       "\n",
       "    .dataframe thead th {\n",
       "        text-align: right;\n",
       "    }\n",
       "</style>\n",
       "<table border=\"1\" class=\"dataframe\">\n",
       "  <thead>\n",
       "    <tr style=\"text-align: right;\">\n",
       "      <th></th>\n",
       "      <th>chroma_stft</th>\n",
       "      <th>rmse</th>\n",
       "      <th>spectral_centroid</th>\n",
       "      <th>spectral_bandwidth</th>\n",
       "      <th>rolloff</th>\n",
       "      <th>zero_crossing_rate</th>\n",
       "      <th>mfcc1</th>\n",
       "      <th>mfcc2</th>\n",
       "      <th>mfcc3</th>\n",
       "      <th>mfcc4</th>\n",
       "      <th>...</th>\n",
       "      <th>mfcc12</th>\n",
       "      <th>mfcc13</th>\n",
       "      <th>mfcc14</th>\n",
       "      <th>mfcc15</th>\n",
       "      <th>mfcc16</th>\n",
       "      <th>mfcc17</th>\n",
       "      <th>mfcc18</th>\n",
       "      <th>mfcc19</th>\n",
       "      <th>mfcc20</th>\n",
       "      <th>label</th>\n",
       "    </tr>\n",
       "  </thead>\n",
       "  <tbody>\n",
       "    <tr>\n",
       "      <th>0</th>\n",
       "      <td>0.207397</td>\n",
       "      <td>0.036894</td>\n",
       "      <td>2252.372881</td>\n",
       "      <td>1031.528662</td>\n",
       "      <td>3426.259566</td>\n",
       "      <td>0.197081</td>\n",
       "      <td>-408.988831</td>\n",
       "      <td>36.538872</td>\n",
       "      <td>-16.544586</td>\n",
       "      <td>7.628980</td>\n",
       "      <td>...</td>\n",
       "      <td>-3.169843</td>\n",
       "      <td>-9.510788</td>\n",
       "      <td>1.974274</td>\n",
       "      <td>-4.308190</td>\n",
       "      <td>0.864112</td>\n",
       "      <td>-4.305656</td>\n",
       "      <td>0.273853</td>\n",
       "      <td>-5.739086</td>\n",
       "      <td>-0.257792</td>\n",
       "      <td>adult</td>\n",
       "    </tr>\n",
       "    <tr>\n",
       "      <th>1</th>\n",
       "      <td>0.149506</td>\n",
       "      <td>0.024487</td>\n",
       "      <td>1446.439213</td>\n",
       "      <td>704.875267</td>\n",
       "      <td>2213.010204</td>\n",
       "      <td>0.138119</td>\n",
       "      <td>-492.353882</td>\n",
       "      <td>16.512335</td>\n",
       "      <td>0.242764</td>\n",
       "      <td>19.705084</td>\n",
       "      <td>...</td>\n",
       "      <td>-1.727574</td>\n",
       "      <td>-9.517586</td>\n",
       "      <td>4.431943</td>\n",
       "      <td>-5.126017</td>\n",
       "      <td>2.673484</td>\n",
       "      <td>0.658310</td>\n",
       "      <td>0.124716</td>\n",
       "      <td>-2.930435</td>\n",
       "      <td>0.970835</td>\n",
       "      <td>adult</td>\n",
       "    </tr>\n",
       "    <tr>\n",
       "      <th>2</th>\n",
       "      <td>0.250681</td>\n",
       "      <td>0.021513</td>\n",
       "      <td>2020.767174</td>\n",
       "      <td>1077.116379</td>\n",
       "      <td>3089.923469</td>\n",
       "      <td>0.182717</td>\n",
       "      <td>-464.204193</td>\n",
       "      <td>17.193918</td>\n",
       "      <td>2.706692</td>\n",
       "      <td>19.046326</td>\n",
       "      <td>...</td>\n",
       "      <td>-1.220489</td>\n",
       "      <td>-4.308483</td>\n",
       "      <td>1.118589</td>\n",
       "      <td>-3.852354</td>\n",
       "      <td>1.007294</td>\n",
       "      <td>-3.343584</td>\n",
       "      <td>1.302266</td>\n",
       "      <td>-5.045132</td>\n",
       "      <td>2.032356</td>\n",
       "      <td>adult</td>\n",
       "    </tr>\n",
       "    <tr>\n",
       "      <th>3</th>\n",
       "      <td>0.230264</td>\n",
       "      <td>0.045564</td>\n",
       "      <td>2264.087003</td>\n",
       "      <td>943.658341</td>\n",
       "      <td>2996.546053</td>\n",
       "      <td>0.223139</td>\n",
       "      <td>-428.492645</td>\n",
       "      <td>43.441586</td>\n",
       "      <td>5.165850</td>\n",
       "      <td>16.398752</td>\n",
       "      <td>...</td>\n",
       "      <td>-4.010806</td>\n",
       "      <td>-4.908107</td>\n",
       "      <td>1.968336</td>\n",
       "      <td>-2.463803</td>\n",
       "      <td>-0.643663</td>\n",
       "      <td>-4.105836</td>\n",
       "      <td>3.428591</td>\n",
       "      <td>-10.347515</td>\n",
       "      <td>-0.817097</td>\n",
       "      <td>adult</td>\n",
       "    </tr>\n",
       "    <tr>\n",
       "      <th>4</th>\n",
       "      <td>0.249092</td>\n",
       "      <td>0.016848</td>\n",
       "      <td>2405.365046</td>\n",
       "      <td>716.357470</td>\n",
       "      <td>3122.532895</td>\n",
       "      <td>0.230032</td>\n",
       "      <td>-518.749939</td>\n",
       "      <td>-21.200792</td>\n",
       "      <td>10.223719</td>\n",
       "      <td>17.434143</td>\n",
       "      <td>...</td>\n",
       "      <td>-0.554168</td>\n",
       "      <td>-0.894540</td>\n",
       "      <td>4.179381</td>\n",
       "      <td>-4.730969</td>\n",
       "      <td>5.483298</td>\n",
       "      <td>-3.774652</td>\n",
       "      <td>1.306749</td>\n",
       "      <td>-4.419847</td>\n",
       "      <td>1.799687</td>\n",
       "      <td>adult</td>\n",
       "    </tr>\n",
       "  </tbody>\n",
       "</table>\n",
       "<p>5 rows × 27 columns</p>\n",
       "</div>"
      ],
      "text/plain": [
       "   chroma_stft      rmse  spectral_centroid  spectral_bandwidth      rolloff  \\\n",
       "0     0.207397  0.036894        2252.372881         1031.528662  3426.259566   \n",
       "1     0.149506  0.024487        1446.439213          704.875267  2213.010204   \n",
       "2     0.250681  0.021513        2020.767174         1077.116379  3089.923469   \n",
       "3     0.230264  0.045564        2264.087003          943.658341  2996.546053   \n",
       "4     0.249092  0.016848        2405.365046          716.357470  3122.532895   \n",
       "\n",
       "   zero_crossing_rate       mfcc1      mfcc2      mfcc3      mfcc4  ...  \\\n",
       "0            0.197081 -408.988831  36.538872 -16.544586   7.628980  ...   \n",
       "1            0.138119 -492.353882  16.512335   0.242764  19.705084  ...   \n",
       "2            0.182717 -464.204193  17.193918   2.706692  19.046326  ...   \n",
       "3            0.223139 -428.492645  43.441586   5.165850  16.398752  ...   \n",
       "4            0.230032 -518.749939 -21.200792  10.223719  17.434143  ...   \n",
       "\n",
       "     mfcc12    mfcc13    mfcc14    mfcc15    mfcc16    mfcc17    mfcc18  \\\n",
       "0 -3.169843 -9.510788  1.974274 -4.308190  0.864112 -4.305656  0.273853   \n",
       "1 -1.727574 -9.517586  4.431943 -5.126017  2.673484  0.658310  0.124716   \n",
       "2 -1.220489 -4.308483  1.118589 -3.852354  1.007294 -3.343584  1.302266   \n",
       "3 -4.010806 -4.908107  1.968336 -2.463803 -0.643663 -4.105836  3.428591   \n",
       "4 -0.554168 -0.894540  4.179381 -4.730969  5.483298 -3.774652  1.306749   \n",
       "\n",
       "      mfcc19    mfcc20  label  \n",
       "0  -5.739086 -0.257792  adult  \n",
       "1  -2.930435  0.970835  adult  \n",
       "2  -5.045132  2.032356  adult  \n",
       "3 -10.347515 -0.817097  adult  \n",
       "4  -4.419847  1.799687  adult  \n",
       "\n",
       "[5 rows x 27 columns]"
      ]
     },
     "execution_count": 17,
     "metadata": {},
     "output_type": "execute_result"
    }
   ],
   "source": [
    "data2.head()"
   ]
  },
  {
   "cell_type": "code",
   "execution_count": 18,
   "id": "f0acac5c",
   "metadata": {},
   "outputs": [
    {
     "name": "stdout",
     "output_type": "stream",
     "text": [
      "[0 0 0 ... 2 2 2]\n"
     ]
    }
   ],
   "source": [
    "# 라벨 인코딩 \n",
    "age_list = data2.iloc[:, -1]\n",
    "encoder = LabelEncoder()\n",
    "y2 = encoder.fit_transform(age_list)\n",
    "print(y2)"
   ]
  },
  {
   "cell_type": "code",
   "execution_count": 19,
   "id": "ceaaf2b9",
   "metadata": {},
   "outputs": [],
   "source": [
    "scaler = StandardScaler()\n",
    "X2 = scaler.fit_transform(np.array(data2.iloc[:, :-1], dtype = float))"
   ]
  },
  {
   "cell_type": "code",
   "execution_count": 20,
   "id": "0c769b5c",
   "metadata": {},
   "outputs": [],
   "source": [
    "X2_train, X2_test, y2_train, y2_test = train_test_split(X2, y2, test_size=0.2, random_state=598)"
   ]
  },
  {
   "cell_type": "code",
   "execution_count": 27,
   "id": "cb873161",
   "metadata": {},
   "outputs": [
    {
     "data": {
      "text/plain": [
       "(3604, 26)"
      ]
     },
     "execution_count": 27,
     "metadata": {},
     "output_type": "execute_result"
    }
   ],
   "source": [
    "X2_train.shape"
   ]
  },
  {
   "cell_type": "code",
   "execution_count": 98,
   "id": "8b893693",
   "metadata": {},
   "outputs": [
    {
     "name": "stdout",
     "output_type": "stream",
     "text": [
      "Model: \"sequential_2\"\n",
      "_________________________________________________________________\n",
      " Layer (type)                Output Shape              Param #   \n",
      "=================================================================\n",
      " dense_11 (Dense)            (None, 256)               6912      \n",
      "                                                                 \n",
      " dropout_9 (Dropout)         (None, 256)               0         \n",
      "                                                                 \n",
      " dense_12 (Dense)            (None, 256)               65792     \n",
      "                                                                 \n",
      " dropout_10 (Dropout)        (None, 256)               0         \n",
      "                                                                 \n",
      " dense_13 (Dense)            (None, 256)               65792     \n",
      "                                                                 \n",
      " dropout_11 (Dropout)        (None, 256)               0         \n",
      "                                                                 \n",
      " dense_14 (Dense)            (None, 3)                 771       \n",
      "                                                                 \n",
      "=================================================================\n",
      "Total params: 139,267\n",
      "Trainable params: 139,267\n",
      "Non-trainable params: 0\n",
      "_________________________________________________________________\n"
     ]
    }
   ],
   "source": [
    "model6 = models.Sequential()\n",
    "model6.add(layers.Dense(256, activation='relu', input_shape=(X2_train.shape[1],)))\n",
    "model6.add(Dropout(0.3))\n",
    "model6.add(layers.Dense(256, activation='relu' ))\n",
    "model6.add(Dropout(0.3))\n",
    "model6.add(layers.Dense(256, activation='relu'))\n",
    "model6.add(Dropout(0.3))\n",
    "model6.add(layers.Dense(3, activation='sigmoid'))\n",
    "model6.summary()"
   ]
  },
  {
   "cell_type": "code",
   "execution_count": 99,
   "id": "cb4bfb29",
   "metadata": {},
   "outputs": [],
   "source": [
    "model6.compile(optimizer='adam',\n",
    "              loss='sparse_categorical_crossentropy',\n",
    "              metrics=['accuracy'])"
   ]
  },
  {
   "cell_type": "code",
   "execution_count": 100,
   "id": "10d0fa27",
   "metadata": {},
   "outputs": [
    {
     "name": "stdout",
     "output_type": "stream",
     "text": [
      "Epoch 1/13\n",
      "91/91 [==============================] - 1s 3ms/step - loss: 0.8927 - accuracy: 0.5550 - val_loss: 0.7272 - val_accuracy: 0.6699\n",
      "Epoch 2/13\n",
      "91/91 [==============================] - 0s 3ms/step - loss: 0.7585 - accuracy: 0.6469 - val_loss: 0.6599 - val_accuracy: 0.6990\n",
      "Epoch 3/13\n",
      "91/91 [==============================] - 0s 2ms/step - loss: 0.7081 - accuracy: 0.6712 - val_loss: 0.6301 - val_accuracy: 0.7157\n",
      "Epoch 4/13\n",
      "91/91 [==============================] - 0s 2ms/step - loss: 0.6539 - accuracy: 0.6896 - val_loss: 0.6096 - val_accuracy: 0.7087\n",
      "Epoch 5/13\n",
      "91/91 [==============================] - 0s 2ms/step - loss: 0.6325 - accuracy: 0.7093 - val_loss: 0.5857 - val_accuracy: 0.7268\n",
      "Epoch 6/13\n",
      "91/91 [==============================] - 0s 2ms/step - loss: 0.6027 - accuracy: 0.7329 - val_loss: 0.5571 - val_accuracy: 0.7448\n",
      "Epoch 7/13\n",
      "91/91 [==============================] - 0s 2ms/step - loss: 0.5641 - accuracy: 0.7496 - val_loss: 0.5571 - val_accuracy: 0.7365\n",
      "Epoch 8/13\n",
      "91/91 [==============================] - 0s 2ms/step - loss: 0.5596 - accuracy: 0.7565 - val_loss: 0.5401 - val_accuracy: 0.7448\n",
      "Epoch 9/13\n",
      "91/91 [==============================] - 0s 2ms/step - loss: 0.5270 - accuracy: 0.7697 - val_loss: 0.5247 - val_accuracy: 0.7531\n",
      "Epoch 10/13\n",
      "91/91 [==============================] - 0s 2ms/step - loss: 0.5174 - accuracy: 0.7784 - val_loss: 0.5124 - val_accuracy: 0.7587\n",
      "Epoch 11/13\n",
      "91/91 [==============================] - 0s 2ms/step - loss: 0.4895 - accuracy: 0.7912 - val_loss: 0.5093 - val_accuracy: 0.7559\n",
      "Epoch 12/13\n",
      "91/91 [==============================] - 0s 2ms/step - loss: 0.4873 - accuracy: 0.7919 - val_loss: 0.4963 - val_accuracy: 0.7614\n",
      "Epoch 13/13\n",
      "91/91 [==============================] - 0s 2ms/step - loss: 0.4742 - accuracy: 0.8058 - val_loss: 0.4818 - val_accuracy: 0.7809\n"
     ]
    }
   ],
   "source": [
    "history6 = model6.fit(X2_train,\n",
    "                    y2_train,\n",
    "                    epochs=13,\n",
    "                    batch_size =32,\n",
    "                    validation_split=0.2,\n",
    "                   )"
   ]
  },
  {
   "cell_type": "code",
   "execution_count": 101,
   "id": "1f7aeaa7",
   "metadata": {
    "scrolled": true
   },
   "outputs": [
    {
     "name": "stdout",
     "output_type": "stream",
     "text": [
      "29/29 [==============================] - 0s 784us/step - loss: 0.5492 - accuracy: 0.7680\n",
      "test_acc:  0.7680355310440063\n"
     ]
    }
   ],
   "source": [
    "test_loss, test_acc = model6.evaluate(X2_test,y2_test)\n",
    "print('test_acc: ',test_acc)"
   ]
  },
  {
   "cell_type": "code",
   "execution_count": 102,
   "id": "416f904e",
   "metadata": {},
   "outputs": [
    {
     "data": {
      "image/png": "[encoded data removed]",
      "text/plain": [
       "<Figure size 1080x360 with 1 Axes>"
      ]
     },
     "metadata": {
      "needs_background": "light"
     },
     "output_type": "display_data"
    }
   ],
   "source": [
    "#train .val 정확도 그래프 그리기 \n",
    "# 두 개의 선그래프 시각화 \n",
    "# acc, val_data \n",
    "# 정확도 추이 ,선 그래프 시각화 \n",
    "plt.figure(figsize=(15,5))\n",
    "plt.plot( history6.history[\"accuracy\"], label = 'accuracy',  c=\"blue\", marker='.' )\n",
    "plt.plot( history6.history[\"val_accuracy\"], label = 'val_accuracy',  c=\"red\", marker='.' )\n",
    "\n",
    "# 라인차트 생성\n",
    "# history : 학습시 출력되는 loss값 혹은 정확도 값을 가져오기 위한 명령 \n",
    "plt.legend()\n",
    "\n",
    "plt.show()"
   ]
  },
  {
   "cell_type": "code",
   "execution_count": 103,
   "id": "c5edde13",
   "metadata": {},
   "outputs": [
    {
     "data": {
      "image/png": "[encoded data removed]",
      "text/plain": [
       "<Figure size 1080x360 with 1 Axes>"
      ]
     },
     "metadata": {
      "needs_background": "light"
     },
     "output_type": "display_data"
    }
   ],
   "source": [
    "#train .val 정확도 그래프 그리기 \n",
    "# 두 개의 선그래프 시각화 \n",
    "# acc, val_data \n",
    "# 정확도 추이 ,선 그래프 시각화 \n",
    "plt.figure(figsize=(15,5))\n",
    "\n",
    "plt.plot( history6.history[\"loss\"], label = 'loss',  c=\"blue\", marker='.' )\n",
    "plt.plot( history6.history[\"val_loss\"], label = 'val_loss',  c=\"red\", marker='.' )\n",
    "\n",
    "# 라인차트 생성\n",
    "# history : 학습시 출력되는 loss값 혹은 정확도 값을 가져오기 위한 명령 \n",
    "plt.legend()\n",
    "\n",
    "plt.show()\n",
    "\n",
    "\n"
   ]
  },
  {
   "cell_type": "code",
   "execution_count": 104,
   "id": "419e9bca",
   "metadata": {
    "scrolled": false
   },
   "outputs": [
    {
     "name": "stdout",
     "output_type": "stream",
     "text": [
      "29/29 [==============================] - 0s 641us/step\n",
      "              precision    recall  f1-score   support\n",
      "\n",
      "           0       0.70      0.73      0.71       296\n",
      "           1       0.87      0.85      0.86       279\n",
      "           2       0.75      0.73      0.74       326\n",
      "\n",
      "    accuracy                           0.77       901\n",
      "   macro avg       0.77      0.77      0.77       901\n",
      "weighted avg       0.77      0.77      0.77       901\n",
      "\n"
     ]
    }
   ],
   "source": [
    "from sklearn.metrics import classification_report\n",
    "pred = model6.predict(X2_test)\n",
    "print(classification_report(y2_test, np.argmax(pred, axis=1)))"
   ]
  },
  {
   "cell_type": "markdown",
   "id": "74ad1be2",
   "metadata": {},
   "source": [
    "### 감정분류 "
   ]
  },
  {
   "cell_type": "code",
   "execution_count": 105,
   "id": "51448b67",
   "metadata": {},
   "outputs": [
    {
     "data": {
      "text/html": [
       "<div>\n",
       "<style scoped>\n",
       "    .dataframe tbody tr th:only-of-type {\n",
       "        vertical-align: middle;\n",
       "    }\n",
       "\n",
       "    .dataframe tbody tr th {\n",
       "        vertical-align: top;\n",
       "    }\n",
       "\n",
       "    .dataframe thead th {\n",
       "        text-align: right;\n",
       "    }\n",
       "</style>\n",
       "<table border=\"1\" class=\"dataframe\">\n",
       "  <thead>\n",
       "    <tr style=\"text-align: right;\">\n",
       "      <th></th>\n",
       "      <th>filename</th>\n",
       "      <th>chroma_stft</th>\n",
       "      <th>rmse</th>\n",
       "      <th>spectral_centroid</th>\n",
       "      <th>spectral_bandwidth</th>\n",
       "      <th>rolloff</th>\n",
       "      <th>zero_crossing_rate</th>\n",
       "      <th>mfcc1</th>\n",
       "      <th>mfcc2</th>\n",
       "      <th>mfcc3</th>\n",
       "      <th>...</th>\n",
       "      <th>mfcc12</th>\n",
       "      <th>mfcc13</th>\n",
       "      <th>mfcc14</th>\n",
       "      <th>mfcc15</th>\n",
       "      <th>mfcc16</th>\n",
       "      <th>mfcc17</th>\n",
       "      <th>mfcc18</th>\n",
       "      <th>mfcc19</th>\n",
       "      <th>mfcc20</th>\n",
       "      <th>label</th>\n",
       "    </tr>\n",
       "  </thead>\n",
       "  <tbody>\n",
       "    <tr>\n",
       "      <th>0</th>\n",
       "      <td>0001_G1A3E3S0C0_PSB_000100.wav</td>\n",
       "      <td>0.486902</td>\n",
       "      <td>0.034733</td>\n",
       "      <td>1657.257236</td>\n",
       "      <td>1588.349117</td>\n",
       "      <td>3281.329719</td>\n",
       "      <td>0.099649</td>\n",
       "      <td>-405.462769</td>\n",
       "      <td>71.520119</td>\n",
       "      <td>11.026514</td>\n",
       "      <td>...</td>\n",
       "      <td>5.473570</td>\n",
       "      <td>-11.551659</td>\n",
       "      <td>-2.168627</td>\n",
       "      <td>-5.250425</td>\n",
       "      <td>-5.191661</td>\n",
       "      <td>-2.066593</td>\n",
       "      <td>-0.428604</td>\n",
       "      <td>-11.090604</td>\n",
       "      <td>1.018889</td>\n",
       "      <td>angry</td>\n",
       "    </tr>\n",
       "    <tr>\n",
       "      <th>1</th>\n",
       "      <td>0001_G1A3E3S0C0_PSB_000101.wav</td>\n",
       "      <td>0.382141</td>\n",
       "      <td>0.051134</td>\n",
       "      <td>1580.328335</td>\n",
       "      <td>1471.575897</td>\n",
       "      <td>3080.698529</td>\n",
       "      <td>0.113037</td>\n",
       "      <td>-317.783203</td>\n",
       "      <td>99.240166</td>\n",
       "      <td>-13.105242</td>\n",
       "      <td>...</td>\n",
       "      <td>9.406497</td>\n",
       "      <td>-13.836814</td>\n",
       "      <td>-4.128852</td>\n",
       "      <td>-3.858854</td>\n",
       "      <td>-7.881604</td>\n",
       "      <td>-2.964680</td>\n",
       "      <td>-3.171354</td>\n",
       "      <td>-13.246078</td>\n",
       "      <td>-0.941111</td>\n",
       "      <td>angry</td>\n",
       "    </tr>\n",
       "    <tr>\n",
       "      <th>2</th>\n",
       "      <td>0001_G1A3E3S0C0_PSB_000102.wav</td>\n",
       "      <td>0.443644</td>\n",
       "      <td>0.057208</td>\n",
       "      <td>1775.730375</td>\n",
       "      <td>1645.863807</td>\n",
       "      <td>3735.033886</td>\n",
       "      <td>0.107928</td>\n",
       "      <td>-307.479340</td>\n",
       "      <td>72.219337</td>\n",
       "      <td>-19.736387</td>\n",
       "      <td>...</td>\n",
       "      <td>8.560966</td>\n",
       "      <td>-15.116873</td>\n",
       "      <td>1.118345</td>\n",
       "      <td>-7.834440</td>\n",
       "      <td>-7.523036</td>\n",
       "      <td>-1.113600</td>\n",
       "      <td>-5.466459</td>\n",
       "      <td>-9.647337</td>\n",
       "      <td>-0.956873</td>\n",
       "      <td>angry</td>\n",
       "    </tr>\n",
       "    <tr>\n",
       "      <th>3</th>\n",
       "      <td>0001_G1A3E3S0C0_PSB_000103.wav</td>\n",
       "      <td>0.392236</td>\n",
       "      <td>0.059383</td>\n",
       "      <td>1582.547007</td>\n",
       "      <td>1512.414204</td>\n",
       "      <td>3227.638134</td>\n",
       "      <td>0.093340</td>\n",
       "      <td>-305.964111</td>\n",
       "      <td>94.055092</td>\n",
       "      <td>-20.725239</td>\n",
       "      <td>...</td>\n",
       "      <td>13.188204</td>\n",
       "      <td>-16.388475</td>\n",
       "      <td>-5.385280</td>\n",
       "      <td>-2.641008</td>\n",
       "      <td>-8.678153</td>\n",
       "      <td>-1.626459</td>\n",
       "      <td>-4.576571</td>\n",
       "      <td>-10.825919</td>\n",
       "      <td>0.032695</td>\n",
       "      <td>angry</td>\n",
       "    </tr>\n",
       "    <tr>\n",
       "      <th>4</th>\n",
       "      <td>0001_G1A3E3S0C0_PSB_000104.wav</td>\n",
       "      <td>0.392669</td>\n",
       "      <td>0.068545</td>\n",
       "      <td>1669.935067</td>\n",
       "      <td>1561.089835</td>\n",
       "      <td>3447.250940</td>\n",
       "      <td>0.109559</td>\n",
       "      <td>-290.699005</td>\n",
       "      <td>80.576462</td>\n",
       "      <td>-24.818502</td>\n",
       "      <td>...</td>\n",
       "      <td>9.878192</td>\n",
       "      <td>-10.717960</td>\n",
       "      <td>-2.838043</td>\n",
       "      <td>-1.277240</td>\n",
       "      <td>-9.476827</td>\n",
       "      <td>-1.760500</td>\n",
       "      <td>-4.443426</td>\n",
       "      <td>-12.665771</td>\n",
       "      <td>-2.660120</td>\n",
       "      <td>angry</td>\n",
       "    </tr>\n",
       "  </tbody>\n",
       "</table>\n",
       "<p>5 rows × 28 columns</p>\n",
       "</div>"
      ],
      "text/plain": [
       "                         filename  chroma_stft      rmse  spectral_centroid  \\\n",
       "0  0001_G1A3E3S0C0_PSB_000100.wav     0.486902  0.034733        1657.257236   \n",
       "1  0001_G1A3E3S0C0_PSB_000101.wav     0.382141  0.051134        1580.328335   \n",
       "2  0001_G1A3E3S0C0_PSB_000102.wav     0.443644  0.057208        1775.730375   \n",
       "3  0001_G1A3E3S0C0_PSB_000103.wav     0.392236  0.059383        1582.547007   \n",
       "4  0001_G1A3E3S0C0_PSB_000104.wav     0.392669  0.068545        1669.935067   \n",
       "\n",
       "   spectral_bandwidth      rolloff  zero_crossing_rate       mfcc1      mfcc2  \\\n",
       "0         1588.349117  3281.329719            0.099649 -405.462769  71.520119   \n",
       "1         1471.575897  3080.698529            0.113037 -317.783203  99.240166   \n",
       "2         1645.863807  3735.033886            0.107928 -307.479340  72.219337   \n",
       "3         1512.414204  3227.638134            0.093340 -305.964111  94.055092   \n",
       "4         1561.089835  3447.250940            0.109559 -290.699005  80.576462   \n",
       "\n",
       "       mfcc3  ...     mfcc12     mfcc13    mfcc14    mfcc15    mfcc16  \\\n",
       "0  11.026514  ...   5.473570 -11.551659 -2.168627 -5.250425 -5.191661   \n",
       "1 -13.105242  ...   9.406497 -13.836814 -4.128852 -3.858854 -7.881604   \n",
       "2 -19.736387  ...   8.560966 -15.116873  1.118345 -7.834440 -7.523036   \n",
       "3 -20.725239  ...  13.188204 -16.388475 -5.385280 -2.641008 -8.678153   \n",
       "4 -24.818502  ...   9.878192 -10.717960 -2.838043 -1.277240 -9.476827   \n",
       "\n",
       "     mfcc17    mfcc18     mfcc19    mfcc20  label  \n",
       "0 -2.066593 -0.428604 -11.090604  1.018889  angry  \n",
       "1 -2.964680 -3.171354 -13.246078 -0.941111  angry  \n",
       "2 -1.113600 -5.466459  -9.647337 -0.956873  angry  \n",
       "3 -1.626459 -4.576571 -10.825919  0.032695  angry  \n",
       "4 -1.760500 -4.443426 -12.665771 -2.660120  angry  \n",
       "\n",
       "[5 rows x 28 columns]"
      ]
     },
     "execution_count": 105,
     "metadata": {},
     "output_type": "execute_result"
    }
   ],
   "source": [
    "data4 = pd.read_csv('feeling_training.csv')\n",
    "data4.head()"
   ]
  },
  {
   "cell_type": "code",
   "execution_count": 106,
   "id": "79526a0b",
   "metadata": {
    "scrolled": true
   },
   "outputs": [
    {
     "data": {
      "text/html": [
       "<div>\n",
       "<style scoped>\n",
       "    .dataframe tbody tr th:only-of-type {\n",
       "        vertical-align: middle;\n",
       "    }\n",
       "\n",
       "    .dataframe tbody tr th {\n",
       "        vertical-align: top;\n",
       "    }\n",
       "\n",
       "    .dataframe thead th {\n",
       "        text-align: right;\n",
       "    }\n",
       "</style>\n",
       "<table border=\"1\" class=\"dataframe\">\n",
       "  <thead>\n",
       "    <tr style=\"text-align: right;\">\n",
       "      <th></th>\n",
       "      <th>chroma_stft</th>\n",
       "      <th>rmse</th>\n",
       "      <th>spectral_centroid</th>\n",
       "      <th>spectral_bandwidth</th>\n",
       "      <th>rolloff</th>\n",
       "      <th>zero_crossing_rate</th>\n",
       "      <th>mfcc1</th>\n",
       "      <th>mfcc2</th>\n",
       "      <th>mfcc3</th>\n",
       "      <th>mfcc4</th>\n",
       "      <th>...</th>\n",
       "      <th>mfcc12</th>\n",
       "      <th>mfcc13</th>\n",
       "      <th>mfcc14</th>\n",
       "      <th>mfcc15</th>\n",
       "      <th>mfcc16</th>\n",
       "      <th>mfcc17</th>\n",
       "      <th>mfcc18</th>\n",
       "      <th>mfcc19</th>\n",
       "      <th>mfcc20</th>\n",
       "      <th>label</th>\n",
       "    </tr>\n",
       "  </thead>\n",
       "  <tbody>\n",
       "    <tr>\n",
       "      <th>0</th>\n",
       "      <td>0.486902</td>\n",
       "      <td>0.034733</td>\n",
       "      <td>1657.257236</td>\n",
       "      <td>1588.349117</td>\n",
       "      <td>3281.329719</td>\n",
       "      <td>0.099649</td>\n",
       "      <td>-405.462769</td>\n",
       "      <td>71.520119</td>\n",
       "      <td>11.026514</td>\n",
       "      <td>31.455233</td>\n",
       "      <td>...</td>\n",
       "      <td>5.473570</td>\n",
       "      <td>-11.551659</td>\n",
       "      <td>-2.168627</td>\n",
       "      <td>-5.250425</td>\n",
       "      <td>-5.191661</td>\n",
       "      <td>-2.066593</td>\n",
       "      <td>-0.428604</td>\n",
       "      <td>-11.090604</td>\n",
       "      <td>1.018889</td>\n",
       "      <td>angry</td>\n",
       "    </tr>\n",
       "    <tr>\n",
       "      <th>1</th>\n",
       "      <td>0.382141</td>\n",
       "      <td>0.051134</td>\n",
       "      <td>1580.328335</td>\n",
       "      <td>1471.575897</td>\n",
       "      <td>3080.698529</td>\n",
       "      <td>0.113037</td>\n",
       "      <td>-317.783203</td>\n",
       "      <td>99.240166</td>\n",
       "      <td>-13.105242</td>\n",
       "      <td>22.339907</td>\n",
       "      <td>...</td>\n",
       "      <td>9.406497</td>\n",
       "      <td>-13.836814</td>\n",
       "      <td>-4.128852</td>\n",
       "      <td>-3.858854</td>\n",
       "      <td>-7.881604</td>\n",
       "      <td>-2.964680</td>\n",
       "      <td>-3.171354</td>\n",
       "      <td>-13.246078</td>\n",
       "      <td>-0.941111</td>\n",
       "      <td>angry</td>\n",
       "    </tr>\n",
       "    <tr>\n",
       "      <th>2</th>\n",
       "      <td>0.443644</td>\n",
       "      <td>0.057208</td>\n",
       "      <td>1775.730375</td>\n",
       "      <td>1645.863807</td>\n",
       "      <td>3735.033886</td>\n",
       "      <td>0.107928</td>\n",
       "      <td>-307.479340</td>\n",
       "      <td>72.219337</td>\n",
       "      <td>-19.736387</td>\n",
       "      <td>16.291744</td>\n",
       "      <td>...</td>\n",
       "      <td>8.560966</td>\n",
       "      <td>-15.116873</td>\n",
       "      <td>1.118345</td>\n",
       "      <td>-7.834440</td>\n",
       "      <td>-7.523036</td>\n",
       "      <td>-1.113600</td>\n",
       "      <td>-5.466459</td>\n",
       "      <td>-9.647337</td>\n",
       "      <td>-0.956873</td>\n",
       "      <td>angry</td>\n",
       "    </tr>\n",
       "    <tr>\n",
       "      <th>3</th>\n",
       "      <td>0.392236</td>\n",
       "      <td>0.059383</td>\n",
       "      <td>1582.547007</td>\n",
       "      <td>1512.414204</td>\n",
       "      <td>3227.638134</td>\n",
       "      <td>0.093340</td>\n",
       "      <td>-305.964111</td>\n",
       "      <td>94.055092</td>\n",
       "      <td>-20.725239</td>\n",
       "      <td>27.264137</td>\n",
       "      <td>...</td>\n",
       "      <td>13.188204</td>\n",
       "      <td>-16.388475</td>\n",
       "      <td>-5.385280</td>\n",
       "      <td>-2.641008</td>\n",
       "      <td>-8.678153</td>\n",
       "      <td>-1.626459</td>\n",
       "      <td>-4.576571</td>\n",
       "      <td>-10.825919</td>\n",
       "      <td>0.032695</td>\n",
       "      <td>angry</td>\n",
       "    </tr>\n",
       "    <tr>\n",
       "      <th>4</th>\n",
       "      <td>0.392669</td>\n",
       "      <td>0.068545</td>\n",
       "      <td>1669.935067</td>\n",
       "      <td>1561.089835</td>\n",
       "      <td>3447.250940</td>\n",
       "      <td>0.109559</td>\n",
       "      <td>-290.699005</td>\n",
       "      <td>80.576462</td>\n",
       "      <td>-24.818502</td>\n",
       "      <td>16.334509</td>\n",
       "      <td>...</td>\n",
       "      <td>9.878192</td>\n",
       "      <td>-10.717960</td>\n",
       "      <td>-2.838043</td>\n",
       "      <td>-1.277240</td>\n",
       "      <td>-9.476827</td>\n",
       "      <td>-1.760500</td>\n",
       "      <td>-4.443426</td>\n",
       "      <td>-12.665771</td>\n",
       "      <td>-2.660120</td>\n",
       "      <td>angry</td>\n",
       "    </tr>\n",
       "  </tbody>\n",
       "</table>\n",
       "<p>5 rows × 27 columns</p>\n",
       "</div>"
      ],
      "text/plain": [
       "   chroma_stft      rmse  spectral_centroid  spectral_bandwidth      rolloff  \\\n",
       "0     0.486902  0.034733        1657.257236         1588.349117  3281.329719   \n",
       "1     0.382141  0.051134        1580.328335         1471.575897  3080.698529   \n",
       "2     0.443644  0.057208        1775.730375         1645.863807  3735.033886   \n",
       "3     0.392236  0.059383        1582.547007         1512.414204  3227.638134   \n",
       "4     0.392669  0.068545        1669.935067         1561.089835  3447.250940   \n",
       "\n",
       "   zero_crossing_rate       mfcc1      mfcc2      mfcc3      mfcc4  ...  \\\n",
       "0            0.099649 -405.462769  71.520119  11.026514  31.455233  ...   \n",
       "1            0.113037 -317.783203  99.240166 -13.105242  22.339907  ...   \n",
       "2            0.107928 -307.479340  72.219337 -19.736387  16.291744  ...   \n",
       "3            0.093340 -305.964111  94.055092 -20.725239  27.264137  ...   \n",
       "4            0.109559 -290.699005  80.576462 -24.818502  16.334509  ...   \n",
       "\n",
       "      mfcc12     mfcc13    mfcc14    mfcc15    mfcc16    mfcc17    mfcc18  \\\n",
       "0   5.473570 -11.551659 -2.168627 -5.250425 -5.191661 -2.066593 -0.428604   \n",
       "1   9.406497 -13.836814 -4.128852 -3.858854 -7.881604 -2.964680 -3.171354   \n",
       "2   8.560966 -15.116873  1.118345 -7.834440 -7.523036 -1.113600 -5.466459   \n",
       "3  13.188204 -16.388475 -5.385280 -2.641008 -8.678153 -1.626459 -4.576571   \n",
       "4   9.878192 -10.717960 -2.838043 -1.277240 -9.476827 -1.760500 -4.443426   \n",
       "\n",
       "      mfcc19    mfcc20  label  \n",
       "0 -11.090604  1.018889  angry  \n",
       "1 -13.246078 -0.941111  angry  \n",
       "2  -9.647337 -0.956873  angry  \n",
       "3 -10.825919  0.032695  angry  \n",
       "4 -12.665771 -2.660120  angry  \n",
       "\n",
       "[5 rows x 27 columns]"
      ]
     },
     "execution_count": 106,
     "metadata": {},
     "output_type": "execute_result"
    }
   ],
   "source": [
    "# Dropping unneccesary columns\n",
    "data4 = data4.drop(['filename'],axis=1)\n",
    "data4.head()"
   ]
  },
  {
   "cell_type": "code",
   "execution_count": 107,
   "id": "d6fda58c",
   "metadata": {},
   "outputs": [
    {
     "name": "stdout",
     "output_type": "stream",
     "text": [
      "[0 0 0 ... 6 6 6]\n"
     ]
    }
   ],
   "source": [
    "feeling_list = data4.iloc[:, -1]\n",
    "encoder = LabelEncoder()\n",
    "y3 = encoder.fit_transform(feeling_list)\n",
    "print(y3)"
   ]
  },
  {
   "cell_type": "code",
   "execution_count": 108,
   "id": "8882176f",
   "metadata": {},
   "outputs": [],
   "source": [
    "scaler = StandardScaler()\n",
    "X3 = scaler.fit_transform(np.array(data4.iloc[:, :-1], dtype = float))"
   ]
  },
  {
   "cell_type": "code",
   "execution_count": 109,
   "id": "226c6cbc",
   "metadata": {},
   "outputs": [],
   "source": [
    "X3_train, X3_test, y3_train, y3_test = train_test_split(X3, y3, test_size=0.3, random_state=123)"
   ]
  },
  {
   "cell_type": "code",
   "execution_count": 116,
   "id": "60d1ee2f",
   "metadata": {},
   "outputs": [
    {
     "name": "stdout",
     "output_type": "stream",
     "text": [
      "Model: \"sequential_4\"\n",
      "_________________________________________________________________\n",
      " Layer (type)                Output Shape              Param #   \n",
      "=================================================================\n",
      " dense_21 (Dense)            (None, 256)               6912      \n",
      "                                                                 \n",
      " dropout_17 (Dropout)        (None, 256)               0         \n",
      "                                                                 \n",
      " dense_22 (Dense)            (None, 128)               32896     \n",
      "                                                                 \n",
      " dropout_18 (Dropout)        (None, 128)               0         \n",
      "                                                                 \n",
      " dense_23 (Dense)            (None, 64)                8256      \n",
      "                                                                 \n",
      " dropout_19 (Dropout)        (None, 64)                0         \n",
      "                                                                 \n",
      " dense_24 (Dense)            (None, 64)                4160      \n",
      "                                                                 \n",
      " dropout_20 (Dropout)        (None, 64)                0         \n",
      "                                                                 \n",
      " dense_25 (Dense)            (None, 32)                2080      \n",
      "                                                                 \n",
      " dropout_21 (Dropout)        (None, 32)                0         \n",
      "                                                                 \n",
      " dense_26 (Dense)            (None, 7)                 231       \n",
      "                                                                 \n",
      "=================================================================\n",
      "Total params: 54,535\n",
      "Trainable params: 54,535\n",
      "Non-trainable params: 0\n",
      "_________________________________________________________________\n"
     ]
    }
   ],
   "source": [
    "model3 = models.Sequential()\n",
    "model3.add(layers.Dense(256, activation='relu', input_shape=(X3_train.shape[1],)))\n",
    "model3.add(Dropout(0.3))\n",
    "model3.add(layers.Dense(128, activation='relu'))\n",
    "model3.add(Dropout(0.3))\n",
    "model3.add(layers.Dense(64, activation='relu'))\n",
    "model3.add(Dropout(0.3))\n",
    "model3.add(layers.Dense(64, activation='relu'))\n",
    "model3.add(Dropout(0.3))\n",
    "model3.add(layers.Dense(32, activation='sigmoid'))\n",
    "model3.add(Dropout(0.3))\n",
    "model3.add(layers.Dense(7, activation='softmax'))\n",
    "model3.summary()"
   ]
  },
  {
   "cell_type": "code",
   "execution_count": 117,
   "id": "9cf86796",
   "metadata": {},
   "outputs": [],
   "source": [
    "model3.compile(optimizer='adam',\n",
    "              loss='sparse_categorical_crossentropy',\n",
    "              metrics=['accuracy'])"
   ]
  },
  {
   "cell_type": "code",
   "execution_count": 118,
   "id": "94955ebb",
   "metadata": {},
   "outputs": [
    {
     "name": "stdout",
     "output_type": "stream",
     "text": [
      "Epoch 1/69\n",
      "184/184 [==============================] - 1s 3ms/step - loss: 1.8743 - accuracy: 0.2327 - val_loss: 1.5857 - val_accuracy: 0.4082\n",
      "Epoch 2/69\n",
      "184/184 [==============================] - 0s 2ms/step - loss: 1.6316 - accuracy: 0.3622 - val_loss: 1.3827 - val_accuracy: 0.4854\n",
      "Epoch 3/69\n",
      "184/184 [==============================] - 0s 2ms/step - loss: 1.5014 - accuracy: 0.4293 - val_loss: 1.2489 - val_accuracy: 0.5395\n",
      "Epoch 4/69\n",
      "184/184 [==============================] - 0s 2ms/step - loss: 1.3993 - accuracy: 0.4746 - val_loss: 1.1370 - val_accuracy: 0.5905\n",
      "Epoch 5/69\n",
      "184/184 [==============================] - 0s 2ms/step - loss: 1.3048 - accuracy: 0.5251 - val_loss: 1.0614 - val_accuracy: 0.6126\n",
      "Epoch 6/69\n",
      "184/184 [==============================] - 0s 2ms/step - loss: 1.2400 - accuracy: 0.5518 - val_loss: 0.9591 - val_accuracy: 0.6619\n",
      "Epoch 7/69\n",
      "184/184 [==============================] - 0s 2ms/step - loss: 1.1771 - accuracy: 0.5768 - val_loss: 0.9060 - val_accuracy: 0.6949\n",
      "Epoch 8/69\n",
      "184/184 [==============================] - 0s 2ms/step - loss: 1.1111 - accuracy: 0.6065 - val_loss: 0.8330 - val_accuracy: 0.7167\n",
      "Epoch 9/69\n",
      "184/184 [==============================] - 0s 2ms/step - loss: 1.0776 - accuracy: 0.6243 - val_loss: 0.7974 - val_accuracy: 0.7310\n",
      "Epoch 10/69\n",
      "184/184 [==============================] - 0s 2ms/step - loss: 1.0272 - accuracy: 0.6454 - val_loss: 0.7387 - val_accuracy: 0.7554\n",
      "Epoch 11/69\n",
      "184/184 [==============================] - 0s 2ms/step - loss: 0.9773 - accuracy: 0.6701 - val_loss: 0.7117 - val_accuracy: 0.7663\n",
      "Epoch 12/69\n",
      "184/184 [==============================] - 0s 2ms/step - loss: 0.9464 - accuracy: 0.6793 - val_loss: 0.6658 - val_accuracy: 0.7813\n",
      "Epoch 13/69\n",
      "184/184 [==============================] - 0s 2ms/step - loss: 0.9258 - accuracy: 0.6898 - val_loss: 0.6283 - val_accuracy: 0.7915\n",
      "Epoch 14/69\n",
      "184/184 [==============================] - 0s 2ms/step - loss: 0.8932 - accuracy: 0.7022 - val_loss: 0.5983 - val_accuracy: 0.8075\n",
      "Epoch 15/69\n",
      "184/184 [==============================] - 0s 2ms/step - loss: 0.8432 - accuracy: 0.7210 - val_loss: 0.5794 - val_accuracy: 0.8150\n",
      "Epoch 16/69\n",
      "184/184 [==============================] - 0s 2ms/step - loss: 0.8414 - accuracy: 0.7168 - val_loss: 0.5744 - val_accuracy: 0.8119\n",
      "Epoch 17/69\n",
      "184/184 [==============================] - 0s 2ms/step - loss: 0.8085 - accuracy: 0.7375 - val_loss: 0.5334 - val_accuracy: 0.8303\n",
      "Epoch 18/69\n",
      "184/184 [==============================] - 0s 2ms/step - loss: 0.7813 - accuracy: 0.7460 - val_loss: 0.5257 - val_accuracy: 0.8296\n",
      "Epoch 19/69\n",
      "184/184 [==============================] - 0s 2ms/step - loss: 0.7616 - accuracy: 0.7520 - val_loss: 0.5056 - val_accuracy: 0.8333\n",
      "Epoch 20/69\n",
      "184/184 [==============================] - 0s 2ms/step - loss: 0.7424 - accuracy: 0.7635 - val_loss: 0.4760 - val_accuracy: 0.8490\n",
      "Epoch 21/69\n",
      "184/184 [==============================] - 0s 2ms/step - loss: 0.7191 - accuracy: 0.7740 - val_loss: 0.4654 - val_accuracy: 0.8480\n",
      "Epoch 22/69\n",
      "184/184 [==============================] - 0s 2ms/step - loss: 0.7077 - accuracy: 0.7721 - val_loss: 0.4568 - val_accuracy: 0.8503\n",
      "Epoch 23/69\n",
      "184/184 [==============================] - 0s 2ms/step - loss: 0.6907 - accuracy: 0.7794 - val_loss: 0.4503 - val_accuracy: 0.8602\n",
      "Epoch 24/69\n",
      "184/184 [==============================] - 0s 2ms/step - loss: 0.6729 - accuracy: 0.7855 - val_loss: 0.4338 - val_accuracy: 0.8622\n",
      "Epoch 25/69\n",
      "184/184 [==============================] - 0s 2ms/step - loss: 0.6643 - accuracy: 0.7923 - val_loss: 0.4209 - val_accuracy: 0.8639\n",
      "Epoch 26/69\n",
      "184/184 [==============================] - 0s 2ms/step - loss: 0.6529 - accuracy: 0.7933 - val_loss: 0.4093 - val_accuracy: 0.8673\n",
      "Epoch 27/69\n",
      "184/184 [==============================] - 0s 2ms/step - loss: 0.6410 - accuracy: 0.7974 - val_loss: 0.3967 - val_accuracy: 0.8677\n",
      "Epoch 28/69\n",
      "184/184 [==============================] - 0s 2ms/step - loss: 0.6329 - accuracy: 0.8030 - val_loss: 0.4024 - val_accuracy: 0.8646\n",
      "Epoch 29/69\n",
      "184/184 [==============================] - 0s 2ms/step - loss: 0.6202 - accuracy: 0.8041 - val_loss: 0.3957 - val_accuracy: 0.8731\n",
      "Epoch 30/69\n",
      "184/184 [==============================] - 0s 2ms/step - loss: 0.6058 - accuracy: 0.8087 - val_loss: 0.3810 - val_accuracy: 0.8741\n",
      "Epoch 31/69\n",
      "184/184 [==============================] - 0s 2ms/step - loss: 0.5912 - accuracy: 0.8163 - val_loss: 0.3635 - val_accuracy: 0.8820\n",
      "Epoch 32/69\n",
      "184/184 [==============================] - 0s 2ms/step - loss: 0.5844 - accuracy: 0.8159 - val_loss: 0.3632 - val_accuracy: 0.8847\n",
      "Epoch 33/69\n",
      "184/184 [==============================] - 0s 2ms/step - loss: 0.5805 - accuracy: 0.8234 - val_loss: 0.3666 - val_accuracy: 0.8806\n",
      "Epoch 34/69\n",
      "184/184 [==============================] - 0s 2ms/step - loss: 0.5658 - accuracy: 0.8258 - val_loss: 0.3656 - val_accuracy: 0.8779\n",
      "Epoch 35/69\n",
      "184/184 [==============================] - 0s 2ms/step - loss: 0.5644 - accuracy: 0.8256 - val_loss: 0.3598 - val_accuracy: 0.8782\n",
      "Epoch 36/69\n",
      "184/184 [==============================] - 0s 2ms/step - loss: 0.5529 - accuracy: 0.8293 - val_loss: 0.3526 - val_accuracy: 0.8830\n",
      "Epoch 37/69\n",
      "184/184 [==============================] - 0s 2ms/step - loss: 0.5578 - accuracy: 0.8244 - val_loss: 0.3458 - val_accuracy: 0.8912\n",
      "Epoch 38/69\n",
      "184/184 [==============================] - 0s 2ms/step - loss: 0.5491 - accuracy: 0.8317 - val_loss: 0.3384 - val_accuracy: 0.8929\n",
      "Epoch 39/69\n",
      "184/184 [==============================] - 0s 2ms/step - loss: 0.5430 - accuracy: 0.8376 - val_loss: 0.3310 - val_accuracy: 0.8942\n",
      "Epoch 40/69\n",
      "184/184 [==============================] - 0s 2ms/step - loss: 0.5287 - accuracy: 0.8381 - val_loss: 0.3312 - val_accuracy: 0.8963\n",
      "Epoch 41/69\n",
      "184/184 [==============================] - 0s 2ms/step - loss: 0.5123 - accuracy: 0.8449 - val_loss: 0.3223 - val_accuracy: 0.8966\n",
      "Epoch 42/69\n",
      "184/184 [==============================] - 0s 2ms/step - loss: 0.5083 - accuracy: 0.8406 - val_loss: 0.3195 - val_accuracy: 0.8942\n",
      "Epoch 43/69\n",
      "184/184 [==============================] - 0s 2ms/step - loss: 0.5136 - accuracy: 0.8420 - val_loss: 0.3308 - val_accuracy: 0.9003\n",
      "Epoch 44/69\n",
      "184/184 [==============================] - 0s 2ms/step - loss: 0.5093 - accuracy: 0.8424 - val_loss: 0.3292 - val_accuracy: 0.8952\n",
      "Epoch 45/69\n",
      "184/184 [==============================] - 0s 2ms/step - loss: 0.5058 - accuracy: 0.8457 - val_loss: 0.3246 - val_accuracy: 0.8976\n",
      "Epoch 46/69\n",
      "184/184 [==============================] - 0s 2ms/step - loss: 0.4890 - accuracy: 0.8497 - val_loss: 0.3391 - val_accuracy: 0.8912\n",
      "Epoch 47/69\n",
      "184/184 [==============================] - 0s 2ms/step - loss: 0.5036 - accuracy: 0.8432 - val_loss: 0.3144 - val_accuracy: 0.9041\n",
      "Epoch 48/69\n",
      "184/184 [==============================] - 0s 2ms/step - loss: 0.4612 - accuracy: 0.8536 - val_loss: 0.3239 - val_accuracy: 0.8959\n",
      "Epoch 49/69\n",
      "184/184 [==============================] - 0s 2ms/step - loss: 0.4881 - accuracy: 0.8513 - val_loss: 0.3208 - val_accuracy: 0.8952\n",
      "Epoch 50/69\n",
      "184/184 [==============================] - 0s 2ms/step - loss: 0.4862 - accuracy: 0.8486 - val_loss: 0.3165 - val_accuracy: 0.8986\n",
      "Epoch 51/69\n",
      "184/184 [==============================] - 0s 2ms/step - loss: 0.4653 - accuracy: 0.8598 - val_loss: 0.3096 - val_accuracy: 0.9014\n",
      "Epoch 52/69\n",
      "184/184 [==============================] - 0s 2ms/step - loss: 0.4641 - accuracy: 0.8575 - val_loss: 0.3220 - val_accuracy: 0.8980\n",
      "Epoch 53/69\n",
      "184/184 [==============================] - 0s 2ms/step - loss: 0.4458 - accuracy: 0.8655 - val_loss: 0.3219 - val_accuracy: 0.9065\n",
      "Epoch 54/69\n",
      "184/184 [==============================] - 0s 2ms/step - loss: 0.4637 - accuracy: 0.8593 - val_loss: 0.3108 - val_accuracy: 0.9048\n",
      "Epoch 55/69\n",
      "184/184 [==============================] - 0s 2ms/step - loss: 0.4556 - accuracy: 0.8636 - val_loss: 0.2966 - val_accuracy: 0.9082\n",
      "Epoch 56/69\n",
      "184/184 [==============================] - 0s 2ms/step - loss: 0.4569 - accuracy: 0.8619 - val_loss: 0.3067 - val_accuracy: 0.9054\n",
      "Epoch 57/69\n",
      "184/184 [==============================] - 0s 2ms/step - loss: 0.4471 - accuracy: 0.8622 - val_loss: 0.2989 - val_accuracy: 0.9075\n",
      "Epoch 58/69\n",
      "184/184 [==============================] - 0s 2ms/step - loss: 0.4620 - accuracy: 0.8584 - val_loss: 0.3057 - val_accuracy: 0.9010\n",
      "Epoch 59/69\n",
      "184/184 [==============================] - 0s 2ms/step - loss: 0.4499 - accuracy: 0.8648 - val_loss: 0.3080 - val_accuracy: 0.9075\n",
      "Epoch 60/69\n",
      "184/184 [==============================] - 0s 2ms/step - loss: 0.4330 - accuracy: 0.8707 - val_loss: 0.3082 - val_accuracy: 0.8986\n",
      "Epoch 61/69\n",
      "184/184 [==============================] - 0s 2ms/step - loss: 0.4370 - accuracy: 0.8693 - val_loss: 0.3010 - val_accuracy: 0.9071\n",
      "Epoch 62/69\n",
      "184/184 [==============================] - 0s 2ms/step - loss: 0.4338 - accuracy: 0.8692 - val_loss: 0.3008 - val_accuracy: 0.9041\n",
      "Epoch 63/69\n",
      "184/184 [==============================] - 0s 2ms/step - loss: 0.4200 - accuracy: 0.8679 - val_loss: 0.3014 - val_accuracy: 0.9085\n",
      "Epoch 64/69\n",
      "184/184 [==============================] - 0s 2ms/step - loss: 0.4237 - accuracy: 0.8737 - val_loss: 0.2925 - val_accuracy: 0.9136\n",
      "Epoch 65/69\n",
      "184/184 [==============================] - 0s 2ms/step - loss: 0.4335 - accuracy: 0.8678 - val_loss: 0.2929 - val_accuracy: 0.9126\n",
      "Epoch 66/69\n",
      "184/184 [==============================] - 0s 2ms/step - loss: 0.4139 - accuracy: 0.8758 - val_loss: 0.3067 - val_accuracy: 0.9071\n",
      "Epoch 67/69\n",
      "184/184 [==============================] - 0s 2ms/step - loss: 0.4245 - accuracy: 0.8701 - val_loss: 0.2858 - val_accuracy: 0.9160\n",
      "Epoch 68/69\n",
      "184/184 [==============================] - 0s 2ms/step - loss: 0.4106 - accuracy: 0.8748 - val_loss: 0.2833 - val_accuracy: 0.9122\n",
      "Epoch 69/69\n",
      "184/184 [==============================] - 0s 2ms/step - loss: 0.4143 - accuracy: 0.8742 - val_loss: 0.2859 - val_accuracy: 0.9116\n"
     ]
    }
   ],
   "source": [
    "history3 = model3.fit(X3_train,\n",
    "                    y3_train,\n",
    "                    epochs=69,\n",
    "                    batch_size=64,\n",
    "                    validation_split=0.2,\n",
    "                    )"
   ]
  },
  {
   "cell_type": "code",
   "execution_count": 119,
   "id": "98d06df8",
   "metadata": {},
   "outputs": [
    {
     "name": "stdout",
     "output_type": "stream",
     "text": [
      "197/197 [==============================] - 0s 697us/step - loss: 0.3006 - accuracy: 0.9067\n",
      "test_acc:  0.9066666960716248\n"
     ]
    }
   ],
   "source": [
    "test_loss, test_acc = model3.evaluate(X3_test,y3_test)\n",
    "print('test_acc: ',test_acc)"
   ]
  },
  {
   "cell_type": "code",
   "execution_count": 120,
   "id": "a39b9668",
   "metadata": {
    "scrolled": true
   },
   "outputs": [
    {
     "data": {
      "image/png": "[encoded data removed]",
      "text/plain": [
       "<Figure size 1080x360 with 1 Axes>"
      ]
     },
     "metadata": {
      "needs_background": "light"
     },
     "output_type": "display_data"
    }
   ],
   "source": [
    "#train .val 정확도 그래프 그리기 \n",
    "# 두 개의 선그래프 시각화 \n",
    "# acc, val_data \n",
    "# 정확도 추이 ,선 그래프 시각화 \n",
    "plt.figure(figsize=(15,5))\n",
    "plt.plot(history3.history[\"accuracy\"], label = 'accuracy',  c=\"blue\", marker='.' )\n",
    "plt.plot(history3.history[\"val_accuracy\"], label = 'val_accuracy',  c=\"red\", marker='.' )\n",
    "\n",
    "# 라인차트 생성\n",
    "# history : 학습시 출력되는 loss값 혹은 정확도 값을 가져오기 위한 명령 \n",
    "plt.legend()\n",
    "\n",
    "plt.show()"
   ]
  },
  {
   "cell_type": "code",
   "execution_count": 121,
   "id": "26888132",
   "metadata": {
    "scrolled": true
   },
   "outputs": [
    {
     "data": {
      "image/png": "[encoded data removed]",
      "text/plain": [
       "<Figure size 1080x360 with 1 Axes>"
      ]
     },
     "metadata": {
      "needs_background": "light"
     },
     "output_type": "display_data"
    }
   ],
   "source": [
    "#train .val 정확도 그래프 그리기 \n",
    "# 두 개의 선그래프 시각화 \n",
    "# acc, val_data \n",
    "# 정확도 추이 ,선 그래프 시각화 \n",
    "plt.figure(figsize=(15,5))\n",
    "plt.plot(history3.history[\"loss\"], label = 'loss',  c=\"blue\", marker='.' )\n",
    "plt.plot(history3.history[\"val_loss\"], label = 'val_loss',  c=\"red\", marker='.' )\n",
    "\n",
    "# 라인차트 생성\n",
    "# history : 학습시 출력되는 loss값 혹은 정확도 값을 가져오기 위한 명령 \n",
    "plt.legend()\n",
    "\n",
    "plt.show()"
   ]
  },
  {
   "cell_type": "code",
   "execution_count": 122,
   "id": "338f9d0f",
   "metadata": {},
   "outputs": [
    {
     "name": "stdout",
     "output_type": "stream",
     "text": [
      "197/197 [==============================] - 0s 590us/step\n",
      "              precision    recall  f1-score   support\n",
      "\n",
      "           0       0.93      0.90      0.92       897\n",
      "           1       0.88      0.89      0.88       876\n",
      "           2       0.91      0.94      0.92       890\n",
      "           3       0.95      0.95      0.95       919\n",
      "           4       0.87      0.85      0.86       925\n",
      "           5       0.91      0.88      0.89       898\n",
      "           6       0.90      0.93      0.92       895\n",
      "\n",
      "    accuracy                           0.91      6300\n",
      "   macro avg       0.91      0.91      0.91      6300\n",
      "weighted avg       0.91      0.91      0.91      6300\n",
      "\n"
     ]
    }
   ],
   "source": [
    "from sklearn.metrics import classification_report\n",
    "pred = model3.predict(X3_test)\n",
    "print(classification_report(y3_test, np.argmax(pred, axis=1)))"
   ]
  },
  {
   "cell_type": "code",
   "execution_count": null,
   "id": "4a03b885",
   "metadata": {},
   "outputs": [],
   "source": [
    "# 감정분류 라벨링 "
   ]
  },
  {
   "cell_type": "code",
   "execution_count": 4,
   "id": "15928ccd",
   "metadata": {},
   "outputs": [],
   "source": [
    "data4 = pd.read_csv('actor_feeling.csv')"
   ]
  },
  {
   "cell_type": "code",
   "execution_count": 5,
   "id": "0b18f31a",
   "metadata": {},
   "outputs": [
    {
     "data": {
      "text/html": [
       "<div>\n",
       "<style scoped>\n",
       "    .dataframe tbody tr th:only-of-type {\n",
       "        vertical-align: middle;\n",
       "    }\n",
       "\n",
       "    .dataframe tbody tr th {\n",
       "        vertical-align: top;\n",
       "    }\n",
       "\n",
       "    .dataframe thead th {\n",
       "        text-align: right;\n",
       "    }\n",
       "</style>\n",
       "<table border=\"1\" class=\"dataframe\">\n",
       "  <thead>\n",
       "    <tr style=\"text-align: right;\">\n",
       "      <th></th>\n",
       "      <th>filename</th>\n",
       "      <th>actor_numlist</th>\n",
       "      <th>gender_list</th>\n",
       "      <th>age_list</th>\n",
       "      <th>movie_biglist</th>\n",
       "      <th>movie_smalllist</th>\n",
       "      <th>chroma_stft</th>\n",
       "      <th>rmse</th>\n",
       "      <th>spectral_centroid</th>\n",
       "      <th>spectral_bandwidth</th>\n",
       "      <th>...</th>\n",
       "      <th>mfcc11</th>\n",
       "      <th>mfcc12</th>\n",
       "      <th>mfcc13</th>\n",
       "      <th>mfcc14</th>\n",
       "      <th>mfcc15</th>\n",
       "      <th>mfcc16</th>\n",
       "      <th>mfcc17</th>\n",
       "      <th>mfcc18</th>\n",
       "      <th>mfcc19</th>\n",
       "      <th>mfcc20</th>\n",
       "    </tr>\n",
       "  </thead>\n",
       "  <tbody>\n",
       "    <tr>\n",
       "      <th>0</th>\n",
       "      <td>102_1_1_11.wav</td>\n",
       "      <td>102</td>\n",
       "      <td>1</td>\n",
       "      <td>1</td>\n",
       "      <td>1</td>\n",
       "      <td>1</td>\n",
       "      <td>0.348868</td>\n",
       "      <td>0.055374</td>\n",
       "      <td>1955.243004</td>\n",
       "      <td>1671.566732</td>\n",
       "      <td>...</td>\n",
       "      <td>-13.025048</td>\n",
       "      <td>5.694613</td>\n",
       "      <td>-1.344383</td>\n",
       "      <td>1.846872</td>\n",
       "      <td>-2.711264</td>\n",
       "      <td>10.889313</td>\n",
       "      <td>-6.206437</td>\n",
       "      <td>15.808886</td>\n",
       "      <td>-6.551736</td>\n",
       "      <td>0.295115</td>\n",
       "    </tr>\n",
       "    <tr>\n",
       "      <th>1</th>\n",
       "      <td>102_1_1_110.wav</td>\n",
       "      <td>102</td>\n",
       "      <td>1</td>\n",
       "      <td>1</td>\n",
       "      <td>1</td>\n",
       "      <td>10</td>\n",
       "      <td>0.288714</td>\n",
       "      <td>0.055306</td>\n",
       "      <td>2572.800243</td>\n",
       "      <td>1677.319406</td>\n",
       "      <td>...</td>\n",
       "      <td>-19.198872</td>\n",
       "      <td>-1.723121</td>\n",
       "      <td>-12.604639</td>\n",
       "      <td>0.259864</td>\n",
       "      <td>-8.158375</td>\n",
       "      <td>0.108342</td>\n",
       "      <td>-4.934168</td>\n",
       "      <td>16.238890</td>\n",
       "      <td>-2.415089</td>\n",
       "      <td>16.822065</td>\n",
       "    </tr>\n",
       "    <tr>\n",
       "      <th>2</th>\n",
       "      <td>102_1_1_111.wav</td>\n",
       "      <td>102</td>\n",
       "      <td>1</td>\n",
       "      <td>1</td>\n",
       "      <td>1</td>\n",
       "      <td>11</td>\n",
       "      <td>0.266184</td>\n",
       "      <td>0.030098</td>\n",
       "      <td>3212.328582</td>\n",
       "      <td>1408.135146</td>\n",
       "      <td>...</td>\n",
       "      <td>-11.516680</td>\n",
       "      <td>-4.395924</td>\n",
       "      <td>-6.492270</td>\n",
       "      <td>-1.780171</td>\n",
       "      <td>-8.762988</td>\n",
       "      <td>2.643049</td>\n",
       "      <td>-7.164022</td>\n",
       "      <td>5.950158</td>\n",
       "      <td>-5.147821</td>\n",
       "      <td>6.153486</td>\n",
       "    </tr>\n",
       "    <tr>\n",
       "      <th>3</th>\n",
       "      <td>102_1_1_112.wav</td>\n",
       "      <td>102</td>\n",
       "      <td>1</td>\n",
       "      <td>1</td>\n",
       "      <td>1</td>\n",
       "      <td>12</td>\n",
       "      <td>0.322741</td>\n",
       "      <td>0.029145</td>\n",
       "      <td>3530.992516</td>\n",
       "      <td>1894.613794</td>\n",
       "      <td>...</td>\n",
       "      <td>-11.457444</td>\n",
       "      <td>4.472747</td>\n",
       "      <td>-6.664994</td>\n",
       "      <td>4.951821</td>\n",
       "      <td>-5.980581</td>\n",
       "      <td>1.526524</td>\n",
       "      <td>-7.908949</td>\n",
       "      <td>9.106786</td>\n",
       "      <td>-9.211611</td>\n",
       "      <td>6.776347</td>\n",
       "    </tr>\n",
       "    <tr>\n",
       "      <th>4</th>\n",
       "      <td>102_1_1_113.wav</td>\n",
       "      <td>102</td>\n",
       "      <td>1</td>\n",
       "      <td>1</td>\n",
       "      <td>1</td>\n",
       "      <td>13</td>\n",
       "      <td>0.327308</td>\n",
       "      <td>0.042507</td>\n",
       "      <td>2829.267467</td>\n",
       "      <td>1713.853079</td>\n",
       "      <td>...</td>\n",
       "      <td>-18.223223</td>\n",
       "      <td>-0.791216</td>\n",
       "      <td>-9.598868</td>\n",
       "      <td>-1.405376</td>\n",
       "      <td>-14.348863</td>\n",
       "      <td>-5.466184</td>\n",
       "      <td>-12.460888</td>\n",
       "      <td>-1.292890</td>\n",
       "      <td>-10.724650</td>\n",
       "      <td>-0.168348</td>\n",
       "    </tr>\n",
       "    <tr>\n",
       "      <th>...</th>\n",
       "      <td>...</td>\n",
       "      <td>...</td>\n",
       "      <td>...</td>\n",
       "      <td>...</td>\n",
       "      <td>...</td>\n",
       "      <td>...</td>\n",
       "      <td>...</td>\n",
       "      <td>...</td>\n",
       "      <td>...</td>\n",
       "      <td>...</td>\n",
       "      <td>...</td>\n",
       "      <td>...</td>\n",
       "      <td>...</td>\n",
       "      <td>...</td>\n",
       "      <td>...</td>\n",
       "      <td>...</td>\n",
       "      <td>...</td>\n",
       "      <td>...</td>\n",
       "      <td>...</td>\n",
       "      <td>...</td>\n",
       "      <td>...</td>\n",
       "    </tr>\n",
       "    <tr>\n",
       "      <th>3746</th>\n",
       "      <td>99_0_1_212.wav</td>\n",
       "      <td>99</td>\n",
       "      <td>0</td>\n",
       "      <td>1</td>\n",
       "      <td>2</td>\n",
       "      <td>12</td>\n",
       "      <td>0.453002</td>\n",
       "      <td>0.051393</td>\n",
       "      <td>1546.679392</td>\n",
       "      <td>1325.129109</td>\n",
       "      <td>...</td>\n",
       "      <td>0.267547</td>\n",
       "      <td>5.504103</td>\n",
       "      <td>-1.761909</td>\n",
       "      <td>9.252627</td>\n",
       "      <td>-6.900524</td>\n",
       "      <td>-3.201300</td>\n",
       "      <td>-7.764434</td>\n",
       "      <td>1.338963</td>\n",
       "      <td>-5.610993</td>\n",
       "      <td>1.843381</td>\n",
       "    </tr>\n",
       "    <tr>\n",
       "      <th>3747</th>\n",
       "      <td>99_0_1_213.wav</td>\n",
       "      <td>99</td>\n",
       "      <td>0</td>\n",
       "      <td>1</td>\n",
       "      <td>2</td>\n",
       "      <td>13</td>\n",
       "      <td>0.354884</td>\n",
       "      <td>0.077245</td>\n",
       "      <td>1873.961010</td>\n",
       "      <td>1447.850304</td>\n",
       "      <td>...</td>\n",
       "      <td>3.380871</td>\n",
       "      <td>2.092410</td>\n",
       "      <td>-9.555003</td>\n",
       "      <td>2.435296</td>\n",
       "      <td>-15.219098</td>\n",
       "      <td>-3.553502</td>\n",
       "      <td>-8.628905</td>\n",
       "      <td>3.542082</td>\n",
       "      <td>-9.139266</td>\n",
       "      <td>0.457306</td>\n",
       "    </tr>\n",
       "    <tr>\n",
       "      <th>3748</th>\n",
       "      <td>99_0_1_310.wav</td>\n",
       "      <td>99</td>\n",
       "      <td>0</td>\n",
       "      <td>1</td>\n",
       "      <td>3</td>\n",
       "      <td>10</td>\n",
       "      <td>0.434263</td>\n",
       "      <td>0.025383</td>\n",
       "      <td>1778.968360</td>\n",
       "      <td>1581.023624</td>\n",
       "      <td>...</td>\n",
       "      <td>-6.307500</td>\n",
       "      <td>-2.274016</td>\n",
       "      <td>-7.258186</td>\n",
       "      <td>10.727494</td>\n",
       "      <td>-6.291093</td>\n",
       "      <td>3.389818</td>\n",
       "      <td>-2.325431</td>\n",
       "      <td>7.554872</td>\n",
       "      <td>-11.533215</td>\n",
       "      <td>0.278580</td>\n",
       "    </tr>\n",
       "    <tr>\n",
       "      <th>3749</th>\n",
       "      <td>99_0_1_311.wav</td>\n",
       "      <td>99</td>\n",
       "      <td>0</td>\n",
       "      <td>1</td>\n",
       "      <td>3</td>\n",
       "      <td>11</td>\n",
       "      <td>0.532538</td>\n",
       "      <td>0.015890</td>\n",
       "      <td>2140.577410</td>\n",
       "      <td>1577.665622</td>\n",
       "      <td>...</td>\n",
       "      <td>-5.154140</td>\n",
       "      <td>1.415474</td>\n",
       "      <td>-6.744165</td>\n",
       "      <td>8.435288</td>\n",
       "      <td>-5.511384</td>\n",
       "      <td>5.510977</td>\n",
       "      <td>-1.724647</td>\n",
       "      <td>7.699049</td>\n",
       "      <td>-5.961572</td>\n",
       "      <td>4.850646</td>\n",
       "    </tr>\n",
       "    <tr>\n",
       "      <th>3750</th>\n",
       "      <td>99_0_1_312.wav</td>\n",
       "      <td>99</td>\n",
       "      <td>0</td>\n",
       "      <td>1</td>\n",
       "      <td>3</td>\n",
       "      <td>12</td>\n",
       "      <td>0.239648</td>\n",
       "      <td>0.022649</td>\n",
       "      <td>1717.495766</td>\n",
       "      <td>1147.540536</td>\n",
       "      <td>...</td>\n",
       "      <td>-10.428824</td>\n",
       "      <td>-3.508537</td>\n",
       "      <td>-11.660733</td>\n",
       "      <td>11.999002</td>\n",
       "      <td>-9.432117</td>\n",
       "      <td>-0.688192</td>\n",
       "      <td>-0.537723</td>\n",
       "      <td>4.046784</td>\n",
       "      <td>-9.669930</td>\n",
       "      <td>0.851674</td>\n",
       "    </tr>\n",
       "  </tbody>\n",
       "</table>\n",
       "<p>3751 rows × 32 columns</p>\n",
       "</div>"
      ],
      "text/plain": [
       "             filename  actor_numlist  gender_list  age_list  movie_biglist  \\\n",
       "0      102_1_1_11.wav            102            1         1              1   \n",
       "1     102_1_1_110.wav            102            1         1              1   \n",
       "2     102_1_1_111.wav            102            1         1              1   \n",
       "3     102_1_1_112.wav            102            1         1              1   \n",
       "4     102_1_1_113.wav            102            1         1              1   \n",
       "...               ...            ...          ...       ...            ...   \n",
       "3746   99_0_1_212.wav             99            0         1              2   \n",
       "3747   99_0_1_213.wav             99            0         1              2   \n",
       "3748   99_0_1_310.wav             99            0         1              3   \n",
       "3749   99_0_1_311.wav             99            0         1              3   \n",
       "3750   99_0_1_312.wav             99            0         1              3   \n",
       "\n",
       "      movie_smalllist  chroma_stft      rmse  spectral_centroid  \\\n",
       "0                   1     0.348868  0.055374        1955.243004   \n",
       "1                  10     0.288714  0.055306        2572.800243   \n",
       "2                  11     0.266184  0.030098        3212.328582   \n",
       "3                  12     0.322741  0.029145        3530.992516   \n",
       "4                  13     0.327308  0.042507        2829.267467   \n",
       "...               ...          ...       ...                ...   \n",
       "3746               12     0.453002  0.051393        1546.679392   \n",
       "3747               13     0.354884  0.077245        1873.961010   \n",
       "3748               10     0.434263  0.025383        1778.968360   \n",
       "3749               11     0.532538  0.015890        2140.577410   \n",
       "3750               12     0.239648  0.022649        1717.495766   \n",
       "\n",
       "      spectral_bandwidth  ...     mfcc11    mfcc12     mfcc13     mfcc14  \\\n",
       "0            1671.566732  ... -13.025048  5.694613  -1.344383   1.846872   \n",
       "1            1677.319406  ... -19.198872 -1.723121 -12.604639   0.259864   \n",
       "2            1408.135146  ... -11.516680 -4.395924  -6.492270  -1.780171   \n",
       "3            1894.613794  ... -11.457444  4.472747  -6.664994   4.951821   \n",
       "4            1713.853079  ... -18.223223 -0.791216  -9.598868  -1.405376   \n",
       "...                  ...  ...        ...       ...        ...        ...   \n",
       "3746         1325.129109  ...   0.267547  5.504103  -1.761909   9.252627   \n",
       "3747         1447.850304  ...   3.380871  2.092410  -9.555003   2.435296   \n",
       "3748         1581.023624  ...  -6.307500 -2.274016  -7.258186  10.727494   \n",
       "3749         1577.665622  ...  -5.154140  1.415474  -6.744165   8.435288   \n",
       "3750         1147.540536  ... -10.428824 -3.508537 -11.660733  11.999002   \n",
       "\n",
       "         mfcc15     mfcc16     mfcc17     mfcc18     mfcc19     mfcc20  \n",
       "0     -2.711264  10.889313  -6.206437  15.808886  -6.551736   0.295115  \n",
       "1     -8.158375   0.108342  -4.934168  16.238890  -2.415089  16.822065  \n",
       "2     -8.762988   2.643049  -7.164022   5.950158  -5.147821   6.153486  \n",
       "3     -5.980581   1.526524  -7.908949   9.106786  -9.211611   6.776347  \n",
       "4    -14.348863  -5.466184 -12.460888  -1.292890 -10.724650  -0.168348  \n",
       "...         ...        ...        ...        ...        ...        ...  \n",
       "3746  -6.900524  -3.201300  -7.764434   1.338963  -5.610993   1.843381  \n",
       "3747 -15.219098  -3.553502  -8.628905   3.542082  -9.139266   0.457306  \n",
       "3748  -6.291093   3.389818  -2.325431   7.554872 -11.533215   0.278580  \n",
       "3749  -5.511384   5.510977  -1.724647   7.699049  -5.961572   4.850646  \n",
       "3750  -9.432117  -0.688192  -0.537723   4.046784  -9.669930   0.851674  \n",
       "\n",
       "[3751 rows x 32 columns]"
      ]
     },
     "execution_count": 5,
     "metadata": {},
     "output_type": "execute_result"
    }
   ],
   "source": [
    "data4"
   ]
  },
  {
   "cell_type": "code",
   "execution_count": 898,
   "id": "9dd7d42a",
   "metadata": {},
   "outputs": [],
   "source": [
    "scaler = StandardScaler()\n",
    "X4 = scaler.fit_transform(np.array(data4.iloc[:, 6:], dtype = float))"
   ]
  },
  {
   "cell_type": "code",
   "execution_count": 899,
   "id": "22117ab3",
   "metadata": {},
   "outputs": [
    {
     "name": "stdout",
     "output_type": "stream",
     "text": [
      "118/118 [==============================] - 0s 929us/step\n"
     ]
    }
   ],
   "source": [
    "predictions = model3.predict(X4)\n",
    "pre_list = []\n",
    "for i in range(0, 3751, 1):\n",
    "    pre_list.append(np.argmax(predictions[i]))"
   ]
  },
  {
   "cell_type": "code",
   "execution_count": 36,
   "id": "f50162f9",
   "metadata": {
    "scrolled": true
   },
   "outputs": [
    {
     "data": {
      "text/html": [
       "<div>\n",
       "<style scoped>\n",
       "    .dataframe tbody tr th:only-of-type {\n",
       "        vertical-align: middle;\n",
       "    }\n",
       "\n",
       "    .dataframe tbody tr th {\n",
       "        vertical-align: top;\n",
       "    }\n",
       "\n",
       "    .dataframe thead th {\n",
       "        text-align: right;\n",
       "    }\n",
       "</style>\n",
       "<table border=\"1\" class=\"dataframe\">\n",
       "  <thead>\n",
       "    <tr style=\"text-align: right;\">\n",
       "      <th></th>\n",
       "      <th>filename</th>\n",
       "      <th>actor_numlist</th>\n",
       "      <th>gender_list</th>\n",
       "      <th>age_list</th>\n",
       "      <th>movie_biglist</th>\n",
       "      <th>movie_smalllist</th>\n",
       "      <th>chroma_stft</th>\n",
       "      <th>rmse</th>\n",
       "      <th>spectral_centroid</th>\n",
       "      <th>spectral_bandwidth</th>\n",
       "      <th>...</th>\n",
       "      <th>mfcc11</th>\n",
       "      <th>mfcc12</th>\n",
       "      <th>mfcc13</th>\n",
       "      <th>mfcc14</th>\n",
       "      <th>mfcc15</th>\n",
       "      <th>mfcc16</th>\n",
       "      <th>mfcc17</th>\n",
       "      <th>mfcc18</th>\n",
       "      <th>mfcc19</th>\n",
       "      <th>mfcc20</th>\n",
       "    </tr>\n",
       "  </thead>\n",
       "  <tbody>\n",
       "    <tr>\n",
       "      <th>0</th>\n",
       "      <td>102_1_1_11.wav</td>\n",
       "      <td>102</td>\n",
       "      <td>1</td>\n",
       "      <td>1</td>\n",
       "      <td>1</td>\n",
       "      <td>1</td>\n",
       "      <td>0.348868</td>\n",
       "      <td>0.055374</td>\n",
       "      <td>1955.243004</td>\n",
       "      <td>1671.566732</td>\n",
       "      <td>...</td>\n",
       "      <td>-13.025048</td>\n",
       "      <td>5.694613</td>\n",
       "      <td>-1.344383</td>\n",
       "      <td>1.846872</td>\n",
       "      <td>-2.711264</td>\n",
       "      <td>10.889313</td>\n",
       "      <td>-6.206437</td>\n",
       "      <td>15.808886</td>\n",
       "      <td>-6.551736</td>\n",
       "      <td>0.295115</td>\n",
       "    </tr>\n",
       "    <tr>\n",
       "      <th>1</th>\n",
       "      <td>102_1_1_110.wav</td>\n",
       "      <td>102</td>\n",
       "      <td>1</td>\n",
       "      <td>1</td>\n",
       "      <td>1</td>\n",
       "      <td>10</td>\n",
       "      <td>0.288714</td>\n",
       "      <td>0.055306</td>\n",
       "      <td>2572.800243</td>\n",
       "      <td>1677.319406</td>\n",
       "      <td>...</td>\n",
       "      <td>-19.198872</td>\n",
       "      <td>-1.723121</td>\n",
       "      <td>-12.604639</td>\n",
       "      <td>0.259864</td>\n",
       "      <td>-8.158375</td>\n",
       "      <td>0.108342</td>\n",
       "      <td>-4.934168</td>\n",
       "      <td>16.238890</td>\n",
       "      <td>-2.415089</td>\n",
       "      <td>16.822065</td>\n",
       "    </tr>\n",
       "    <tr>\n",
       "      <th>2</th>\n",
       "      <td>102_1_1_111.wav</td>\n",
       "      <td>102</td>\n",
       "      <td>1</td>\n",
       "      <td>1</td>\n",
       "      <td>1</td>\n",
       "      <td>11</td>\n",
       "      <td>0.266184</td>\n",
       "      <td>0.030098</td>\n",
       "      <td>3212.328582</td>\n",
       "      <td>1408.135146</td>\n",
       "      <td>...</td>\n",
       "      <td>-11.516680</td>\n",
       "      <td>-4.395924</td>\n",
       "      <td>-6.492270</td>\n",
       "      <td>-1.780171</td>\n",
       "      <td>-8.762988</td>\n",
       "      <td>2.643049</td>\n",
       "      <td>-7.164022</td>\n",
       "      <td>5.950158</td>\n",
       "      <td>-5.147821</td>\n",
       "      <td>6.153486</td>\n",
       "    </tr>\n",
       "    <tr>\n",
       "      <th>3</th>\n",
       "      <td>102_1_1_112.wav</td>\n",
       "      <td>102</td>\n",
       "      <td>1</td>\n",
       "      <td>1</td>\n",
       "      <td>1</td>\n",
       "      <td>12</td>\n",
       "      <td>0.322741</td>\n",
       "      <td>0.029145</td>\n",
       "      <td>3530.992516</td>\n",
       "      <td>1894.613794</td>\n",
       "      <td>...</td>\n",
       "      <td>-11.457444</td>\n",
       "      <td>4.472747</td>\n",
       "      <td>-6.664994</td>\n",
       "      <td>4.951821</td>\n",
       "      <td>-5.980581</td>\n",
       "      <td>1.526524</td>\n",
       "      <td>-7.908949</td>\n",
       "      <td>9.106786</td>\n",
       "      <td>-9.211611</td>\n",
       "      <td>6.776347</td>\n",
       "    </tr>\n",
       "    <tr>\n",
       "      <th>4</th>\n",
       "      <td>102_1_1_113.wav</td>\n",
       "      <td>102</td>\n",
       "      <td>1</td>\n",
       "      <td>1</td>\n",
       "      <td>1</td>\n",
       "      <td>13</td>\n",
       "      <td>0.327308</td>\n",
       "      <td>0.042507</td>\n",
       "      <td>2829.267467</td>\n",
       "      <td>1713.853079</td>\n",
       "      <td>...</td>\n",
       "      <td>-18.223223</td>\n",
       "      <td>-0.791216</td>\n",
       "      <td>-9.598868</td>\n",
       "      <td>-1.405376</td>\n",
       "      <td>-14.348863</td>\n",
       "      <td>-5.466184</td>\n",
       "      <td>-12.460888</td>\n",
       "      <td>-1.292890</td>\n",
       "      <td>-10.724650</td>\n",
       "      <td>-0.168348</td>\n",
       "    </tr>\n",
       "    <tr>\n",
       "      <th>...</th>\n",
       "      <td>...</td>\n",
       "      <td>...</td>\n",
       "      <td>...</td>\n",
       "      <td>...</td>\n",
       "      <td>...</td>\n",
       "      <td>...</td>\n",
       "      <td>...</td>\n",
       "      <td>...</td>\n",
       "      <td>...</td>\n",
       "      <td>...</td>\n",
       "      <td>...</td>\n",
       "      <td>...</td>\n",
       "      <td>...</td>\n",
       "      <td>...</td>\n",
       "      <td>...</td>\n",
       "      <td>...</td>\n",
       "      <td>...</td>\n",
       "      <td>...</td>\n",
       "      <td>...</td>\n",
       "      <td>...</td>\n",
       "      <td>...</td>\n",
       "    </tr>\n",
       "    <tr>\n",
       "      <th>3746</th>\n",
       "      <td>99_0_1_212.wav</td>\n",
       "      <td>99</td>\n",
       "      <td>0</td>\n",
       "      <td>1</td>\n",
       "      <td>2</td>\n",
       "      <td>12</td>\n",
       "      <td>0.453002</td>\n",
       "      <td>0.051393</td>\n",
       "      <td>1546.679392</td>\n",
       "      <td>1325.129109</td>\n",
       "      <td>...</td>\n",
       "      <td>0.267547</td>\n",
       "      <td>5.504103</td>\n",
       "      <td>-1.761909</td>\n",
       "      <td>9.252627</td>\n",
       "      <td>-6.900524</td>\n",
       "      <td>-3.201300</td>\n",
       "      <td>-7.764434</td>\n",
       "      <td>1.338963</td>\n",
       "      <td>-5.610993</td>\n",
       "      <td>1.843381</td>\n",
       "    </tr>\n",
       "    <tr>\n",
       "      <th>3747</th>\n",
       "      <td>99_0_1_213.wav</td>\n",
       "      <td>99</td>\n",
       "      <td>0</td>\n",
       "      <td>1</td>\n",
       "      <td>2</td>\n",
       "      <td>13</td>\n",
       "      <td>0.354884</td>\n",
       "      <td>0.077245</td>\n",
       "      <td>1873.961010</td>\n",
       "      <td>1447.850304</td>\n",
       "      <td>...</td>\n",
       "      <td>3.380871</td>\n",
       "      <td>2.092410</td>\n",
       "      <td>-9.555003</td>\n",
       "      <td>2.435296</td>\n",
       "      <td>-15.219098</td>\n",
       "      <td>-3.553502</td>\n",
       "      <td>-8.628905</td>\n",
       "      <td>3.542082</td>\n",
       "      <td>-9.139266</td>\n",
       "      <td>0.457306</td>\n",
       "    </tr>\n",
       "    <tr>\n",
       "      <th>3748</th>\n",
       "      <td>99_0_1_310.wav</td>\n",
       "      <td>99</td>\n",
       "      <td>0</td>\n",
       "      <td>1</td>\n",
       "      <td>3</td>\n",
       "      <td>10</td>\n",
       "      <td>0.434263</td>\n",
       "      <td>0.025383</td>\n",
       "      <td>1778.968360</td>\n",
       "      <td>1581.023624</td>\n",
       "      <td>...</td>\n",
       "      <td>-6.307500</td>\n",
       "      <td>-2.274016</td>\n",
       "      <td>-7.258186</td>\n",
       "      <td>10.727494</td>\n",
       "      <td>-6.291093</td>\n",
       "      <td>3.389818</td>\n",
       "      <td>-2.325431</td>\n",
       "      <td>7.554872</td>\n",
       "      <td>-11.533215</td>\n",
       "      <td>0.278580</td>\n",
       "    </tr>\n",
       "    <tr>\n",
       "      <th>3749</th>\n",
       "      <td>99_0_1_311.wav</td>\n",
       "      <td>99</td>\n",
       "      <td>0</td>\n",
       "      <td>1</td>\n",
       "      <td>3</td>\n",
       "      <td>11</td>\n",
       "      <td>0.532538</td>\n",
       "      <td>0.015890</td>\n",
       "      <td>2140.577410</td>\n",
       "      <td>1577.665622</td>\n",
       "      <td>...</td>\n",
       "      <td>-5.154140</td>\n",
       "      <td>1.415474</td>\n",
       "      <td>-6.744165</td>\n",
       "      <td>8.435288</td>\n",
       "      <td>-5.511384</td>\n",
       "      <td>5.510977</td>\n",
       "      <td>-1.724647</td>\n",
       "      <td>7.699049</td>\n",
       "      <td>-5.961572</td>\n",
       "      <td>4.850646</td>\n",
       "    </tr>\n",
       "    <tr>\n",
       "      <th>3750</th>\n",
       "      <td>99_0_1_312.wav</td>\n",
       "      <td>99</td>\n",
       "      <td>0</td>\n",
       "      <td>1</td>\n",
       "      <td>3</td>\n",
       "      <td>12</td>\n",
       "      <td>0.239648</td>\n",
       "      <td>0.022649</td>\n",
       "      <td>1717.495766</td>\n",
       "      <td>1147.540536</td>\n",
       "      <td>...</td>\n",
       "      <td>-10.428824</td>\n",
       "      <td>-3.508537</td>\n",
       "      <td>-11.660733</td>\n",
       "      <td>11.999002</td>\n",
       "      <td>-9.432117</td>\n",
       "      <td>-0.688192</td>\n",
       "      <td>-0.537723</td>\n",
       "      <td>4.046784</td>\n",
       "      <td>-9.669930</td>\n",
       "      <td>0.851674</td>\n",
       "    </tr>\n",
       "  </tbody>\n",
       "</table>\n",
       "<p>3751 rows × 32 columns</p>\n",
       "</div>"
      ],
      "text/plain": [
       "             filename  actor_numlist  gender_list  age_list  movie_biglist  \\\n",
       "0      102_1_1_11.wav            102            1         1              1   \n",
       "1     102_1_1_110.wav            102            1         1              1   \n",
       "2     102_1_1_111.wav            102            1         1              1   \n",
       "3     102_1_1_112.wav            102            1         1              1   \n",
       "4     102_1_1_113.wav            102            1         1              1   \n",
       "...               ...            ...          ...       ...            ...   \n",
       "3746   99_0_1_212.wav             99            0         1              2   \n",
       "3747   99_0_1_213.wav             99            0         1              2   \n",
       "3748   99_0_1_310.wav             99            0         1              3   \n",
       "3749   99_0_1_311.wav             99            0         1              3   \n",
       "3750   99_0_1_312.wav             99            0         1              3   \n",
       "\n",
       "      movie_smalllist  chroma_stft      rmse  spectral_centroid  \\\n",
       "0                   1     0.348868  0.055374        1955.243004   \n",
       "1                  10     0.288714  0.055306        2572.800243   \n",
       "2                  11     0.266184  0.030098        3212.328582   \n",
       "3                  12     0.322741  0.029145        3530.992516   \n",
       "4                  13     0.327308  0.042507        2829.267467   \n",
       "...               ...          ...       ...                ...   \n",
       "3746               12     0.453002  0.051393        1546.679392   \n",
       "3747               13     0.354884  0.077245        1873.961010   \n",
       "3748               10     0.434263  0.025383        1778.968360   \n",
       "3749               11     0.532538  0.015890        2140.577410   \n",
       "3750               12     0.239648  0.022649        1717.495766   \n",
       "\n",
       "      spectral_bandwidth  ...     mfcc11    mfcc12     mfcc13     mfcc14  \\\n",
       "0            1671.566732  ... -13.025048  5.694613  -1.344383   1.846872   \n",
       "1            1677.319406  ... -19.198872 -1.723121 -12.604639   0.259864   \n",
       "2            1408.135146  ... -11.516680 -4.395924  -6.492270  -1.780171   \n",
       "3            1894.613794  ... -11.457444  4.472747  -6.664994   4.951821   \n",
       "4            1713.853079  ... -18.223223 -0.791216  -9.598868  -1.405376   \n",
       "...                  ...  ...        ...       ...        ...        ...   \n",
       "3746         1325.129109  ...   0.267547  5.504103  -1.761909   9.252627   \n",
       "3747         1447.850304  ...   3.380871  2.092410  -9.555003   2.435296   \n",
       "3748         1581.023624  ...  -6.307500 -2.274016  -7.258186  10.727494   \n",
       "3749         1577.665622  ...  -5.154140  1.415474  -6.744165   8.435288   \n",
       "3750         1147.540536  ... -10.428824 -3.508537 -11.660733  11.999002   \n",
       "\n",
       "         mfcc15     mfcc16     mfcc17     mfcc18     mfcc19     mfcc20  \n",
       "0     -2.711264  10.889313  -6.206437  15.808886  -6.551736   0.295115  \n",
       "1     -8.158375   0.108342  -4.934168  16.238890  -2.415089  16.822065  \n",
       "2     -8.762988   2.643049  -7.164022   5.950158  -5.147821   6.153486  \n",
       "3     -5.980581   1.526524  -7.908949   9.106786  -9.211611   6.776347  \n",
       "4    -14.348863  -5.466184 -12.460888  -1.292890 -10.724650  -0.168348  \n",
       "...         ...        ...        ...        ...        ...        ...  \n",
       "3746  -6.900524  -3.201300  -7.764434   1.338963  -5.610993   1.843381  \n",
       "3747 -15.219098  -3.553502  -8.628905   3.542082  -9.139266   0.457306  \n",
       "3748  -6.291093   3.389818  -2.325431   7.554872 -11.533215   0.278580  \n",
       "3749  -5.511384   5.510977  -1.724647   7.699049  -5.961572   4.850646  \n",
       "3750  -9.432117  -0.688192  -0.537723   4.046784  -9.669930   0.851674  \n",
       "\n",
       "[3751 rows x 32 columns]"
      ]
     },
     "execution_count": 36,
     "metadata": {},
     "output_type": "execute_result"
    }
   ],
   "source": [
    "data4"
   ]
  },
  {
   "cell_type": "code",
   "execution_count": 41,
   "id": "107f2821",
   "metadata": {},
   "outputs": [],
   "source": [
    "scaler = StandardScaler()\n",
    "x4 = scaler.fit_transform(data4.iloc[:, 6:])"
   ]
  },
  {
   "cell_type": "code",
   "execution_count": 62,
   "id": "2cc76a55",
   "metadata": {
    "scrolled": true
   },
   "outputs": [
    {
     "data": {
      "text/html": [
       "<div>\n",
       "<style scoped>\n",
       "    .dataframe tbody tr th:only-of-type {\n",
       "        vertical-align: middle;\n",
       "    }\n",
       "\n",
       "    .dataframe tbody tr th {\n",
       "        vertical-align: top;\n",
       "    }\n",
       "\n",
       "    .dataframe thead th {\n",
       "        text-align: right;\n",
       "    }\n",
       "</style>\n",
       "<table border=\"1\" class=\"dataframe\">\n",
       "  <thead>\n",
       "    <tr style=\"text-align: right;\">\n",
       "      <th></th>\n",
       "      <th>filename</th>\n",
       "      <th>actor_numlist</th>\n",
       "      <th>gender_list</th>\n",
       "      <th>age_list</th>\n",
       "      <th>movie_biglist</th>\n",
       "      <th>movie_smalllist</th>\n",
       "      <th>chroma_stft</th>\n",
       "      <th>rmse</th>\n",
       "      <th>spectral_centroid</th>\n",
       "      <th>spectral_bandwidth</th>\n",
       "      <th>...</th>\n",
       "      <th>mfcc11</th>\n",
       "      <th>mfcc12</th>\n",
       "      <th>mfcc13</th>\n",
       "      <th>mfcc14</th>\n",
       "      <th>mfcc15</th>\n",
       "      <th>mfcc16</th>\n",
       "      <th>mfcc17</th>\n",
       "      <th>mfcc18</th>\n",
       "      <th>mfcc19</th>\n",
       "      <th>mfcc20</th>\n",
       "    </tr>\n",
       "  </thead>\n",
       "  <tbody>\n",
       "    <tr>\n",
       "      <th>0</th>\n",
       "      <td>102_1_1_11.wav</td>\n",
       "      <td>102</td>\n",
       "      <td>1</td>\n",
       "      <td>1</td>\n",
       "      <td>1</td>\n",
       "      <td>1</td>\n",
       "      <td>0.460456</td>\n",
       "      <td>0.539705</td>\n",
       "      <td>0.247560</td>\n",
       "      <td>1.211691</td>\n",
       "      <td>...</td>\n",
       "      <td>-0.129055</td>\n",
       "      <td>1.422911</td>\n",
       "      <td>1.148546</td>\n",
       "      <td>-0.069698</td>\n",
       "      <td>1.165887</td>\n",
       "      <td>1.818541</td>\n",
       "      <td>0.046750</td>\n",
       "      <td>2.756530</td>\n",
       "      <td>0.046172</td>\n",
       "      <td>-0.233767</td>\n",
       "    </tr>\n",
       "    <tr>\n",
       "      <th>1</th>\n",
       "      <td>102_1_1_110.wav</td>\n",
       "      <td>102</td>\n",
       "      <td>1</td>\n",
       "      <td>1</td>\n",
       "      <td>1</td>\n",
       "      <td>10</td>\n",
       "      <td>-0.297066</td>\n",
       "      <td>0.537192</td>\n",
       "      <td>1.493412</td>\n",
       "      <td>1.230415</td>\n",
       "      <td>...</td>\n",
       "      <td>-1.017407</td>\n",
       "      <td>0.001841</td>\n",
       "      <td>-0.590572</td>\n",
       "      <td>-0.364693</td>\n",
       "      <td>0.142349</td>\n",
       "      <td>-0.079194</td>\n",
       "      <td>0.298392</td>\n",
       "      <td>2.838406</td>\n",
       "      <td>0.825984</td>\n",
       "      <td>3.258705</td>\n",
       "    </tr>\n",
       "    <tr>\n",
       "      <th>2</th>\n",
       "      <td>102_1_1_111.wav</td>\n",
       "      <td>102</td>\n",
       "      <td>1</td>\n",
       "      <td>1</td>\n",
       "      <td>1</td>\n",
       "      <td>11</td>\n",
       "      <td>-0.580795</td>\n",
       "      <td>-0.393743</td>\n",
       "      <td>2.783588</td>\n",
       "      <td>0.354267</td>\n",
       "      <td>...</td>\n",
       "      <td>0.087984</td>\n",
       "      <td>-0.510207</td>\n",
       "      <td>0.353468</td>\n",
       "      <td>-0.743898</td>\n",
       "      <td>0.028739</td>\n",
       "      <td>0.366982</td>\n",
       "      <td>-0.142651</td>\n",
       "      <td>0.879345</td>\n",
       "      <td>0.310828</td>\n",
       "      <td>1.004223</td>\n",
       "    </tr>\n",
       "    <tr>\n",
       "      <th>3</th>\n",
       "      <td>102_1_1_112.wav</td>\n",
       "      <td>102</td>\n",
       "      <td>1</td>\n",
       "      <td>1</td>\n",
       "      <td>1</td>\n",
       "      <td>12</td>\n",
       "      <td>0.131442</td>\n",
       "      <td>-0.428941</td>\n",
       "      <td>3.426456</td>\n",
       "      <td>1.937671</td>\n",
       "      <td>...</td>\n",
       "      <td>0.096508</td>\n",
       "      <td>1.188829</td>\n",
       "      <td>0.326791</td>\n",
       "      <td>0.507454</td>\n",
       "      <td>0.551567</td>\n",
       "      <td>0.170444</td>\n",
       "      <td>-0.289990</td>\n",
       "      <td>1.480394</td>\n",
       "      <td>-0.455249</td>\n",
       "      <td>1.135846</td>\n",
       "    </tr>\n",
       "    <tr>\n",
       "      <th>4</th>\n",
       "      <td>102_1_1_113.wav</td>\n",
       "      <td>102</td>\n",
       "      <td>1</td>\n",
       "      <td>1</td>\n",
       "      <td>1</td>\n",
       "      <td>13</td>\n",
       "      <td>0.188949</td>\n",
       "      <td>0.064530</td>\n",
       "      <td>2.010806</td>\n",
       "      <td>1.349326</td>\n",
       "      <td>...</td>\n",
       "      <td>-0.877021</td>\n",
       "      <td>0.180373</td>\n",
       "      <td>-0.126338</td>\n",
       "      <td>-0.674230</td>\n",
       "      <td>-1.020873</td>\n",
       "      <td>-1.060457</td>\n",
       "      <td>-1.190318</td>\n",
       "      <td>-0.499792</td>\n",
       "      <td>-0.740477</td>\n",
       "      <td>-0.331706</td>\n",
       "    </tr>\n",
       "    <tr>\n",
       "      <th>...</th>\n",
       "      <td>...</td>\n",
       "      <td>...</td>\n",
       "      <td>...</td>\n",
       "      <td>...</td>\n",
       "      <td>...</td>\n",
       "      <td>...</td>\n",
       "      <td>...</td>\n",
       "      <td>...</td>\n",
       "      <td>...</td>\n",
       "      <td>...</td>\n",
       "      <td>...</td>\n",
       "      <td>...</td>\n",
       "      <td>...</td>\n",
       "      <td>...</td>\n",
       "      <td>...</td>\n",
       "      <td>...</td>\n",
       "      <td>...</td>\n",
       "      <td>...</td>\n",
       "      <td>...</td>\n",
       "      <td>...</td>\n",
       "      <td>...</td>\n",
       "    </tr>\n",
       "    <tr>\n",
       "      <th>3746</th>\n",
       "      <td>99_0_1_212.wav</td>\n",
       "      <td>99</td>\n",
       "      <td>0</td>\n",
       "      <td>1</td>\n",
       "      <td>2</td>\n",
       "      <td>12</td>\n",
       "      <td>1.771829</td>\n",
       "      <td>0.392686</td>\n",
       "      <td>-0.576670</td>\n",
       "      <td>0.084097</td>\n",
       "      <td>...</td>\n",
       "      <td>1.783619</td>\n",
       "      <td>1.386413</td>\n",
       "      <td>1.084060</td>\n",
       "      <td>1.306894</td>\n",
       "      <td>0.378705</td>\n",
       "      <td>-0.661778</td>\n",
       "      <td>-0.261406</td>\n",
       "      <td>0.001335</td>\n",
       "      <td>0.223514</td>\n",
       "      <td>0.093412</td>\n",
       "    </tr>\n",
       "    <tr>\n",
       "      <th>3747</th>\n",
       "      <td>99_0_1_213.wav</td>\n",
       "      <td>99</td>\n",
       "      <td>0</td>\n",
       "      <td>1</td>\n",
       "      <td>2</td>\n",
       "      <td>13</td>\n",
       "      <td>0.536211</td>\n",
       "      <td>1.347409</td>\n",
       "      <td>0.083583</td>\n",
       "      <td>0.483533</td>\n",
       "      <td>...</td>\n",
       "      <td>2.231595</td>\n",
       "      <td>0.732810</td>\n",
       "      <td>-0.119563</td>\n",
       "      <td>0.039679</td>\n",
       "      <td>-1.184394</td>\n",
       "      <td>-0.723774</td>\n",
       "      <td>-0.432390</td>\n",
       "      <td>0.420827</td>\n",
       "      <td>-0.441611</td>\n",
       "      <td>-0.199493</td>\n",
       "    </tr>\n",
       "    <tr>\n",
       "      <th>3748</th>\n",
       "      <td>99_0_1_310.wav</td>\n",
       "      <td>99</td>\n",
       "      <td>0</td>\n",
       "      <td>1</td>\n",
       "      <td>3</td>\n",
       "      <td>10</td>\n",
       "      <td>1.535851</td>\n",
       "      <td>-0.567865</td>\n",
       "      <td>-0.108054</td>\n",
       "      <td>0.916989</td>\n",
       "      <td>...</td>\n",
       "      <td>0.837534</td>\n",
       "      <td>-0.103698</td>\n",
       "      <td>0.235174</td>\n",
       "      <td>1.581044</td>\n",
       "      <td>0.493220</td>\n",
       "      <td>0.498432</td>\n",
       "      <td>0.814374</td>\n",
       "      <td>1.184896</td>\n",
       "      <td>-0.892902</td>\n",
       "      <td>-0.237261</td>\n",
       "    </tr>\n",
       "    <tr>\n",
       "      <th>3749</th>\n",
       "      <td>99_0_1_311.wav</td>\n",
       "      <td>99</td>\n",
       "      <td>0</td>\n",
       "      <td>1</td>\n",
       "      <td>3</td>\n",
       "      <td>11</td>\n",
       "      <td>2.773429</td>\n",
       "      <td>-0.918427</td>\n",
       "      <td>0.621452</td>\n",
       "      <td>0.906060</td>\n",
       "      <td>...</td>\n",
       "      <td>1.003491</td>\n",
       "      <td>0.603125</td>\n",
       "      <td>0.314564</td>\n",
       "      <td>1.154966</td>\n",
       "      <td>0.639731</td>\n",
       "      <td>0.871812</td>\n",
       "      <td>0.933204</td>\n",
       "      <td>1.212349</td>\n",
       "      <td>0.157425</td>\n",
       "      <td>0.728907</td>\n",
       "    </tr>\n",
       "    <tr>\n",
       "      <th>3750</th>\n",
       "      <td>99_0_1_312.wav</td>\n",
       "      <td>99</td>\n",
       "      <td>0</td>\n",
       "      <td>1</td>\n",
       "      <td>3</td>\n",
       "      <td>12</td>\n",
       "      <td>-0.914958</td>\n",
       "      <td>-0.668819</td>\n",
       "      <td>-0.232068</td>\n",
       "      <td>-0.493923</td>\n",
       "      <td>...</td>\n",
       "      <td>0.244516</td>\n",
       "      <td>-0.340204</td>\n",
       "      <td>-0.444788</td>\n",
       "      <td>1.817394</td>\n",
       "      <td>-0.096993</td>\n",
       "      <td>-0.219405</td>\n",
       "      <td>1.167965</td>\n",
       "      <td>0.516927</td>\n",
       "      <td>-0.541648</td>\n",
       "      <td>-0.116155</td>\n",
       "    </tr>\n",
       "  </tbody>\n",
       "</table>\n",
       "<p>3751 rows × 32 columns</p>\n",
       "</div>"
      ],
      "text/plain": [
       "             filename  actor_numlist  gender_list  age_list  movie_biglist  \\\n",
       "0      102_1_1_11.wav            102            1         1              1   \n",
       "1     102_1_1_110.wav            102            1         1              1   \n",
       "2     102_1_1_111.wav            102            1         1              1   \n",
       "3     102_1_1_112.wav            102            1         1              1   \n",
       "4     102_1_1_113.wav            102            1         1              1   \n",
       "...               ...            ...          ...       ...            ...   \n",
       "3746   99_0_1_212.wav             99            0         1              2   \n",
       "3747   99_0_1_213.wav             99            0         1              2   \n",
       "3748   99_0_1_310.wav             99            0         1              3   \n",
       "3749   99_0_1_311.wav             99            0         1              3   \n",
       "3750   99_0_1_312.wav             99            0         1              3   \n",
       "\n",
       "      movie_smalllist  chroma_stft      rmse  spectral_centroid  \\\n",
       "0                   1     0.460456  0.539705           0.247560   \n",
       "1                  10    -0.297066  0.537192           1.493412   \n",
       "2                  11    -0.580795 -0.393743           2.783588   \n",
       "3                  12     0.131442 -0.428941           3.426456   \n",
       "4                  13     0.188949  0.064530           2.010806   \n",
       "...               ...          ...       ...                ...   \n",
       "3746               12     1.771829  0.392686          -0.576670   \n",
       "3747               13     0.536211  1.347409           0.083583   \n",
       "3748               10     1.535851 -0.567865          -0.108054   \n",
       "3749               11     2.773429 -0.918427           0.621452   \n",
       "3750               12    -0.914958 -0.668819          -0.232068   \n",
       "\n",
       "      spectral_bandwidth  ...    mfcc11    mfcc12    mfcc13    mfcc14  \\\n",
       "0               1.211691  ... -0.129055  1.422911  1.148546 -0.069698   \n",
       "1               1.230415  ... -1.017407  0.001841 -0.590572 -0.364693   \n",
       "2               0.354267  ...  0.087984 -0.510207  0.353468 -0.743898   \n",
       "3               1.937671  ...  0.096508  1.188829  0.326791  0.507454   \n",
       "4               1.349326  ... -0.877021  0.180373 -0.126338 -0.674230   \n",
       "...                  ...  ...       ...       ...       ...       ...   \n",
       "3746            0.084097  ...  1.783619  1.386413  1.084060  1.306894   \n",
       "3747            0.483533  ...  2.231595  0.732810 -0.119563  0.039679   \n",
       "3748            0.916989  ...  0.837534 -0.103698  0.235174  1.581044   \n",
       "3749            0.906060  ...  1.003491  0.603125  0.314564  1.154966   \n",
       "3750           -0.493923  ...  0.244516 -0.340204 -0.444788  1.817394   \n",
       "\n",
       "        mfcc15    mfcc16    mfcc17    mfcc18    mfcc19    mfcc20  \n",
       "0     1.165887  1.818541  0.046750  2.756530  0.046172 -0.233767  \n",
       "1     0.142349 -0.079194  0.298392  2.838406  0.825984  3.258705  \n",
       "2     0.028739  0.366982 -0.142651  0.879345  0.310828  1.004223  \n",
       "3     0.551567  0.170444 -0.289990  1.480394 -0.455249  1.135846  \n",
       "4    -1.020873 -1.060457 -1.190318 -0.499792 -0.740477 -0.331706  \n",
       "...        ...       ...       ...       ...       ...       ...  \n",
       "3746  0.378705 -0.661778 -0.261406  0.001335  0.223514  0.093412  \n",
       "3747 -1.184394 -0.723774 -0.432390  0.420827 -0.441611 -0.199493  \n",
       "3748  0.493220  0.498432  0.814374  1.184896 -0.892902 -0.237261  \n",
       "3749  0.639731  0.871812  0.933204  1.212349  0.157425  0.728907  \n",
       "3750 -0.096993 -0.219405  1.167965  0.516927 -0.541648 -0.116155  \n",
       "\n",
       "[3751 rows x 32 columns]"
      ]
     },
     "execution_count": 62,
     "metadata": {},
     "output_type": "execute_result"
    }
   ],
   "source": [
    "data4"
   ]
  },
  {
   "cell_type": "code",
   "execution_count": 133,
   "id": "23415552",
   "metadata": {},
   "outputs": [],
   "source": [
    "header = 'filename chroma_stft rmse spectral_centroid spectral_bandwidth rolloff zero_crossing_rate'\n",
    "for i in range(1, 21):\n",
    "    header += f' mfcc{i}' \n",
    "header = header.split()"
   ]
  },
  {
   "cell_type": "code",
   "execution_count": 134,
   "id": "cd1b29df",
   "metadata": {},
   "outputs": [],
   "source": [
    "file = open('actor_feeling3.csv', 'w', newline='')   \n",
    "with file:\n",
    "    writer = csv.writer(file)\n",
    "    writer.writerow(header)\n",
    "    file = open('actor_feeling3.csv', 'w', newline='')\n",
    "for filename in os.listdir(f'./sound/'):  # filename에 업로드한 파일 이름 \n",
    "    songname = f'./sound/{filename}'                                                          \n",
    "    y, sr = librosa.load(songname, mono=True, sr=16000)\n",
    "    chroma_stft = librosa.feature.chroma_stft(y=y, sr=16000)\n",
    "    rmse = librosa.feature.rms(y=y)\n",
    "    spec_cent = librosa.feature.spectral_centroid(y=y, sr=16000)\n",
    "    spec_bw = librosa.feature.spectral_bandwidth(y=y, sr=16000)\n",
    "    rolloff = librosa.feature.spectral_rolloff(y=y, sr=16000)\n",
    "    zcr = librosa.feature.zero_crossing_rate(y)\n",
    "    mfcc = librosa.feature.mfcc(y=y, sr=16000)\n",
    "    to_append = f'{filename} {np.mean(chroma_stft)} {np.mean(rmse)} {np.mean(spec_cent)} {np.mean(spec_bw)} {np.mean(rolloff)} {np.mean(zcr)}'    \n",
    "    for e in mfcc:\n",
    "        to_append += f' {np.mean(e)}'\n",
    "    file = open('actor_feeling3.csv', 'a', newline='')  # 회원 아이디로 scv 파일 오픈 \n",
    "    with file:\n",
    "        writer = csv.writer(file)\n",
    "        writer.writerow(to_append.split())"
   ]
  },
  {
   "cell_type": "code",
   "execution_count": 142,
   "id": "e89f9f0e",
   "metadata": {},
   "outputs": [],
   "source": [
    "data_0 = pd.read_csv(\"./actor_feeling3.csv\")"
   ]
  },
  {
   "cell_type": "code",
   "execution_count": 143,
   "id": "b70f6f75",
   "metadata": {},
   "outputs": [],
   "source": [
    "a =data_0[\"filename\"]"
   ]
  },
  {
   "cell_type": "code",
   "execution_count": 144,
   "id": "accc0f8f",
   "metadata": {},
   "outputs": [],
   "source": [
    "actor_numlist = []\n",
    "gender_list = [] \n",
    "age_list = []\n",
    "movie_biglist = []\n",
    "movie_smalllist = []"
   ]
  },
  {
   "cell_type": "code",
   "execution_count": 145,
   "id": "6151474d",
   "metadata": {},
   "outputs": [],
   "source": [
    "for i in range(0, len(data_0)):\n",
    "    b= a[i].split(\"_\")\n",
    "    actor_numlist.append(int(b[0]))\n",
    "    gender_list.append(int(b[1]))\n",
    "    age_list.append(int(b[2]))\n",
    "    "
   ]
  },
  {
   "cell_type": "code",
   "execution_count": 146,
   "id": "f58e56aa",
   "metadata": {},
   "outputs": [],
   "source": [
    "data_0[\"actor_numlist\"] = actor_numlist\n",
    "data_0[\"gender_list\"] = gender_list\n",
    "data_0[\"age_list\"] = age_list"
   ]
  },
  {
   "cell_type": "code",
   "execution_count": 148,
   "id": "a81fbec2",
   "metadata": {},
   "outputs": [],
   "source": [
    "data_0.to_csv(\"actor_feeling4.csv\")"
   ]
  },
  {
   "cell_type": "markdown",
   "id": "9e10a141",
   "metadata": {},
   "source": [
    "### 유사도 분석"
   ]
  },
  {
   "cell_type": "code",
   "execution_count": 29,
   "id": "4e137942",
   "metadata": {},
   "outputs": [],
   "source": [
    "from numpy import dot\n",
    "from numpy.linalg import norm"
   ]
  },
  {
   "cell_type": "code",
   "execution_count": 30,
   "id": "7327cd9f",
   "metadata": {},
   "outputs": [],
   "source": [
    "def cos_sim(A,B):\n",
    "    return dot(A,B)/(norm(A)*norm(B))"
   ]
  },
  {
   "cell_type": "code",
   "execution_count": 75,
   "id": "fe50a5ba",
   "metadata": {
    "scrolled": true
   },
   "outputs": [
    {
     "data": {
      "text/plain": [
       "-0.6175705111600993"
      ]
     },
     "execution_count": 75,
     "metadata": {},
     "output_type": "execute_result"
    }
   ],
   "source": [
    "cos_sim(data_female_child.iloc[0, 6:], data_female_child.iloc[76, 6:])"
   ]
  },
  {
   "cell_type": "markdown",
   "id": "55a9966c",
   "metadata": {},
   "source": [
    "### mfcc 평균 분산 등으로 만 "
   ]
  },
  {
   "cell_type": "code",
   "execution_count": 152,
   "id": "5c94358f",
   "metadata": {},
   "outputs": [],
   "source": [
    "data5= pd.read_csv(\"actor_feeling4.csv\")   #  배우들, 추출 actor_feeling2, 만들고, upload_yoosa 보충, "
   ]
  },
  {
   "cell_type": "code",
   "execution_count": 153,
   "id": "4c45da78",
   "metadata": {
    "scrolled": true
   },
   "outputs": [
    {
     "data": {
      "text/html": [
       "<div>\n",
       "<style scoped>\n",
       "    .dataframe tbody tr th:only-of-type {\n",
       "        vertical-align: middle;\n",
       "    }\n",
       "\n",
       "    .dataframe tbody tr th {\n",
       "        vertical-align: top;\n",
       "    }\n",
       "\n",
       "    .dataframe thead th {\n",
       "        text-align: right;\n",
       "    }\n",
       "</style>\n",
       "<table border=\"1\" class=\"dataframe\">\n",
       "  <thead>\n",
       "    <tr style=\"text-align: right;\">\n",
       "      <th></th>\n",
       "      <th>filename</th>\n",
       "      <th>actor_numlist</th>\n",
       "      <th>gender_list</th>\n",
       "      <th>age_list</th>\n",
       "      <th>mfccmax</th>\n",
       "      <th>mfccmin</th>\n",
       "      <th>mfccvar</th>\n",
       "      <th>mfccmean</th>\n",
       "    </tr>\n",
       "  </thead>\n",
       "  <tbody>\n",
       "    <tr>\n",
       "      <th>0</th>\n",
       "      <td>100_0_0_11.wav</td>\n",
       "      <td>100</td>\n",
       "      <td>0</td>\n",
       "      <td>0</td>\n",
       "      <td>38.457245</td>\n",
       "      <td>-403.592712</td>\n",
       "      <td>7912.139120</td>\n",
       "      <td>-19.664305</td>\n",
       "    </tr>\n",
       "    <tr>\n",
       "      <th>1</th>\n",
       "      <td>100_0_0_110.wav</td>\n",
       "      <td>100</td>\n",
       "      <td>0</td>\n",
       "      <td>0</td>\n",
       "      <td>30.631079</td>\n",
       "      <td>-332.663238</td>\n",
       "      <td>5306.272915</td>\n",
       "      <td>-21.042412</td>\n",
       "    </tr>\n",
       "    <tr>\n",
       "      <th>2</th>\n",
       "      <td>100_0_0_111.wav</td>\n",
       "      <td>100</td>\n",
       "      <td>0</td>\n",
       "      <td>0</td>\n",
       "      <td>23.444048</td>\n",
       "      <td>-397.296051</td>\n",
       "      <td>7534.980350</td>\n",
       "      <td>-21.193992</td>\n",
       "    </tr>\n",
       "    <tr>\n",
       "      <th>3</th>\n",
       "      <td>100_0_0_112.wav</td>\n",
       "      <td>100</td>\n",
       "      <td>0</td>\n",
       "      <td>0</td>\n",
       "      <td>12.783432</td>\n",
       "      <td>-471.662720</td>\n",
       "      <td>10515.691510</td>\n",
       "      <td>-25.380871</td>\n",
       "    </tr>\n",
       "    <tr>\n",
       "      <th>4</th>\n",
       "      <td>100_0_0_113.wav</td>\n",
       "      <td>100</td>\n",
       "      <td>0</td>\n",
       "      <td>0</td>\n",
       "      <td>36.538872</td>\n",
       "      <td>-408.988831</td>\n",
       "      <td>7945.169063</td>\n",
       "      <td>-23.611622</td>\n",
       "    </tr>\n",
       "  </tbody>\n",
       "</table>\n",
       "</div>"
      ],
      "text/plain": [
       "          filename  actor_numlist  gender_list  age_list    mfccmax  \\\n",
       "0   100_0_0_11.wav            100            0         0  38.457245   \n",
       "1  100_0_0_110.wav            100            0         0  30.631079   \n",
       "2  100_0_0_111.wav            100            0         0  23.444048   \n",
       "3  100_0_0_112.wav            100            0         0  12.783432   \n",
       "4  100_0_0_113.wav            100            0         0  36.538872   \n",
       "\n",
       "      mfccmin       mfccvar   mfccmean  \n",
       "0 -403.592712   7912.139120 -19.664305  \n",
       "1 -332.663238   5306.272915 -21.042412  \n",
       "2 -397.296051   7534.980350 -21.193992  \n",
       "3 -471.662720  10515.691510 -25.380871  \n",
       "4 -408.988831   7945.169063 -23.611622  "
      ]
     },
     "execution_count": 153,
     "metadata": {},
     "output_type": "execute_result"
    }
   ],
   "source": [
    "data5.head()"
   ]
  },
  {
   "cell_type": "code",
   "execution_count": 154,
   "id": "a142480e",
   "metadata": {},
   "outputs": [],
   "source": [
    "scaler = StandardScaler()\n",
    "x5 = scaler.fit_transform(data5.iloc[:,4:])"
   ]
  },
  {
   "cell_type": "code",
   "execution_count": 155,
   "id": "769e0435",
   "metadata": {},
   "outputs": [],
   "source": [
    "data5.iloc[:, 4:]=x5"
   ]
  },
  {
   "cell_type": "code",
   "execution_count": null,
   "id": "630747ba",
   "metadata": {},
   "outputs": [],
   "source": []
  },
  {
   "cell_type": "code",
   "execution_count": 156,
   "id": "f6187085",
   "metadata": {},
   "outputs": [],
   "source": [
    "data_female_child=data5[(data5[\"gender_list\"]==1)& (data5[\"age_list\"]==0)]\n",
    "data_female_adult=data5[(data5[\"gender_list\"]==1)& (data5[\"age_list\"]==1)]\n",
    "data_female_older=data5[(data5[\"gender_list\"]==1)& (data5[\"age_list\"]==2)]\n",
    "data_male_child=data5[(data5[\"gender_list\"]==0)& (data5[\"age_list\"]==0)]\n",
    "data_male_adult=data5[(data5[\"gender_list\"]==0)& (data5[\"age_list\"]==1)]\n",
    "data_male_older=data5[(data5[\"gender_list\"]==0)& (data5[\"age_list\"]==2)]"
   ]
  },
  {
   "cell_type": "code",
   "execution_count": 158,
   "id": "83449bd2",
   "metadata": {},
   "outputs": [
    {
     "data": {
      "text/html": [
       "<div>\n",
       "<style scoped>\n",
       "    .dataframe tbody tr th:only-of-type {\n",
       "        vertical-align: middle;\n",
       "    }\n",
       "\n",
       "    .dataframe tbody tr th {\n",
       "        vertical-align: top;\n",
       "    }\n",
       "\n",
       "    .dataframe thead th {\n",
       "        text-align: right;\n",
       "    }\n",
       "</style>\n",
       "<table border=\"1\" class=\"dataframe\">\n",
       "  <thead>\n",
       "    <tr style=\"text-align: right;\">\n",
       "      <th></th>\n",
       "      <th>filename</th>\n",
       "      <th>actor_numlist</th>\n",
       "      <th>gender_list</th>\n",
       "      <th>age_list</th>\n",
       "      <th>mfccmax</th>\n",
       "      <th>mfccmin</th>\n",
       "      <th>mfccvar</th>\n",
       "      <th>mfccmean</th>\n",
       "    </tr>\n",
       "  </thead>\n",
       "  <tbody>\n",
       "    <tr>\n",
       "      <th>240</th>\n",
       "      <td>109_1_0_11.wav</td>\n",
       "      <td>109</td>\n",
       "      <td>1</td>\n",
       "      <td>0</td>\n",
       "      <td>0.922941</td>\n",
       "      <td>0.782254</td>\n",
       "      <td>-0.789954</td>\n",
       "      <td>-0.606702</td>\n",
       "    </tr>\n",
       "    <tr>\n",
       "      <th>241</th>\n",
       "      <td>109_1_0_12.wav</td>\n",
       "      <td>109</td>\n",
       "      <td>1</td>\n",
       "      <td>0</td>\n",
       "      <td>1.017597</td>\n",
       "      <td>-0.134635</td>\n",
       "      <td>0.043229</td>\n",
       "      <td>0.043714</td>\n",
       "    </tr>\n",
       "    <tr>\n",
       "      <th>242</th>\n",
       "      <td>109_1_0_13.wav</td>\n",
       "      <td>109</td>\n",
       "      <td>1</td>\n",
       "      <td>0</td>\n",
       "      <td>-1.885500</td>\n",
       "      <td>-0.936164</td>\n",
       "      <td>0.822358</td>\n",
       "      <td>-1.036083</td>\n",
       "    </tr>\n",
       "    <tr>\n",
       "      <th>243</th>\n",
       "      <td>109_1_0_14.wav</td>\n",
       "      <td>109</td>\n",
       "      <td>1</td>\n",
       "      <td>0</td>\n",
       "      <td>0.263370</td>\n",
       "      <td>-0.207180</td>\n",
       "      <td>0.068468</td>\n",
       "      <td>-0.708662</td>\n",
       "    </tr>\n",
       "    <tr>\n",
       "      <th>244</th>\n",
       "      <td>109_1_0_15.wav</td>\n",
       "      <td>109</td>\n",
       "      <td>1</td>\n",
       "      <td>0</td>\n",
       "      <td>0.345763</td>\n",
       "      <td>-0.439770</td>\n",
       "      <td>0.326973</td>\n",
       "      <td>-0.604461</td>\n",
       "    </tr>\n",
       "    <tr>\n",
       "      <th>...</th>\n",
       "      <td>...</td>\n",
       "      <td>...</td>\n",
       "      <td>...</td>\n",
       "      <td>...</td>\n",
       "      <td>...</td>\n",
       "      <td>...</td>\n",
       "      <td>...</td>\n",
       "      <td>...</td>\n",
       "    </tr>\n",
       "    <tr>\n",
       "      <th>3030</th>\n",
       "      <td>62_1_0_27.wav</td>\n",
       "      <td>62</td>\n",
       "      <td>1</td>\n",
       "      <td>0</td>\n",
       "      <td>-0.081837</td>\n",
       "      <td>0.681255</td>\n",
       "      <td>-0.737154</td>\n",
       "      <td>0.975664</td>\n",
       "    </tr>\n",
       "    <tr>\n",
       "      <th>3031</th>\n",
       "      <td>62_1_0_28.wav</td>\n",
       "      <td>62</td>\n",
       "      <td>1</td>\n",
       "      <td>0</td>\n",
       "      <td>0.407022</td>\n",
       "      <td>0.720135</td>\n",
       "      <td>-0.770180</td>\n",
       "      <td>0.255480</td>\n",
       "    </tr>\n",
       "    <tr>\n",
       "      <th>3032</th>\n",
       "      <td>62_1_0_31.wav</td>\n",
       "      <td>62</td>\n",
       "      <td>1</td>\n",
       "      <td>0</td>\n",
       "      <td>-1.426545</td>\n",
       "      <td>0.293612</td>\n",
       "      <td>-0.422087</td>\n",
       "      <td>-0.073898</td>\n",
       "    </tr>\n",
       "    <tr>\n",
       "      <th>3033</th>\n",
       "      <td>62_1_0_32.wav</td>\n",
       "      <td>62</td>\n",
       "      <td>1</td>\n",
       "      <td>0</td>\n",
       "      <td>-1.466684</td>\n",
       "      <td>0.389565</td>\n",
       "      <td>-0.521937</td>\n",
       "      <td>0.429014</td>\n",
       "    </tr>\n",
       "    <tr>\n",
       "      <th>3034</th>\n",
       "      <td>62_1_0_33.wav</td>\n",
       "      <td>62</td>\n",
       "      <td>1</td>\n",
       "      <td>0</td>\n",
       "      <td>-2.022075</td>\n",
       "      <td>-0.342181</td>\n",
       "      <td>0.126038</td>\n",
       "      <td>-0.959707</td>\n",
       "    </tr>\n",
       "  </tbody>\n",
       "</table>\n",
       "<p>205 rows × 8 columns</p>\n",
       "</div>"
      ],
      "text/plain": [
       "            filename  actor_numlist  gender_list  age_list   mfccmax  \\\n",
       "240   109_1_0_11.wav            109            1         0  0.922941   \n",
       "241   109_1_0_12.wav            109            1         0  1.017597   \n",
       "242   109_1_0_13.wav            109            1         0 -1.885500   \n",
       "243   109_1_0_14.wav            109            1         0  0.263370   \n",
       "244   109_1_0_15.wav            109            1         0  0.345763   \n",
       "...              ...            ...          ...       ...       ...   \n",
       "3030   62_1_0_27.wav             62            1         0 -0.081837   \n",
       "3031   62_1_0_28.wav             62            1         0  0.407022   \n",
       "3032   62_1_0_31.wav             62            1         0 -1.426545   \n",
       "3033   62_1_0_32.wav             62            1         0 -1.466684   \n",
       "3034   62_1_0_33.wav             62            1         0 -2.022075   \n",
       "\n",
       "       mfccmin   mfccvar  mfccmean  \n",
       "240   0.782254 -0.789954 -0.606702  \n",
       "241  -0.134635  0.043229  0.043714  \n",
       "242  -0.936164  0.822358 -1.036083  \n",
       "243  -0.207180  0.068468 -0.708662  \n",
       "244  -0.439770  0.326973 -0.604461  \n",
       "...        ...       ...       ...  \n",
       "3030  0.681255 -0.737154  0.975664  \n",
       "3031  0.720135 -0.770180  0.255480  \n",
       "3032  0.293612 -0.422087 -0.073898  \n",
       "3033  0.389565 -0.521937  0.429014  \n",
       "3034 -0.342181  0.126038 -0.959707  \n",
       "\n",
       "[205 rows x 8 columns]"
      ]
     },
     "execution_count": 158,
     "metadata": {},
     "output_type": "execute_result"
    }
   ],
   "source": [
    "data_female_child"
   ]
  },
  {
   "cell_type": "markdown",
   "id": "6df9dfde",
   "metadata": {},
   "source": [
    "### 파일 업로드 시 "
   ]
  },
  {
   "cell_type": "code",
   "execution_count": 36,
   "id": "08e681ad",
   "metadata": {},
   "outputs": [],
   "source": [
    "header = 'filename chroma_stft rmse spectral_centroid spectral_bandwidth rolloff zero_crossing_rate'\n",
    "for i in range(1, 21):\n",
    "    header += f' mfcc{i}' \n",
    "header = header.split()"
   ]
  },
  {
   "cell_type": "code",
   "execution_count": 32,
   "id": "bd7bab50",
   "metadata": {},
   "outputs": [],
   "source": []
  },
  {
   "cell_type": "code",
   "execution_count": 326,
   "id": "891c0fbd",
   "metadata": {},
   "outputs": [],
   "source": [
    "data5.to_csv(\"./upload1.csv\")  # 회원 아이디로  csv파일 만들기 "
   ]
  },
  {
   "cell_type": "code",
   "execution_count": null,
   "id": "7b3778b0",
   "metadata": {},
   "outputs": [],
   "source": [
    "data5"
   ]
  },
  {
   "cell_type": "code",
   "execution_count": null,
   "id": "028b86a8",
   "metadata": {},
   "outputs": [],
   "source": [
    "## mysql연동 "
   ]
  },
  {
   "cell_type": "code",
   "execution_count": null,
   "id": "dea1d8e5",
   "metadata": {},
   "outputs": [],
   "source": [
    "# \"upload_scaler.csv\"-> 분류할때 \n",
    "#   upload_yoosa.csv  ---> 유사도 체크 "
   ]
  },
  {
   "cell_type": "code",
   "execution_count": 127,
   "id": "e74c1b35",
   "metadata": {},
   "outputs": [
    {
     "name": "stdout",
     "output_type": "stream",
     "text": [
      "hello/\n"
     ]
    }
   ],
   "source": [
    "str= 'hello\\\\'\n",
    "new_str = str.replace('\\\\' , '/')\n",
    "print(new_str)"
   ]
  },
  {
   "cell_type": "code",
   "execution_count": 211,
   "id": "79a7dd30",
   "metadata": {},
   "outputs": [],
   "source": [
    "import pymysql\n",
    "conn = pymysql.connect(host='project-db-stu.ddns.net', user='carrotca', password='carrotca', db='carrotca', charset='utf8', port=3307)"
   ]
  },
  {
   "cell_type": "code",
   "execution_count": 217,
   "id": "d0c1868d",
   "metadata": {},
   "outputs": [
    {
     "name": "stdout",
     "output_type": "stream",
     "text": [
      "Requirement already satisfied: flask in c:\\users\\smhrd\\anaconda3\\lib\\site-packages (1.1.2)\n",
      "Requirement already satisfied: click>=5.1 in c:\\users\\smhrd\\anaconda3\\lib\\site-packages (from flask) (7.1.2)\n",
      "Requirement already satisfied: itsdangerous>=0.24 in c:\\users\\smhrd\\anaconda3\\lib\\site-packages (from flask) (2.0.1)\n",
      "Requirement already satisfied: Werkzeug>=0.15 in c:\\users\\smhrd\\anaconda3\\lib\\site-packages (from flask) (2.0.3)\n",
      "Requirement already satisfied: Jinja2>=2.10.1 in c:\\users\\smhrd\\anaconda3\\lib\\site-packages (from flask) (3.1.2)\n",
      "Requirement already satisfied: MarkupSafe>=2.0 in c:\\users\\smhrd\\anaconda3\\lib\\site-packages (from Jinja2>=2.10.1->flask) (2.0.1)\n",
      "Note: you may need to restart the kernel to use updated packages.\n"
     ]
    }
   ],
   "source": [
    "pip install flask"
   ]
  },
  {
   "cell_type": "code",
   "execution_count": 675,
   "id": "b976b767",
   "metadata": {},
   "outputs": [],
   "source": [
    "from flask import Flask, request, render_template, make_response, jsonify, redirect\n",
    "import numpy as np"
   ]
  },
  {
   "cell_type": "code",
   "execution_count": 679,
   "id": "ece111c4",
   "metadata": {
    "scrolled": true
   },
   "outputs": [
    {
     "name": "stdout",
     "output_type": "stream",
     "text": [
      " * Serving Flask app '__main__' (lazy loading)\n",
      " * Environment: production\n",
      "\u001b[31m   WARNING: This is a development server. Do not use it in a production deployment.\u001b[0m\n",
      "\u001b[2m   Use a production WSGI server instead.\u001b[0m\n",
      " * Debug mode: off\n"
     ]
    },
    {
     "name": "stderr",
     "output_type": "stream",
     "text": [
      " * Running on http://127.0.0.1:5000/ (Press CTRL+C to quit)\n"
     ]
    },
    {
     "name": "stdout",
     "output_type": "stream",
     "text": [
      "119/119 [==============================] - 0s 947us/step\n",
      "119/119 [==============================] - 0s 769us/step\n",
      "34.4\n",
      "1_0_1_51.wav\n"
     ]
    },
    {
     "name": "stderr",
     "output_type": "stream",
     "text": [
      "127.0.0.1 - - [28/Dec/2022 14:19:55] \"POST /fileUpload HTTP/1.1\" 302 -\n"
     ]
    },
    {
     "name": "stdout",
     "output_type": "stream",
     "text": [
      "119/119 [==============================] - 0s 997us/step\n",
      "119/119 [==============================] - 0s 761us/step\n",
      "34.4\n",
      "1_0_1_51.wav\n"
     ]
    },
    {
     "name": "stderr",
     "output_type": "stream",
     "text": [
      "127.0.0.1 - - [28/Dec/2022 14:20:19] \"POST /fileUpload HTTP/1.1\" 302 -\n"
     ]
    },
    {
     "name": "stdout",
     "output_type": "stream",
     "text": [
      "119/119 [==============================] - 0s 1ms/step\n",
      "119/119 [==============================] - 0s 761us/step\n",
      "34.4\n",
      "1_0_1_51.wav\n"
     ]
    },
    {
     "name": "stderr",
     "output_type": "stream",
     "text": [
      "127.0.0.1 - - [28/Dec/2022 14:20:22] \"POST /fileUpload HTTP/1.1\" 302 -\n"
     ]
    },
    {
     "name": "stdout",
     "output_type": "stream",
     "text": [
      "119/119 [==============================] - 0s 964us/step\n",
      "119/119 [==============================] - 0s 769us/step\n",
      "88.9\n",
      "3_0_1_51.wav\n"
     ]
    },
    {
     "name": "stderr",
     "output_type": "stream",
     "text": [
      "127.0.0.1 - - [28/Dec/2022 14:29:34] \"POST /fileUpload HTTP/1.1\" 302 -\n"
     ]
    },
    {
     "name": "stdout",
     "output_type": "stream",
     "text": [
      "119/119 [==============================] - 0s 1ms/step\n",
      "119/119 [==============================] - 0s 769us/step\n",
      "34.4\n",
      "1_0_1_51.wav\n"
     ]
    },
    {
     "name": "stderr",
     "output_type": "stream",
     "text": [
      "127.0.0.1 - - [28/Dec/2022 14:53:52] \"POST /fileUpload HTTP/1.1\" 302 -\n"
     ]
    },
    {
     "name": "stdout",
     "output_type": "stream",
     "text": [
      "119/119 [==============================] - 0s 1ms/step\n",
      "119/119 [==============================] - 0s 794us/step\n",
      "34.4\n",
      "1_0_1_51.wav\n"
     ]
    },
    {
     "name": "stderr",
     "output_type": "stream",
     "text": [
      "127.0.0.1 - - [28/Dec/2022 14:53:56] \"POST /fileUpload HTTP/1.1\" 302 -\n"
     ]
    },
    {
     "name": "stdout",
     "output_type": "stream",
     "text": [
      "119/119 [==============================] - 0s 989us/step\n",
      "119/119 [==============================] - 0s 828us/step\n",
      "34.4\n",
      "1_0_1_51.wav\n"
     ]
    },
    {
     "name": "stderr",
     "output_type": "stream",
     "text": [
      "127.0.0.1 - - [28/Dec/2022 14:54:11] \"POST /fileUpload HTTP/1.1\" 302 -\n"
     ]
    },
    {
     "name": "stdout",
     "output_type": "stream",
     "text": [
      "119/119 [==============================] - 0s 980us/step\n",
      "119/119 [==============================] - 0s 761us/step\n",
      "82.3\n",
      "1_0_1_54.wav\n"
     ]
    },
    {
     "name": "stderr",
     "output_type": "stream",
     "text": [
      "127.0.0.1 - - [28/Dec/2022 14:57:19] \"POST /fileUpload HTTP/1.1\" 302 -\n"
     ]
    },
    {
     "name": "stdout",
     "output_type": "stream",
     "text": [
      "119/119 [==============================] - 0s 1ms/step\n",
      "119/119 [==============================] - 0s 769us/step\n",
      "82.3\n",
      "1_0_1_54.wav\n"
     ]
    },
    {
     "name": "stderr",
     "output_type": "stream",
     "text": [
      "127.0.0.1 - - [28/Dec/2022 14:57:29] \"POST /fileUpload HTTP/1.1\" 302 -\n"
     ]
    },
    {
     "name": "stdout",
     "output_type": "stream",
     "text": [
      "119/119 [==============================] - 0s 997us/step\n",
      "119/119 [==============================] - 0s 769us/step\n",
      "89.4\n",
      "2_1_1_118.wav\n"
     ]
    },
    {
     "name": "stderr",
     "output_type": "stream",
     "text": [
      "127.0.0.1 - - [28/Dec/2022 14:59:19] \"POST /fileUpload HTTP/1.1\" 302 -\n"
     ]
    },
    {
     "name": "stdout",
     "output_type": "stream",
     "text": [
      "119/119 [==============================] - 0s 1ms/step\n",
      "119/119 [==============================] - 0s 887us/step\n",
      "56.1\n",
      "1_0_1_52.wav\n"
     ]
    },
    {
     "name": "stderr",
     "output_type": "stream",
     "text": [
      "127.0.0.1 - - [28/Dec/2022 15:44:28] \"POST /fileUpload HTTP/1.1\" 302 -\n"
     ]
    },
    {
     "name": "stdout",
     "output_type": "stream",
     "text": [
      "119/119 [==============================] - 0s 997us/step\n",
      "119/119 [==============================] - 0s 761us/step\n",
      "56.1\n",
      "1_0_1_52.wav\n"
     ]
    },
    {
     "name": "stderr",
     "output_type": "stream",
     "text": [
      "127.0.0.1 - - [28/Dec/2022 15:46:32] \"POST /fileUpload HTTP/1.1\" 302 -\n"
     ]
    },
    {
     "name": "stdout",
     "output_type": "stream",
     "text": [
      "119/119 [==============================] - 0s 997us/step\n",
      "119/119 [==============================] - 0s 752us/step\n",
      "34.4\n",
      "1_0_1_51.wav\n"
     ]
    },
    {
     "name": "stderr",
     "output_type": "stream",
     "text": [
      "127.0.0.1 - - [28/Dec/2022 15:46:57] \"POST /fileUpload HTTP/1.1\" 302 -\n"
     ]
    },
    {
     "name": "stdout",
     "output_type": "stream",
     "text": [
      "119/119 [==============================] - 0s 980us/step\n",
      "119/119 [==============================] - 0s 744us/step\n",
      "37.3\n",
      "1_0_1_617.wav\n"
     ]
    },
    {
     "name": "stderr",
     "output_type": "stream",
     "text": [
      "127.0.0.1 - - [28/Dec/2022 15:47:22] \"POST /fileUpload HTTP/1.1\" 302 -\n"
     ]
    },
    {
     "name": "stdout",
     "output_type": "stream",
     "text": [
      "119/119 [==============================] - 0s 980us/step\n",
      "119/119 [==============================] - 0s 786us/step\n",
      "37.3\n",
      "1_0_1_617.wav\n"
     ]
    },
    {
     "name": "stderr",
     "output_type": "stream",
     "text": [
      "127.0.0.1 - - [28/Dec/2022 15:48:26] \"POST /fileUpload HTTP/1.1\" 302 -\n"
     ]
    },
    {
     "name": "stdout",
     "output_type": "stream",
     "text": [
      "119/119 [==============================] - 0s 980us/step\n",
      "119/119 [==============================] - 0s 761us/step\n",
      "77.3\n",
      "3_0_1_65.wav\n"
     ]
    },
    {
     "name": "stderr",
     "output_type": "stream",
     "text": [
      "127.0.0.1 - - [28/Dec/2022 15:48:46] \"POST /fileUpload HTTP/1.1\" 302 -\n"
     ]
    },
    {
     "name": "stdout",
     "output_type": "stream",
     "text": [
      "119/119 [==============================] - 0s 1ms/step\n",
      "119/119 [==============================] - 0s 769us/step\n",
      "91.1\n",
      "192_0_2_21.wav\n"
     ]
    },
    {
     "name": "stderr",
     "output_type": "stream",
     "text": [
      "127.0.0.1 - - [28/Dec/2022 15:49:10] \"POST /fileUpload HTTP/1.1\" 302 -\n"
     ]
    },
    {
     "name": "stdout",
     "output_type": "stream",
     "text": [
      "119/119 [==============================] - 0s 972us/step\n",
      "119/119 [==============================] - 0s 761us/step\n",
      "90.7\n",
      "3_0_1_324.wav\n"
     ]
    },
    {
     "name": "stderr",
     "output_type": "stream",
     "text": [
      "127.0.0.1 - - [28/Dec/2022 15:49:40] \"POST /fileUpload HTTP/1.1\" 302 -\n"
     ]
    },
    {
     "name": "stdout",
     "output_type": "stream",
     "text": [
      "119/119 [==============================] - 0s 989us/step\n",
      "119/119 [==============================] - 0s 803us/step\n",
      "32.3\n",
      "1_0_1_62.wav\n"
     ]
    },
    {
     "name": "stderr",
     "output_type": "stream",
     "text": [
      "127.0.0.1 - - [28/Dec/2022 16:39:18] \"POST /fileUpload HTTP/1.1\" 302 -\n"
     ]
    },
    {
     "name": "stdout",
     "output_type": "stream",
     "text": [
      "119/119 [==============================] - 0s 1ms/step\n",
      "119/119 [==============================] - 0s 794us/step\n",
      "42.9\n",
      "1_0_1_65.wav\n"
     ]
    },
    {
     "name": "stderr",
     "output_type": "stream",
     "text": [
      "127.0.0.1 - - [28/Dec/2022 16:41:07] \"POST /fileUpload HTTP/1.1\" 302 -\n"
     ]
    },
    {
     "name": "stdout",
     "output_type": "stream",
     "text": [
      "119/119 [==============================] - 0s 989us/step\n",
      "119/119 [==============================] - 0s 778us/step\n",
      "88.0\n",
      "1_0_1_410.wav\n"
     ]
    },
    {
     "name": "stderr",
     "output_type": "stream",
     "text": [
      "127.0.0.1 - - [28/Dec/2022 16:44:23] \"POST /fileUpload HTTP/1.1\" 302 -\n"
     ]
    },
    {
     "name": "stdout",
     "output_type": "stream",
     "text": [
      "119/119 [==============================] - 0s 1ms/step\n",
      "119/119 [==============================] - 0s 828us/step\n",
      "99.0\n",
      "7_1_1_25.wav\n"
     ]
    },
    {
     "name": "stderr",
     "output_type": "stream",
     "text": [
      "127.0.0.1 - - [28/Dec/2022 16:50:09] \"POST /fileUpload HTTP/1.1\" 302 -\n"
     ]
    },
    {
     "name": "stdout",
     "output_type": "stream",
     "text": [
      "119/119 [==============================] - 0s 1ms/step\n",
      "119/119 [==============================] - 0s 752us/step\n",
      "77.9\n",
      "2_1_1_117.wav\n"
     ]
    },
    {
     "name": "stderr",
     "output_type": "stream",
     "text": [
      "127.0.0.1 - - [28/Dec/2022 16:50:34] \"POST /fileUpload HTTP/1.1\" 302 -\n"
     ]
    },
    {
     "name": "stdout",
     "output_type": "stream",
     "text": [
      "119/119 [==============================] - 0s 997us/step\n",
      "119/119 [==============================] - 0s 761us/step\n",
      "77.9\n",
      "2_1_1_117.wav\n"
     ]
    },
    {
     "name": "stderr",
     "output_type": "stream",
     "text": [
      "127.0.0.1 - - [28/Dec/2022 16:50:53] \"POST /fileUpload HTTP/1.1\" 302 -\n"
     ]
    },
    {
     "name": "stdout",
     "output_type": "stream",
     "text": [
      "119/119 [==============================] - 0s 1ms/step\n",
      "119/119 [==============================] - 0s 778us/step\n",
      "94.3\n",
      "7_1_1_114.wav\n"
     ]
    },
    {
     "name": "stderr",
     "output_type": "stream",
     "text": [
      "127.0.0.1 - - [28/Dec/2022 16:51:13] \"POST /fileUpload HTTP/1.1\" 302 -\n"
     ]
    },
    {
     "name": "stdout",
     "output_type": "stream",
     "text": [
      "119/119 [==============================] - 0s 1ms/step\n",
      "119/119 [==============================] - 0s 769us/step\n",
      "94.3\n",
      "7_1_1_114.wav\n"
     ]
    },
    {
     "name": "stderr",
     "output_type": "stream",
     "text": [
      "127.0.0.1 - - [28/Dec/2022 16:51:42] \"POST /fileUpload HTTP/1.1\" 302 -\n"
     ]
    },
    {
     "name": "stdout",
     "output_type": "stream",
     "text": [
      "119/119 [==============================] - 0s 1ms/step\n",
      "119/119 [==============================] - 0s 778us/step\n",
      "88.9\n",
      "192_0_2_19.wav\n"
     ]
    },
    {
     "name": "stderr",
     "output_type": "stream",
     "text": [
      "127.0.0.1 - - [28/Dec/2022 16:53:23] \"POST /fileUpload HTTP/1.1\" 302 -\n"
     ]
    },
    {
     "name": "stdout",
     "output_type": "stream",
     "text": [
      "119/119 [==============================] - 0s 1ms/step\n",
      "119/119 [==============================] - 0s 752us/step\n",
      "88.9\n",
      "192_0_2_19.wav\n"
     ]
    },
    {
     "name": "stderr",
     "output_type": "stream",
     "text": [
      "127.0.0.1 - - [28/Dec/2022 16:53:45] \"POST /fileUpload HTTP/1.1\" 302 -\n"
     ]
    },
    {
     "name": "stdout",
     "output_type": "stream",
     "text": [
      "119/119 [==============================] - 0s 1ms/step\n",
      "119/119 [==============================] - 0s 769us/step\n",
      "34.6\n",
      "1_0_1_51.wav\n"
     ]
    },
    {
     "name": "stderr",
     "output_type": "stream",
     "text": [
      "127.0.0.1 - - [28/Dec/2022 16:54:00] \"POST /fileUpload HTTP/1.1\" 302 -\n"
     ]
    },
    {
     "name": "stdout",
     "output_type": "stream",
     "text": [
      "119/119 [==============================] - 0s 1ms/step\n",
      "119/119 [==============================] - 0s 769us/step\n",
      "99.2\n",
      "3_0_1_52.wav\n"
     ]
    },
    {
     "name": "stderr",
     "output_type": "stream",
     "text": [
      "127.0.0.1 - - [28/Dec/2022 16:54:30] \"POST /fileUpload HTTP/1.1\" 302 -\n"
     ]
    },
    {
     "name": "stdout",
     "output_type": "stream",
     "text": [
      "119/119 [==============================] - 0s 964us/step\n",
      "119/119 [==============================] - 0s 752us/step\n",
      "86.9\n",
      "49_1_2_115.wav\n"
     ]
    },
    {
     "name": "stderr",
     "output_type": "stream",
     "text": [
      "127.0.0.1 - - [28/Dec/2022 16:56:07] \"POST /fileUpload HTTP/1.1\" 302 -\n"
     ]
    },
    {
     "name": "stdout",
     "output_type": "stream",
     "text": [
      "119/119 [==============================] - 0s 1ms/step\n",
      "119/119 [==============================] - 0s 769us/step\n",
      "86.2\n",
      "34_0_0_14.wav\n"
     ]
    },
    {
     "name": "stderr",
     "output_type": "stream",
     "text": [
      "127.0.0.1 - - [28/Dec/2022 16:57:26] \"POST /fileUpload HTTP/1.1\" 302 -\n"
     ]
    },
    {
     "name": "stdout",
     "output_type": "stream",
     "text": [
      "119/119 [==============================] - 0s 1ms/step\n",
      "119/119 [==============================] - 0s 820us/step\n",
      "86.2\n",
      "34_0_0_14.wav\n"
     ]
    },
    {
     "name": "stderr",
     "output_type": "stream",
     "text": [
      "127.0.0.1 - - [28/Dec/2022 16:58:17] \"POST /fileUpload HTTP/1.1\" 302 -\n"
     ]
    },
    {
     "name": "stdout",
     "output_type": "stream",
     "text": [
      "119/119 [==============================] - 0s 1ms/step\n",
      "119/119 [==============================] - 0s 862us/step\n",
      "91.2\n",
      "60_0_0_15.wav\n"
     ]
    },
    {
     "name": "stderr",
     "output_type": "stream",
     "text": [
      "127.0.0.1 - - [28/Dec/2022 16:58:46] \"POST /fileUpload HTTP/1.1\" 302 -\n"
     ]
    }
   ],
   "source": [
    "app = Flask(__name__)\n",
    "\n",
    "@app.route('/fileUpload', methods=['POST'])\n",
    "def rest_img_test():\n",
    "    if request.method == 'POST':\n",
    "        mb_id = request.form.get('mb_id')\n",
    "        rec_voice = request.form.get('rec_voice')\n",
    "        \n",
    "        rec_voice1 = rec_voice.replace('\\\\' , '/')\n",
    "       \n",
    "        data5.to_csv(\"./0.csv\") # 아이디 \n",
    "        file = open('0.csv', 'w', newline='')   # 회원 아이디로 scv 파일 오픈 \n",
    "        with file:\n",
    "            writer = csv.writer(file)\n",
    "            writer.writerow(header)\n",
    "        for filename in os.listdir(f'C:/Users/smhrd/git/carrotca/src/main/webapp/resources/files'):  # filename에 업로드한 파일 이름 \n",
    "            songname = f'{rec_voice1}'                                                          \n",
    "            y, sr = librosa.load(songname, mono=True, sr=16000)\n",
    "            chroma_stft = librosa.feature.chroma_stft(y=y, sr=16000)\n",
    "            rmse = librosa.feature.rms(y=y)\n",
    "            spec_cent = librosa.feature.spectral_centroid(y=y, sr=16000)\n",
    "            spec_bw = librosa.feature.spectral_bandwidth(y=y, sr=16000)\n",
    "            rolloff = librosa.feature.spectral_rolloff(y=y, sr=16000)\n",
    "            zcr = librosa.feature.zero_crossing_rate(y)\n",
    "            mfcc = librosa.feature.mfcc(y=y, sr=16000)\n",
    "            to_append = f'{filename} {np.mean(chroma_stft)} {np.mean(rmse)} {np.mean(spec_cent)} {np.mean(spec_bw)} {np.mean(rolloff)} {np.mean(zcr)}'    \n",
    "            for e in mfcc:\n",
    "                to_append += f' {np.mean(e)}'\n",
    "            file = open('0.csv', 'a', newline='')  # 회원 아이디로 scv 파일 오픈 \n",
    "            with file:\n",
    "                writer = csv.writer(file)\n",
    "                writer.writerow(to_append.split())\n",
    "        data_upload= pd.read_csv(\"0.csv\" )      # 회원 아이디 csv파일 오픈 \n",
    "        data_scaler = pd.read_csv(\"upload_scaler.csv\")\n",
    "        data_upload1=pd.concat([data_upload, data_scaler])\n",
    "        scaler = StandardScaler()\n",
    "        upload_scaler = scaler.fit_transform(data_upload1.iloc[:, 1:])\n",
    "        data_upload1.iloc[:,1:]=upload_scaler \n",
    "        data_upload2= data_upload1.iloc[0]\n",
    "        gender_prediction = model.predict(upload_scaler)\n",
    "        age_prediction = model6.predict(upload_scaler)\n",
    "        gender = []\n",
    "        age = []\n",
    "        for i in range(0, 1, 1):\n",
    "            gender.append(np.argmax(gender_prediction[i]))\n",
    "            age.append(np.argmax(age_prediction[i]))\n",
    "        data_upload[\"mfccmax\"]= data_upload.iloc[:, 7:].max(axis=1)\n",
    "        data_upload[\"mfccmin\"]= data_upload.iloc[:, 7:].min(axis=1)\n",
    "        data_upload[\"mfccmean\"]= data_upload.iloc[:, 7:].mean(axis=1)\n",
    "        data_upload[\"mfccvar\"]= data_upload.iloc[:, 7:].var(axis=1)\n",
    "        data_upload3=data_upload[['filename', 'mfccmax', 'mfccmin', 'mfccmean', 'mfccvar']]\n",
    "        scaler2 = pd.read_csv(\"upload_yoosa.csv\")  # 유사도 비교 csv파일 \n",
    "        data_upload4=pd.concat([data_upload3, scaler2])\n",
    "        scaler = StandardScaler()\n",
    "        yoosa_scaler = scaler.fit_transform(data_upload4.iloc[:, 1:])\n",
    "        data_upload4.iloc[:, 1:]= yoosa_scaler\n",
    "        data_upload_last= data_upload4.iloc[0, :]\n",
    "        yoosa_last= data_upload4.iloc[1:, :]\n",
    "        cos_sim_score=[]\n",
    "        filename_list=[]\n",
    "        number_list=[]\n",
    "        if (gender[0]==0 and age[0]==0):\n",
    "            for i in range(0, len(data_female_adult)):\n",
    "                filename_list.append(data_female_adult.iloc[i, 0]) \n",
    "                number_list.append(data_female_adult.iloc[i, 1]) \n",
    "                cos_sim_score.append(cos_sim(data_upload_last.iloc[1:], data_female_adult.iloc[i, 4:]))\n",
    "        elif (gender[0]==0 and age[0]==1):\n",
    "            for i in range(0,len(data_female_child)):\n",
    "                filename_list.append(data_female_child.iloc[i, 0]) \n",
    "                number_list.append(data_female_child.iloc[i, 1]) \n",
    "                cos_sim_score.append(cos_sim(data_upload_last.iloc[1:], data_female_child.iloc[i, 4:]))\n",
    "        elif (gender[0]==0 and age[0]==2):\n",
    "            for i in range(0,len(data_female_older)):\n",
    "                filename_list.append(data_female_older.iloc[i, 0]) \n",
    "                number_list.append(data_female_older.iloc[i, 1]) \n",
    "                cos_sim_score.append(cos_sim(data_upload_last.iloc[1:], data_female_older.iloc[i, 4:]))\n",
    "        elif (gender[0]==1 and age[0]==0):\n",
    "            for i in range(0,len(data_male_adult)):\n",
    "                filename_list.append(data_male_adult.iloc[i, 0]) \n",
    "                number_list.append(data_male_adult.iloc[i, 1]) \n",
    "                cos_sim_score.append(cos_sim(data_upload_last.iloc[1:], data_male_adult.iloc[i, 4:]))\n",
    "        elif (gender[0]==1 and age[0]==1):\n",
    "            for i in range(0,len(data_male_child)):\n",
    "                filename_list.append(data_male_child.iloc[i, 0]) \n",
    "                number_list.append(data_male_child.iloc[i, 1]) \n",
    "                cos_sim_score.append(cos_sim(data_upload_last.iloc[1:], data_male_child.iloc[i, 4:]))\n",
    "        else:\n",
    "            for i in range(0,len(data_male_older)):\n",
    "                filename_list.append(data_male_older.iloc[i, 0]) \n",
    "                number_list.append(data_male_older.iloc[i, 1]) \n",
    "                cos_sim_score.append(cos_sim(data_upload_last.iloc[1:], data_male_older.iloc[i, 4:]))\n",
    "        if gender[0]==0:\n",
    "            gender[0]='F'\n",
    "        else:\n",
    "            gender[0]='M'\n",
    "        if age[0]==0:\n",
    "            age[0]=\"A\"\n",
    "        elif age[0]==1:\n",
    "            age[0]='C'\n",
    "        else:\n",
    "            age[0]='O'\n",
    "        final_score = pd.DataFrame({'filename' : filename_list,   \"number\" :number_list , \"score\" : cos_sim_score  })\n",
    "        final_score2= final_score.sort_values(\"score\", ascending=False)\n",
    "        final_score3 = final_score2.drop_duplicates(\"number\").iloc[0:5, :]\n",
    "        first_filename = final_score3.iloc[0, 0]\n",
    "        first_number = final_score3.iloc[0, 1]\n",
    "        first_score = round(final_score3.iloc[0, 2]*100, 1)\n",
    "        second_filename = final_score3.iloc[1, 0]\n",
    "        second_number = final_score3.iloc[1, 1]\n",
    "        second_score = round(final_score3.iloc[1, 2]*100, 1)\n",
    "        third_filename = final_score3.iloc[2, 0]\n",
    "        third_number = final_score3.iloc[2, 1]\n",
    "        third_score = round(final_score3.iloc[2, 2]*100, 1)\n",
    "        fourth_filename = final_score3.iloc[3, 0]\n",
    "        fourth_number = final_score3.iloc[3, 1]\n",
    "        fourth_score = round(final_score3.iloc[3, 2]*100, 1)\n",
    "        fifth_filename = final_score3.iloc[4, 0]\n",
    "        fifth_number = final_score3.iloc[4, 1]\n",
    "        fifth_score = round(final_score3.iloc[4, 2]*100, 1)\n",
    "        print(first_score)\n",
    "        # mysql \n",
    "        a = rec_voice.split('\\\\')\n",
    "        print(a[-1])\n",
    "        \n",
    "        conn = pymysql.connect(host='project-db-stu.ddns.net', user='carrotca', password='carrotca', db='carrotca', charset='utf8', port=3307)\n",
    "        cursor = conn.cursor()\n",
    "        query = f\"INSERT INTO RECOMMEND (mb_id, rec_voice, rec_gender, rec_age, act_seq, rec_score, rec_recvoice) VALUE ( '{mb_id}', '{a[-1]}', '{gender[0]}','{age[0]}',{first_number}, {first_score}, '{first_filename}')\"\n",
    "        cursor.execute(query)\n",
    "        conn.commit()\n",
    "        conn.close()\n",
    "        conn = pymysql.connect(host='project-db-stu.ddns.net', user='carrotca', password='carrotca', db='carrotca', charset='utf8', port=3307)\n",
    "        cursor = conn.cursor()\n",
    "        query = f\"INSERT INTO RECOMMEND (mb_id, act_seq, rec_score, rec_recvoice) VALUE ( '{mb_id}', {second_number}, {second_score}, '{second_filename}')\"\n",
    "        cursor.execute(query)\n",
    "        conn.commit()\n",
    "        conn.close()\n",
    "        conn = pymysql.connect(host='project-db-stu.ddns.net', user='carrotca', password='carrotca', db='carrotca', charset='utf8', port=3307)\n",
    "        cursor = conn.cursor()\n",
    "        query = f\"INSERT INTO RECOMMEND (mb_id, act_seq, rec_score, rec_recvoice) VALUE ( '{mb_id}', {third_number}, {third_score}, '{third_filename}')\"\n",
    "        cursor.execute(query)\n",
    "        conn.commit()\n",
    "        conn.close()\n",
    "        conn = pymysql.connect(host='project-db-stu.ddns.net', user='carrotca', password='carrotca', db='carrotca', charset='utf8', port=3307)\n",
    "        cursor = conn.cursor()\n",
    "        query = f\"INSERT INTO RECOMMEND (mb_id, act_seq, rec_score, rec_recvoice) VALUE ( '{mb_id}', {fourth_number}, {fourth_score}, '{fourth_filename}')\"\n",
    "        cursor.execute(query)\n",
    "        conn.commit()\n",
    "        conn.close()\n",
    "        conn = pymysql.connect(host='project-db-stu.ddns.net', user='carrotca', password='carrotca', db='carrotca', charset='utf8', port=3307)\n",
    "        cursor = conn.cursor()\n",
    "        query = f\"INSERT INTO RECOMMEND (mb_id, act_seq, rec_score, rec_recvoice) VALUE ( '{mb_id}', {fifth_number}, {fifth_score}, '{fifth_filename}')\"\n",
    "        cursor.execute(query)\n",
    "        conn.commit()\n",
    "        conn.close()\n",
    "    return redirect(\"http://localhost:8081/controller/recommend.do?mb_id=\"+mb_id)\n",
    "if __name__ == \"__main__\":\n",
    "    app.run()\n",
    "\n",
    "\n"
   ]
  },
  {
   "cell_type": "code",
   "execution_count": null,
   "id": "1e7db749",
   "metadata": {},
   "outputs": [],
   "source": []
  },
  {
   "cell_type": "code",
   "execution_count": null,
   "id": "648f0c77",
   "metadata": {},
   "outputs": [],
   "source": []
  },
  {
   "cell_type": "code",
   "execution_count": null,
   "id": "71c54dd4",
   "metadata": {},
   "outputs": [],
   "source": []
  },
  {
   "cell_type": "code",
   "execution_count": null,
   "id": "2e9a2f20",
   "metadata": {},
   "outputs": [],
   "source": []
  },
  {
   "cell_type": "code",
   "execution_count": null,
   "id": "7d307c70",
   "metadata": {},
   "outputs": [],
   "source": []
  },
  {
   "cell_type": "code",
   "execution_count": 167,
   "id": "75e617e5",
   "metadata": {},
   "outputs": [
    {
     "data": {
      "text/html": [
       "<div>\n",
       "<style scoped>\n",
       "    .dataframe tbody tr th:only-of-type {\n",
       "        vertical-align: middle;\n",
       "    }\n",
       "\n",
       "    .dataframe tbody tr th {\n",
       "        vertical-align: top;\n",
       "    }\n",
       "\n",
       "    .dataframe thead th {\n",
       "        text-align: right;\n",
       "    }\n",
       "</style>\n",
       "<table border=\"1\" class=\"dataframe\">\n",
       "  <thead>\n",
       "    <tr style=\"text-align: right;\">\n",
       "      <th></th>\n",
       "      <th>filename</th>\n",
       "      <th>number</th>\n",
       "      <th>score</th>\n",
       "    </tr>\n",
       "  </thead>\n",
       "  <tbody>\n",
       "    <tr>\n",
       "      <th>86</th>\n",
       "      <td>23_1_0_615.wav</td>\n",
       "      <td>23</td>\n",
       "      <td>0.759012</td>\n",
       "    </tr>\n",
       "    <tr>\n",
       "      <th>200</th>\n",
       "      <td>62_1_0_27.wav</td>\n",
       "      <td>62</td>\n",
       "      <td>0.728606</td>\n",
       "    </tr>\n",
       "    <tr>\n",
       "      <th>112</th>\n",
       "      <td>41_1_0_12.wav</td>\n",
       "      <td>41</td>\n",
       "      <td>0.711439</td>\n",
       "    </tr>\n",
       "    <tr>\n",
       "      <th>160</th>\n",
       "      <td>57_1_0_210.wav</td>\n",
       "      <td>57</td>\n",
       "      <td>0.699177</td>\n",
       "    </tr>\n",
       "    <tr>\n",
       "      <th>35</th>\n",
       "      <td>175_1_0_23.wav</td>\n",
       "      <td>175</td>\n",
       "      <td>0.664775</td>\n",
       "    </tr>\n",
       "  </tbody>\n",
       "</table>\n",
       "</div>"
      ],
      "text/plain": [
       "           filename  number     score\n",
       "86   23_1_0_615.wav      23  0.759012\n",
       "200   62_1_0_27.wav      62  0.728606\n",
       "112   41_1_0_12.wav      41  0.711439\n",
       "160  57_1_0_210.wav      57  0.699177\n",
       "35   175_1_0_23.wav     175  0.664775"
      ]
     },
     "execution_count": 167,
     "metadata": {},
     "output_type": "execute_result"
    }
   ],
   "source": [
    "final_score3"
   ]
  },
  {
   "cell_type": "code",
   "execution_count": 52,
   "id": "93c27732",
   "metadata": {},
   "outputs": [],
   "source": [
    "A=[1,2,3]\n",
    "A[0]='M'"
   ]
  },
  {
   "cell_type": "code",
   "execution_count": 64,
   "id": "7ce532f0",
   "metadata": {
    "scrolled": true
   },
   "outputs": [
    {
     "name": "stdout",
     "output_type": "stream",
     "text": [
      "Requirement already satisfied: pymysql in c:\\users\\smhrd\\anaconda3\\lib\\site-packages (1.0.2)\n",
      "Note: you may need to restart the kernel to use updated packages.\n"
     ]
    }
   ],
   "source": [
    "pip install pymysql"
   ]
  },
  {
   "cell_type": "code",
   "execution_count": 56,
   "id": "5cf13230",
   "metadata": {},
   "outputs": [],
   "source": []
  },
  {
   "cell_type": "code",
   "execution_count": 58,
   "id": "54c6a4f1",
   "metadata": {},
   "outputs": [],
   "source": [
    "cursor = conn.cursor()"
   ]
  },
  {
   "cell_type": "code",
   "execution_count": null,
   "id": "23cdbb25",
   "metadata": {},
   "outputs": [],
   "source": [
    "query = \"INSERT INTO artist_genres (artist_id, genre) VALUE ('2345', 'rock')\"\n",
    "cursor.execute(query)\n",
    "conn.commit()"
   ]
  },
  {
   "cell_type": "code",
   "execution_count": null,
   "id": "326c220b",
   "metadata": {},
   "outputs": [],
   "source": []
  },
  {
   "cell_type": "code",
   "execution_count": null,
   "id": "980102a6",
   "metadata": {},
   "outputs": [],
   "source": []
  },
  {
   "cell_type": "code",
   "execution_count": null,
   "id": "af08a391",
   "metadata": {},
   "outputs": [],
   "source": [
    "data_upload = pd.read_csv(\"upload1.csv\" )"
   ]
  },
  {
   "cell_type": "code",
   "execution_count": 329,
   "id": "55391ad1",
   "metadata": {},
   "outputs": [],
   "source": [
    "data_scaler = pd.read_csv(\"upload_scaler.csv\")"
   ]
  },
  {
   "cell_type": "code",
   "execution_count": 330,
   "id": "583e66d6",
   "metadata": {},
   "outputs": [],
   "source": [
    "data_upload1=pd.concat([data_upload, data_scaler])"
   ]
  },
  {
   "cell_type": "code",
   "execution_count": 332,
   "id": "9a61c3bd",
   "metadata": {},
   "outputs": [],
   "source": [
    "scaler = StandardScaler()\n",
    "X4 = scaler.fit_transform(data_upload1.iloc[:, 1:])"
   ]
  },
  {
   "cell_type": "code",
   "execution_count": 333,
   "id": "5b4708b3",
   "metadata": {},
   "outputs": [],
   "source": [
    "data_upload1.iloc[:,1:]=X4 "
   ]
  },
  {
   "cell_type": "code",
   "execution_count": 334,
   "id": "3374fb46",
   "metadata": {},
   "outputs": [],
   "source": [
    "data_upload2= data_upload1.iloc[0]"
   ]
  },
  {
   "cell_type": "code",
   "execution_count": 336,
   "id": "d4325f9e",
   "metadata": {},
   "outputs": [
    {
     "name": "stdout",
     "output_type": "stream",
     "text": [
      "118/118 [==============================] - 0s 682us/step\n"
     ]
    }
   ],
   "source": [
    "predictions = model.predict(X4)\n",
    "gender_list = []\n",
    "for i in range(0, 1, 1):\n",
    "    gender_list.append(np.argmax(predictions[i]))"
   ]
  },
  {
   "cell_type": "code",
   "execution_count": 337,
   "id": "358fc399",
   "metadata": {
    "scrolled": true
   },
   "outputs": [
    {
     "data": {
      "text/plain": [
       "[0]"
      ]
     },
     "execution_count": 337,
     "metadata": {},
     "output_type": "execute_result"
    }
   ],
   "source": [
    "gender_list   # 0_  -> female   1---> male "
   ]
  },
  {
   "cell_type": "code",
   "execution_count": 338,
   "id": "a69ffad4",
   "metadata": {},
   "outputs": [
    {
     "name": "stdout",
     "output_type": "stream",
     "text": [
      "118/118 [==============================] - 0s 665us/step\n"
     ]
    }
   ],
   "source": [
    "predictions = model6.predict(X4)\n",
    "age_list = []\n",
    "for i in range(0, 1, 1):\n",
    "    age_list.append(np.argmax(predictions[i]))"
   ]
  },
  {
   "cell_type": "code",
   "execution_count": 339,
   "id": "f7f85e11",
   "metadata": {},
   "outputs": [
    {
     "data": {
      "text/plain": [
       "[0]"
      ]
     },
     "execution_count": 339,
     "metadata": {},
     "output_type": "execute_result"
    }
   ],
   "source": [
    "age_list    # 0 -> adult   1---> child  2---> older "
   ]
  },
  {
   "cell_type": "code",
   "execution_count": 359,
   "id": "29d714d7",
   "metadata": {},
   "outputs": [
    {
     "name": "stderr",
     "output_type": "stream",
     "text": [
      "C:\\Users\\smhrd\\AppData\\Local\\Temp\\ipykernel_17580\\1824534879.py:1: FutureWarning: Dropping of nuisance columns in DataFrame reductions (with 'numeric_only=None') is deprecated; in a future version this will raise TypeError.  Select only valid columns before calling the reduction.\n",
      "  data_upload[\"mfccmax\"]= data_upload.iloc[:, 7:].max(axis=1)\n",
      "C:\\Users\\smhrd\\AppData\\Local\\Temp\\ipykernel_17580\\1824534879.py:2: FutureWarning: Dropping of nuisance columns in DataFrame reductions (with 'numeric_only=None') is deprecated; in a future version this will raise TypeError.  Select only valid columns before calling the reduction.\n",
      "  data_upload[\"mfccmin\"]= data_upload.iloc[:, 7:].min(axis=1)\n"
     ]
    }
   ],
   "source": [
    "data_upload[\"mfccmax\"]= data_upload.iloc[:, 7:].max(axis=1)\n",
    "data_upload[\"mfccmin\"]= data_upload.iloc[:, 7:].min(axis=1)\n",
    "data_upload[\"mfccmean\"]= data_upload.iloc[:, 7:].mean(axis=1)\n",
    "data_upload[\"mfccvar\"]= data_upload.iloc[:, 7:].var(axis=1)"
   ]
  },
  {
   "cell_type": "code",
   "execution_count": 378,
   "id": "30dbfd10",
   "metadata": {},
   "outputs": [],
   "source": [
    " data_upload3=data_upload[['filename', 'mfccmax', 'mfccmin', 'mfccmean', 'mfccvar']]"
   ]
  },
  {
   "cell_type": "code",
   "execution_count": 379,
   "id": "6c2164de",
   "metadata": {},
   "outputs": [
    {
     "data": {
      "text/html": [
       "<div>\n",
       "<style scoped>\n",
       "    .dataframe tbody tr th:only-of-type {\n",
       "        vertical-align: middle;\n",
       "    }\n",
       "\n",
       "    .dataframe tbody tr th {\n",
       "        vertical-align: top;\n",
       "    }\n",
       "\n",
       "    .dataframe thead th {\n",
       "        text-align: right;\n",
       "    }\n",
       "</style>\n",
       "<table border=\"1\" class=\"dataframe\">\n",
       "  <thead>\n",
       "    <tr style=\"text-align: right;\">\n",
       "      <th></th>\n",
       "      <th>filename</th>\n",
       "      <th>mfccmax</th>\n",
       "      <th>mfccmin</th>\n",
       "      <th>mfccmean</th>\n",
       "      <th>mfccvar</th>\n",
       "    </tr>\n",
       "  </thead>\n",
       "  <tbody>\n",
       "    <tr>\n",
       "      <th>0</th>\n",
       "      <td>upload1.wav</td>\n",
       "      <td>60.180431</td>\n",
       "      <td>-438.050598</td>\n",
       "      <td>-38.938459</td>\n",
       "      <td>16295.333881</td>\n",
       "    </tr>\n",
       "  </tbody>\n",
       "</table>\n",
       "</div>"
      ],
      "text/plain": [
       "      filename    mfccmax     mfccmin   mfccmean       mfccvar\n",
       "0  upload1.wav  60.180431 -438.050598 -38.938459  16295.333881"
      ]
     },
     "execution_count": 379,
     "metadata": {},
     "output_type": "execute_result"
    }
   ],
   "source": [
    "data_upload3"
   ]
  },
  {
   "cell_type": "code",
   "execution_count": 381,
   "id": "ba900223",
   "metadata": {},
   "outputs": [],
   "source": [
    "scaler2 = pd.read_csv(\"upload_yoosa.csv\")"
   ]
  },
  {
   "cell_type": "code",
   "execution_count": 382,
   "id": "55f13f26",
   "metadata": {},
   "outputs": [],
   "source": [
    "data_upload4=pd.concat([data_upload3, scaler2])"
   ]
  },
  {
   "cell_type": "code",
   "execution_count": 383,
   "id": "b6b95362",
   "metadata": {},
   "outputs": [
    {
     "data": {
      "text/html": [
       "<div>\n",
       "<style scoped>\n",
       "    .dataframe tbody tr th:only-of-type {\n",
       "        vertical-align: middle;\n",
       "    }\n",
       "\n",
       "    .dataframe tbody tr th {\n",
       "        vertical-align: top;\n",
       "    }\n",
       "\n",
       "    .dataframe thead th {\n",
       "        text-align: right;\n",
       "    }\n",
       "</style>\n",
       "<table border=\"1\" class=\"dataframe\">\n",
       "  <thead>\n",
       "    <tr style=\"text-align: right;\">\n",
       "      <th></th>\n",
       "      <th>filename</th>\n",
       "      <th>mfccmax</th>\n",
       "      <th>mfccmin</th>\n",
       "      <th>mfccmean</th>\n",
       "      <th>mfccvar</th>\n",
       "    </tr>\n",
       "  </thead>\n",
       "  <tbody>\n",
       "    <tr>\n",
       "      <th>0</th>\n",
       "      <td>upload1.wav</td>\n",
       "      <td>60.180431</td>\n",
       "      <td>-438.050598</td>\n",
       "      <td>-38.938459</td>\n",
       "      <td>16295.333881</td>\n",
       "    </tr>\n",
       "    <tr>\n",
       "      <th>0</th>\n",
       "      <td>100_0_0_11.wav</td>\n",
       "      <td>38.457245</td>\n",
       "      <td>-403.592712</td>\n",
       "      <td>-19.664305</td>\n",
       "      <td>7912.139120</td>\n",
       "    </tr>\n",
       "    <tr>\n",
       "      <th>1</th>\n",
       "      <td>100_0_0_110.wav</td>\n",
       "      <td>30.631079</td>\n",
       "      <td>-332.663238</td>\n",
       "      <td>-21.042412</td>\n",
       "      <td>5306.272915</td>\n",
       "    </tr>\n",
       "    <tr>\n",
       "      <th>2</th>\n",
       "      <td>100_0_0_111.wav</td>\n",
       "      <td>23.444048</td>\n",
       "      <td>-397.296051</td>\n",
       "      <td>-21.193992</td>\n",
       "      <td>7534.980351</td>\n",
       "    </tr>\n",
       "    <tr>\n",
       "      <th>3</th>\n",
       "      <td>100_0_0_112.wav</td>\n",
       "      <td>12.783432</td>\n",
       "      <td>-471.662720</td>\n",
       "      <td>-25.380871</td>\n",
       "      <td>10515.691510</td>\n",
       "    </tr>\n",
       "    <tr>\n",
       "      <th>...</th>\n",
       "      <td>...</td>\n",
       "      <td>...</td>\n",
       "      <td>...</td>\n",
       "      <td>...</td>\n",
       "      <td>...</td>\n",
       "    </tr>\n",
       "    <tr>\n",
       "      <th>3748</th>\n",
       "      <td>99_0_1_212.wav</td>\n",
       "      <td>74.905708</td>\n",
       "      <td>-326.795288</td>\n",
       "      <td>-13.194208</td>\n",
       "      <td>5516.762923</td>\n",
       "    </tr>\n",
       "    <tr>\n",
       "      <th>3749</th>\n",
       "      <td>99_0_1_213.wav</td>\n",
       "      <td>79.792503</td>\n",
       "      <td>-295.132904</td>\n",
       "      <td>-11.614399</td>\n",
       "      <td>4638.911231</td>\n",
       "    </tr>\n",
       "    <tr>\n",
       "      <th>3750</th>\n",
       "      <td>99_0_1_310.wav</td>\n",
       "      <td>84.670357</td>\n",
       "      <td>-344.235413</td>\n",
       "      <td>-13.144262</td>\n",
       "      <td>6189.580732</td>\n",
       "    </tr>\n",
       "    <tr>\n",
       "      <th>3751</th>\n",
       "      <td>99_0_1_311.wav</td>\n",
       "      <td>58.850597</td>\n",
       "      <td>-414.925110</td>\n",
       "      <td>-16.847784</td>\n",
       "      <td>8547.568273</td>\n",
       "    </tr>\n",
       "    <tr>\n",
       "      <th>3752</th>\n",
       "      <td>99_0_1_312.wav</td>\n",
       "      <td>33.277130</td>\n",
       "      <td>-407.330353</td>\n",
       "      <td>-21.115103</td>\n",
       "      <td>7958.703032</td>\n",
       "    </tr>\n",
       "  </tbody>\n",
       "</table>\n",
       "<p>3754 rows × 5 columns</p>\n",
       "</div>"
      ],
      "text/plain": [
       "             filename    mfccmax     mfccmin   mfccmean       mfccvar\n",
       "0         upload1.wav  60.180431 -438.050598 -38.938459  16295.333881\n",
       "0      100_0_0_11.wav  38.457245 -403.592712 -19.664305   7912.139120\n",
       "1     100_0_0_110.wav  30.631079 -332.663238 -21.042412   5306.272915\n",
       "2     100_0_0_111.wav  23.444048 -397.296051 -21.193992   7534.980351\n",
       "3     100_0_0_112.wav  12.783432 -471.662720 -25.380871  10515.691510\n",
       "...               ...        ...         ...        ...           ...\n",
       "3748   99_0_1_212.wav  74.905708 -326.795288 -13.194208   5516.762923\n",
       "3749   99_0_1_213.wav  79.792503 -295.132904 -11.614399   4638.911231\n",
       "3750   99_0_1_310.wav  84.670357 -344.235413 -13.144262   6189.580732\n",
       "3751   99_0_1_311.wav  58.850597 -414.925110 -16.847784   8547.568273\n",
       "3752   99_0_1_312.wav  33.277130 -407.330353 -21.115103   7958.703032\n",
       "\n",
       "[3754 rows x 5 columns]"
      ]
     },
     "execution_count": 383,
     "metadata": {},
     "output_type": "execute_result"
    }
   ],
   "source": [
    "data_upload4"
   ]
  },
  {
   "cell_type": "code",
   "execution_count": 384,
   "id": "28591e7b",
   "metadata": {},
   "outputs": [],
   "source": [
    "scaler = StandardScaler()\n",
    "X5 = scaler.fit_transform(data_upload4.iloc[:, 1:])"
   ]
  },
  {
   "cell_type": "code",
   "execution_count": 386,
   "id": "98f40954",
   "metadata": {},
   "outputs": [],
   "source": [
    "data_upload4.iloc[:, 1:]= X5 "
   ]
  },
  {
   "cell_type": "code",
   "execution_count": 392,
   "id": "b68d6d52",
   "metadata": {},
   "outputs": [],
   "source": [
    "data_upload_last= data_upload4.iloc[0, :]\n",
    "yoosa_last= data_upload4.iloc[1:, :]"
   ]
  },
  {
   "cell_type": "code",
   "execution_count": 408,
   "id": "fa214f45",
   "metadata": {
    "scrolled": true
   },
   "outputs": [],
   "source": [
    "cos_sim_score=[]\n",
    "filename_list=[]\n",
    "number_list=[]\n",
    "for i in range(0, 1421):\n",
    "    filename_list.append(data_female_adult.iloc[i, 0]) \n",
    "    number_list.append(data_female_adult.iloc[i, 1]) \n",
    "    cos_sim_score.append(cos_sim(data_upload_last.iloc[1:], data_female_adult.iloc[i, 4:]))\n",
    "    "
   ]
  },
  {
   "cell_type": "code",
   "execution_count": 413,
   "id": "43a72d68",
   "metadata": {},
   "outputs": [],
   "source": [
    "final_score = pd.DataFrame({'filename' : filename_list,   \"number\" :number_list , \"score\" : cos_sim_score  })"
   ]
  },
  {
   "cell_type": "code",
   "execution_count": 423,
   "id": "cc1cc38b",
   "metadata": {},
   "outputs": [],
   "source": [
    "final_score2= final_score.sort_values(\"score\", ascending=False)"
   ]
  },
  {
   "cell_type": "code",
   "execution_count": 452,
   "id": "134d85ad",
   "metadata": {},
   "outputs": [],
   "source": [
    "final_score3 = final_score2.drop_duplicates(\"number\").iloc[0:5, :]"
   ]
  },
  {
   "cell_type": "code",
   "execution_count": 453,
   "id": "9ef2f3d5",
   "metadata": {},
   "outputs": [
    {
     "data": {
      "text/html": [
       "<div>\n",
       "<style scoped>\n",
       "    .dataframe tbody tr th:only-of-type {\n",
       "        vertical-align: middle;\n",
       "    }\n",
       "\n",
       "    .dataframe tbody tr th {\n",
       "        vertical-align: top;\n",
       "    }\n",
       "\n",
       "    .dataframe thead th {\n",
       "        text-align: right;\n",
       "    }\n",
       "</style>\n",
       "<table border=\"1\" class=\"dataframe\">\n",
       "  <thead>\n",
       "    <tr style=\"text-align: right;\">\n",
       "      <th></th>\n",
       "      <th>filename</th>\n",
       "      <th>number</th>\n",
       "      <th>score</th>\n",
       "    </tr>\n",
       "  </thead>\n",
       "  <tbody>\n",
       "    <tr>\n",
       "      <th>640</th>\n",
       "      <td>16_1_1_36.wav</td>\n",
       "      <td>16</td>\n",
       "      <td>0.939241</td>\n",
       "    </tr>\n",
       "    <tr>\n",
       "      <th>64</th>\n",
       "      <td>105_1_1_111.wav</td>\n",
       "      <td>105</td>\n",
       "      <td>0.857598</td>\n",
       "    </tr>\n",
       "    <tr>\n",
       "      <th>1315</th>\n",
       "      <td>82_1_1_36.wav</td>\n",
       "      <td>82</td>\n",
       "      <td>0.856630</td>\n",
       "    </tr>\n",
       "    <tr>\n",
       "      <th>234</th>\n",
       "      <td>141_1_1_16.wav</td>\n",
       "      <td>141</td>\n",
       "      <td>0.821588</td>\n",
       "    </tr>\n",
       "    <tr>\n",
       "      <th>1357</th>\n",
       "      <td>92_1_1_33.wav</td>\n",
       "      <td>92</td>\n",
       "      <td>0.814699</td>\n",
       "    </tr>\n",
       "  </tbody>\n",
       "</table>\n",
       "</div>"
      ],
      "text/plain": [
       "             filename  number     score\n",
       "640     16_1_1_36.wav      16  0.939241\n",
       "64    105_1_1_111.wav     105  0.857598\n",
       "1315    82_1_1_36.wav      82  0.856630\n",
       "234    141_1_1_16.wav     141  0.821588\n",
       "1357    92_1_1_33.wav      92  0.814699"
      ]
     },
     "execution_count": 453,
     "metadata": {},
     "output_type": "execute_result"
    }
   ],
   "source": [
    "final_score3"
   ]
  },
  {
   "cell_type": "code",
   "execution_count": 450,
   "id": "8fa1f664",
   "metadata": {},
   "outputs": [],
   "source": [
    "first_filename = final_score3.iloc[0, 0]\n",
    "first_number = final_score3.iloc[0, 1]\n",
    "first_score = round(final_score3.iloc[0, 2]*100, 1)\n",
    "second_filename = final_score3.iloc[1, 0]\n",
    "second_number = final_score3.iloc[1, 1]\n",
    "second_score = round(final_score3.iloc[1, 2]*100, 1)\n",
    "third_filename = final_score3.iloc[2, 0]\n",
    "third_number = final_score3.iloc[2, 1]\n",
    "third_score = round(final_score3.iloc[2, 2]*100, 1)\n",
    "fourth_filename = final_score3.iloc[3, 0]\n",
    "fourth_number = final_score3.iloc[3, 1]\n",
    "fourth_score = round(final_score3.iloc[3, 2]*100, 1)\n",
    "fifth_filename = final_score3.iloc[4, 0]\n",
    "fifth_number = final_score3.iloc[4, 1]\n",
    "fifth_score = round(final_score3.iloc[4, 2]*100, 1)\n"
   ]
  },
  {
   "cell_type": "code",
   "execution_count": 451,
   "id": "7e5e2697",
   "metadata": {},
   "outputs": [
    {
     "data": {
      "text/plain": [
       "81.5"
      ]
     },
     "execution_count": 451,
     "metadata": {},
     "output_type": "execute_result"
    }
   ],
   "source": [
    "#### sql insert 구문   아이디, 원본파일이름, 성별, 나이, 파일이름, 배우번호, 스코어 저장 "
   ]
  },
  {
   "cell_type": "code",
   "execution_count": null,
   "id": "67cf28d2",
   "metadata": {},
   "outputs": [],
   "source": [
    "#### 플라스크 위한 코드 종합정리 ####   일욜날 하자 힘들다 ㅎㅎㅎ "
   ]
  },
  {
   "cell_type": "code",
   "execution_count": null,
   "id": "3c3c1f13",
   "metadata": {},
   "outputs": [],
   "source": []
  },
  {
   "cell_type": "code",
   "execution_count": null,
   "id": "1492a2ef",
   "metadata": {},
   "outputs": [],
   "source": []
  },
  {
   "cell_type": "code",
   "execution_count": null,
   "id": "42ff9356",
   "metadata": {},
   "outputs": [],
   "source": []
  },
  {
   "cell_type": "code",
   "execution_count": null,
   "id": "9963dfb7",
   "metadata": {},
   "outputs": [],
   "source": []
  },
  {
   "cell_type": "code",
   "execution_count": null,
   "id": "7dd82ba1",
   "metadata": {},
   "outputs": [],
   "source": []
  },
  {
   "cell_type": "code",
   "execution_count": null,
   "id": "e3996983",
   "metadata": {},
   "outputs": [],
   "source": []
  },
  {
   "cell_type": "code",
   "execution_count": null,
   "id": "52c19d5a",
   "metadata": {},
   "outputs": [],
   "source": []
  },
  {
   "cell_type": "code",
   "execution_count": null,
   "id": "ac3caaff",
   "metadata": {},
   "outputs": [],
   "source": []
  },
  {
   "cell_type": "code",
   "execution_count": null,
   "id": "e9c09af5",
   "metadata": {},
   "outputs": [],
   "source": []
  },
  {
   "cell_type": "code",
   "execution_count": null,
   "id": "a48a46be",
   "metadata": {},
   "outputs": [],
   "source": []
  },
  {
   "cell_type": "code",
   "execution_count": null,
   "id": "9aaaa5ca",
   "metadata": {},
   "outputs": [],
   "source": []
  },
  {
   "cell_type": "code",
   "execution_count": null,
   "id": "89d815cb",
   "metadata": {},
   "outputs": [],
   "source": []
  },
  {
   "cell_type": "code",
   "execution_count": null,
   "id": "55d02700",
   "metadata": {},
   "outputs": [],
   "source": []
  }
 ],
 "metadata": {
  "kernelspec": {
   "display_name": "Python 3 (ipykernel)",
   "language": "python",
   "name": "python3"
  },
  "language_info": {
   "codemirror_mode": {
    "name": "ipython",
    "version": 3
   },
   "file_extension": ".py",
   "mimetype": "text/x-python",
   "name": "python",
   "nbconvert_exporter": "python",
   "pygments_lexer": "ipython3",
   "version": "3.9.12"
  },
  "toc": {
   "base_numbering": 1,
   "nav_menu": {},
   "number_sections": true,
   "sideBar": true,
   "skip_h1_title": false,
   "title_cell": "Table of Contents",
   "title_sidebar": "Contents",
   "toc_cell": false,
   "toc_position": {},
   "toc_section_display": true,
   "toc_window_display": false
  }
 },
 "nbformat": 4,
 "nbformat_minor": 5
}
